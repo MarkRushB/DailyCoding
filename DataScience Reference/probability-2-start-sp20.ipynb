{
 "cells": [
  {
   "cell_type": "markdown",
   "metadata": {
    "button": false,
    "new_sheet": false,
    "run_control": {
     "read_only": false
    }
   },
   "source": [
    "<div style=\"text-align: right\">INFO 6105 Data Sci Engineering Methods and Tools, Week 4 Lecture 2</div>\n",
    "<div style=\"text-align: right\">Dino Konstantopoulos, 29 January 2020, with material from Cam Davidson-Pilon</div>\n",
    "\n",
    "At the end of this lecture, you should a good understanding of probability distributions, how to estimate probabilities for different outcomes and sample spaces, and how to use Bayes' theorem to answer typical interview questions involving probabilities, and become curious about Formula 1 racing.\n",
    "\n"
   ]
  },
  {
   "cell_type": "markdown",
   "metadata": {
    "button": false,
    "new_sheet": false,
    "run_control": {
     "read_only": false
    }
   },
   "source": [
    "* * * \n",
    "# Introduction to Probability Distributions\n",
    "\n",
    "<br />\n",
    "<center>\n",
    "<img src=\"http://statistics.wdfiles.com/local--files/ch6/binomial.png\" width=\"400\" />\n",
    "Binomial\n",
    "</center>\n",
    "\n",
    "So far, we have made the assumption that every outcome in a sample space (urn) is ***equally likely***: Same probability to select White ball \\#1 as Red ball \\#5. \n",
    "\n",
    ">**Recall**: A probability is a **fraction** where the numerator is sum of all *favorable* outcomes, and the denominator the sum of all *possible* outcomes.\n",
    "\n",
    "In real life, we often get outcomes that are not **equiprobable**. Foe example, White ball versus Red ball. For another example, the probability of a child being a girl is not exactly 1/2, and the probability is slightly different for a second child. \n",
    "\n",
    "An [article](http://people.kzoo.edu/barth/math105/moreboys.pdf) (good Data Science article, you should read it) gives the following *counts* for two-child families in Denmark, where `GB` means a family where the first child is a girl and the second a boy:\n",
    "\n",
    "    GG: 121801    GB: 126840\n",
    "    BG: 127123    BB: 135138\n",
    "    \n",
    "Because of this fact (not all urns yield Blue/Red/White *numbered* balls with equiprobable chances), we need to introduce three more definitions:\n",
    "\n",
    "* [Frequency](https://en.wikipedia.org/wiki/Frequency_%28statistics%29): a number describing how often an outcome occurs. Can be a count like 121801, or a ratio like 0.515.\n",
    "\n",
    "* [Distribution](http://mathworld.wolfram.com/StatisticalDistribution.html): A mapping from outcome to frequency for each possible outcome in a sample space. \n",
    "\n",
    "* [Probability Distribution](https://en.wikipedia.org/wiki/Probability_distribution): The distribution above, which has been *normalized* so that the sum of the frequencies is 1.\n",
    "\n",
    "Here is an example of a ***super-popular*** probability distribution:\n",
    "* The binomial distribution is frequently used to model the number of successes in a sample of size n drawn with replacement from a population of size N. It is parametrized by p and is the discrete probability distribution of the number of `yes`es in a sequence of n independent experiments *with replacement*, each asking a `yes/no` question, and each with its own boolean-valued outcome: a random variable containing a single bit of information: `yes` (with probability p) or `no` (with probability q = 1 − p)\n",
    "\n",
    "* A single `yes/no` experiment is also called a *Bernoulli trial* or *Bernoulli experiment* and a sequence of outcomes is called a *Bernoulli process*\n",
    "\n",
    "* For a single trial, i.e., n = 1, the binomial distribution is a Bernoulli distribution. \n",
    "\n",
    "So now we need to modify our awesome probability counting `p()` function (which takes each event as **equiprobable**) to take this miserable fact into account. Essentially, it's as if each *numbered ball* comes with its *own* probability of being picked. So we will need to use probability **dictionaries**.\n",
    "\n",
    "<center>\n",
    "    <img src=\"images/miserable.png\" width=300 />\n",
    "</center>"
   ]
  },
  {
   "cell_type": "code",
   "execution_count": 2,
   "metadata": {},
   "outputs": [
    {
     "data": {
      "image/png": "[encoded data removed]",
      "text/plain": [
       "<Figure size 360x270 with 1 Axes>"
      ]
     },
     "metadata": {
      "needs_background": "light"
     },
     "output_type": "display_data"
    }
   ],
   "source": [
    "# first, let's plot a few binomial distributions\n",
    "# n and p are exactly as defined above\n",
    "import numpy as np\n",
    "from scipy.stats import binom\n",
    "from matplotlib import pyplot as plt\n",
    "%matplotlib inline\n",
    "\n",
    "n_values = [20, 25, 40]\n",
    "p_values = [0.2, 0.6, 0.6]\n",
    "x = np.arange(0, 50)\n",
    "\n",
    "fig, ax = plt.subplots(figsize=(5, 3.75))\n",
    "\n",
    "for (n, p) in zip(n_values, p_values):\n",
    "    # create a binomial distribution\n",
    "    dist = binom(n, p)\n",
    "\n",
    "    plt.plot(x, dist.pmf(x))"
   ]
  },
  {
   "cell_type": "markdown",
   "metadata": {},
   "source": [
    "And for that, we need to digress a bit..\n",
    "\n",
    "In Python, `*args` and `**kwargs` is a common idiom to allow ***arbitrary number of arguments*** to functions. `*args` will give you all function parameters as a tuple, `**kwargs` will give you all keyword arguments (except those corresponding to a formal parameter) as a dictionary:\n",
    "```python\n",
    "def foo(*args):\n",
    "    for a in args:\n",
    "    print a\n",
    "        \n",
    "def bar(**kwargs):\n",
    "    for a in kwargs:\n",
    "        print a, kwargs[a]\n",
    "```"
   ]
  },
  {
   "cell_type": "markdown",
   "metadata": {},
   "source": [
    "Let’s say we want to create a higher-order function that takes as input some function $f$ and returns a new function that for any input returns *twice* the value of $f$:"
   ]
  },
  {
   "cell_type": "code",
   "execution_count": 3,
   "metadata": {},
   "outputs": [],
   "source": [
    "def doubler(f):\n",
    "  def g(x):\n",
    "    return 2 * f(x)\n",
    "  return g"
   ]
  },
  {
   "cell_type": "markdown",
   "metadata": {},
   "source": [
    "It works in most cases:"
   ]
  },
  {
   "cell_type": "code",
   "execution_count": 4,
   "metadata": {},
   "outputs": [
    {
     "name": "stdout",
     "output_type": "stream",
     "text": [
      "8\n"
     ]
    }
   ],
   "source": [
    "def f_plus_1(x):\n",
    "  return x + 1;\n",
    "\n",
    "g = doubler(f_plus_1)\n",
    "print(g(3))  # 8 = (3 + 1) * 2"
   ]
  },
  {
   "cell_type": "markdown",
   "metadata": {},
   "source": [
    "Now try this:"
   ]
  },
  {
   "cell_type": "code",
   "execution_count": 5,
   "metadata": {},
   "outputs": [
    {
     "ename": "TypeError",
     "evalue": "g() takes 1 positional argument but 2 were given",
     "output_type": "error",
     "traceback": [
      "\u001b[0;31m---------------------------------------------------------------------------\u001b[0m",
      "\u001b[0;31mTypeError\u001b[0m                                 Traceback (most recent call last)",
      "\u001b[0;32m<ipython-input-5-b85af486a38d>\u001b[0m in \u001b[0;36m<module>\u001b[0;34m\u001b[0m\n\u001b[1;32m      3\u001b[0m \u001b[0;34m\u001b[0m\u001b[0m\n\u001b[1;32m      4\u001b[0m \u001b[0mg\u001b[0m \u001b[0;34m=\u001b[0m \u001b[0mdoubler\u001b[0m\u001b[0;34m(\u001b[0m\u001b[0msum2\u001b[0m\u001b[0;34m)\u001b[0m\u001b[0;34m\u001b[0m\u001b[0;34m\u001b[0m\u001b[0m\n\u001b[0;32m----> 5\u001b[0;31m \u001b[0mprint\u001b[0m\u001b[0;34m(\u001b[0m\u001b[0mg\u001b[0m\u001b[0;34m(\u001b[0m\u001b[0;36m1\u001b[0m\u001b[0;34m,\u001b[0m\u001b[0;36m2\u001b[0m\u001b[0;34m)\u001b[0m\u001b[0;34m)\u001b[0m \u001b[0;31m#TypeError!\u001b[0m\u001b[0;34m\u001b[0m\u001b[0;34m\u001b[0m\u001b[0m\n\u001b[0m",
      "\u001b[0;31mTypeError\u001b[0m: g() takes 1 positional argument but 2 were given"
     ]
    }
   ],
   "source": [
    "def sum2(x, y):\n",
    "  return x + y;\n",
    "\n",
    "g = doubler(sum2)\n",
    "print(g(1,2)) #TypeError!"
   ]
  },
  {
   "cell_type": "markdown",
   "metadata": {},
   "source": [
    "Oopsie!\n",
    "\n",
    "What we need is a way to specify a function that takes *arbitrary arguments*. This is where Python's `*args` and `**kwargs` come into play:"
   ]
  },
  {
   "cell_type": "code",
   "execution_count": 6,
   "metadata": {},
   "outputs": [
    {
     "name": "stdout",
     "output_type": "stream",
     "text": [
      "unnamed args:  (1, 2, 3)\n",
      "keyword args:  {'key1': 'NU', 'key2': 'rocks!'}\n"
     ]
    }
   ],
   "source": [
    "def magic(*args, **kwargs):\n",
    "  print (\"unnamed args: \", args)\n",
    "  print (\"keyword args: \", kwargs)\n",
    "magic(1, 2, 3, key1 = 'NU', key2 = 'rocks!')"
   ]
  },
  {
   "cell_type": "markdown",
   "metadata": {},
   "source": [
    "<br />\n",
    "<center>\n",
    "    <img src=\"ipynb.images/magic.png\" width=300 />**Ohhhhhhhhhhhh**</a><br>Ni zheng bing!\n",
    "</center>"
   ]
  },
  {
   "cell_type": "markdown",
   "metadata": {},
   "source": [
    "args is a `tuple` of its unnamed arguments and kwargs is a `dictionary` of its named arguments. So now we can:"
   ]
  },
  {
   "cell_type": "code",
   "execution_count": 7,
   "metadata": {},
   "outputs": [],
   "source": [
    "def doublerr(f):\n",
    "  \"\"\"works no matter the inputs\"\"\"\n",
    "  def g(*args, **kwargs):\n",
    "    \"\"\"pass all arguments to f\"\"\"\n",
    "    return 2 * f(*args, **kwargs)\n",
    "  return g"
   ]
  },
  {
   "cell_type": "markdown",
   "metadata": {},
   "source": [
    "and now:"
   ]
  },
  {
   "cell_type": "code",
   "execution_count": 8,
   "metadata": {},
   "outputs": [
    {
     "ename": "TypeError",
     "evalue": "'int' object is not iterable",
     "output_type": "error",
     "traceback": [
      "\u001b[0;31m---------------------------------------------------------------------------\u001b[0m",
      "\u001b[0;31mTypeError\u001b[0m                                 Traceback (most recent call last)",
      "\u001b[0;32m<ipython-input-8-2e62e5c0952b>\u001b[0m in \u001b[0;36m<module>\u001b[0;34m\u001b[0m\n\u001b[1;32m      1\u001b[0m \u001b[0mg\u001b[0m \u001b[0;34m=\u001b[0m \u001b[0mdoublerr\u001b[0m\u001b[0;34m(\u001b[0m\u001b[0msum\u001b[0m\u001b[0;34m)\u001b[0m\u001b[0;34m\u001b[0m\u001b[0;34m\u001b[0m\u001b[0m\n\u001b[0;32m----> 2\u001b[0;31m \u001b[0mprint\u001b[0m\u001b[0;34m(\u001b[0m\u001b[0mg\u001b[0m\u001b[0;34m(\u001b[0m\u001b[0;36m1\u001b[0m\u001b[0;34m,\u001b[0m \u001b[0;36m2\u001b[0m\u001b[0;34m)\u001b[0m\u001b[0;34m)\u001b[0m  \u001b[0;31m# 6:\u001b[0m\u001b[0;34m\u001b[0m\u001b[0;34m\u001b[0m\u001b[0m\n\u001b[0m",
      "\u001b[0;32m<ipython-input-7-0a4e848ac640>\u001b[0m in \u001b[0;36mg\u001b[0;34m(*args, **kwargs)\u001b[0m\n\u001b[1;32m      3\u001b[0m   \u001b[0;32mdef\u001b[0m \u001b[0mg\u001b[0m\u001b[0;34m(\u001b[0m\u001b[0;34m*\u001b[0m\u001b[0margs\u001b[0m\u001b[0;34m,\u001b[0m \u001b[0;34m**\u001b[0m\u001b[0mkwargs\u001b[0m\u001b[0;34m)\u001b[0m\u001b[0;34m:\u001b[0m\u001b[0;34m\u001b[0m\u001b[0;34m\u001b[0m\u001b[0m\n\u001b[1;32m      4\u001b[0m     \u001b[0;34m\"\"\"pass all arguments to f\"\"\"\u001b[0m\u001b[0;34m\u001b[0m\u001b[0;34m\u001b[0m\u001b[0m\n\u001b[0;32m----> 5\u001b[0;31m     \u001b[0;32mreturn\u001b[0m \u001b[0;36m2\u001b[0m \u001b[0;34m*\u001b[0m \u001b[0mf\u001b[0m\u001b[0;34m(\u001b[0m\u001b[0;34m*\u001b[0m\u001b[0margs\u001b[0m\u001b[0;34m,\u001b[0m \u001b[0;34m**\u001b[0m\u001b[0mkwargs\u001b[0m\u001b[0;34m)\u001b[0m\u001b[0;34m\u001b[0m\u001b[0;34m\u001b[0m\u001b[0m\n\u001b[0m\u001b[1;32m      6\u001b[0m   \u001b[0;32mreturn\u001b[0m \u001b[0mg\u001b[0m\u001b[0;34m\u001b[0m\u001b[0;34m\u001b[0m\u001b[0m\n",
      "\u001b[0;31mTypeError\u001b[0m: 'int' object is not iterable"
     ]
    }
   ],
   "source": [
    "g = doublerr(sum)\n",
    "print(g(1, 2))  # 6:"
   ]
  },
  {
   "cell_type": "code",
   "execution_count": 9,
   "metadata": {
    "button": false,
    "new_sheet": false,
    "run_control": {
     "read_only": false
    }
   },
   "outputs": [],
   "source": [
    "class ProbDist(dict):\n",
    "    \"\"\"A Probability Distribution; an {outcome: probability} mapping.\"\"\"\n",
    "    def __init__(self, mapping=(), **kwargs):\n",
    "        self.update(mapping, **kwargs)\n",
    "        # Make probabilities sum to 1.0; assert no negative probabilities\n",
    "        total = sum(self.values())\n",
    "        for outcome in self:\n",
    "            self[outcome] = self[outcome] / total\n",
    "            assert self[outcome] >= 0"
   ]
  },
  {
   "cell_type": "markdown",
   "metadata": {
    "button": false,
    "new_sheet": false,
    "run_control": {
     "read_only": false
    }
   },
   "source": [
    "We also need to modify the functions `p` and `such_that` to accept either a sample space as we had previously, or a probability distribution as the second argument `space`. \n",
    "\n",
    ">**Oh-oh**: Now we need to branch out on the ***2nd argument** of function `p`!\n",
    "\n",
    "If we have a probability distribution, instead of *counting* each possible outcome equiprobably and thus just summing up `1`s (numerator: sum of all *favorable* outcomes, denominator: sum of all *possible* outcomes), we need to sum up the different discrete probabilities of each possible outcome: `sum(space[o] for o in space if o in event)`. \n",
    "\n",
    "We also need to modify `such_that()`, which is the set of all outcomes of our sample space for which the predicate (first) argument is `True`, so that its second argument can also be a `ProbDist`."
   ]
  },
  {
   "cell_type": "code",
   "execution_count": 10,
   "metadata": {
    "button": false,
    "new_sheet": false,
    "run_control": {
     "read_only": false
    }
   },
   "outputs": [],
   "source": [
    "def p(event, space): \n",
    "    \"\"\"The probability of an event, given a sample space of equiprobable outcomes. \n",
    "    event: a collection of outcomes, or a predicate that is true of outcomes in the event. \n",
    "    space: a set of outcomes or a probability distribution of {outcome: frequency} pairs.\"\"\"\n",
    "    if is_predicate(event):\n",
    "        event = such_that(event, space)\n",
    "    if isinstance(space, ProbDist):\n",
    "        return sum(space[o] for o in space if o in event)\n",
    "    else:\n",
    "        return Fraction(len(event & space), len(space))\n",
    "\n",
    "is_predicate = callable\n",
    "\n",
    "def such_that(predicate, space): \n",
    "    \"\"\"The outcomes in the sample pace for which the predicate is true.\n",
    "    If space is a set, return a subset {outcome,...} with outcomes where predicate(element) is true;\n",
    "    if space is a ProbDist, return a ProbDist {outcome: frequency,...} with outcomes where predicate(element) is true.\"\"\"\n",
    "    if isinstance(space, ProbDist):\n",
    "        return ProbDist({o:space[o] for o in space if predicate(o)})\n",
    "    else:\n",
    "        return {o for o in space if predicate(o)}"
   ]
  },
  {
   "cell_type": "markdown",
   "metadata": {
    "button": false,
    "new_sheet": false,
    "run_control": {
     "read_only": false
    }
   },
   "source": [
    "And now we can finally take on the Danes!\n",
    "<br />\n",
    "<center>\n",
    "    <img src=\"images/Danes.png\" width=300 />\n",
    "</center>\n",
    "\n",
    "Here is the probability distribution for Danish two-child families as a dictionary describing the probability of each possible outcome:"
   ]
  },
  {
   "cell_type": "code",
   "execution_count": 11,
   "metadata": {
    "button": false,
    "new_sheet": false,
    "run_control": {
     "read_only": false
    }
   },
   "outputs": [
    {
     "data": {
      "text/plain": [
       "{'GG': 0.23840384261560926,\n",
       " 'GB': 0.24826679089140383,\n",
       " 'BG': 0.24882071317004043,\n",
       " 'BB': 0.2645086533229465}"
      ]
     },
     "execution_count": 11,
     "metadata": {},
     "output_type": "execute_result"
    }
   ],
   "source": [
    "DK = ProbDist(GG=121801, GB=126840,\n",
    "              BG=127123, BB=135138)\n",
    "DK"
   ]
  },
  {
   "cell_type": "markdown",
   "metadata": {
    "button": false,
    "new_sheet": false,
    "run_control": {
     "read_only": false
    }
   },
   "source": [
    "Let's write some useful predicates (lambdas):\n",
    "```python\n",
    "def first_girl(outcome):  return outcome[0] == 'G'\n",
    "def first_boy(outcome):   return outcome[0] == 'B'\n",
    "def second_girl(outcome): return outcome[1] == 'G'\n",
    "def second_boy(outcome):  return outcome[1] == 'B'\n",
    "def two_girls(outcome):   return outcome    == 'GG'\n",
    "```\n",
    "Using these predicates, answer the following questions:\n",
    "\n",
    "* What's the probability for a girl, and is it higher or lower for a second girl?\n",
    "* Is the sex of the second child more likely or less likely to be the same as the first child?\n",
    "\n",
    "*Hint:* You will leverage `p(first_girl, DK)`, `p(second_girl, DK)`, `p(second_girl, such_that(first_girl, DK))`, and `p(second_girl, such_that(first_boy, DK))`"
   ]
  },
  {
   "cell_type": "code",
   "execution_count": 12,
   "metadata": {
    "button": false,
    "new_sheet": false,
    "run_control": {
     "read_only": false
    }
   },
   "outputs": [
    {
     "data": {
      "text/plain": [
       "{'GG': 0.4898669165584115, 'GB': 0.5101330834415885}"
      ]
     },
     "execution_count": 12,
     "metadata": {},
     "output_type": "execute_result"
    }
   ],
   "source": [
    "def first_girl(outcome):  return outcome[0] == 'G'\n",
    "def first_boy(outcome):   return outcome[0] == 'B'\n",
    "def second_girl(outcome): return outcome[1] == 'G'\n",
    "def second_boy(outcome):  return outcome[1] == 'B'\n",
    "def two_girls(outcome):   return outcome    == 'GG'\n",
    "such_that(first_girl,DK)"
   ]
  },
  {
   "cell_type": "code",
   "execution_count": 13,
   "metadata": {},
   "outputs": [
    {
     "data": {
      "text/plain": [
       "{'GG': 0.4898669165584115, 'GB': 0.5101330834415885}"
      ]
     },
     "execution_count": 13,
     "metadata": {},
     "output_type": "execute_result"
    }
   ],
   "source": [
    "such_that(first_girl, DK)"
   ]
  },
  {
   "cell_type": "code",
   "execution_count": 14,
   "metadata": {},
   "outputs": [
    {
     "data": {
      "text/plain": [
       "0.23840384261560926"
      ]
     },
     "execution_count": 14,
     "metadata": {},
     "output_type": "execute_result"
    }
   ],
   "source": [
    "p(two_girls, DK)"
   ]
  },
  {
   "cell_type": "markdown",
   "metadata": {},
   "source": [
    "The above says that the probability of a girl is somewhere between 48% and 49%, but that it is slightly different between the first or second child.\n",
    "\n",
    "Now answer the question as to whether the sex of the second child is *more likely* or *less likely* to be the same as the first child, by evaluating first:\n",
    "\n",
    "- The probability of a second girl given that the first child was a girl (a joint probability)\n",
    "- The probability of a second girl given that the first child was a boy (a joint probability)\n",
    "- The probability of a second boy given that the first child was a boy (a joint probability)\n",
    "- The probability of a second boy given that the first child was a girl (a joint probability)\n",
    "\n",
    "The average of the first two probabilities above represents the probability of a second girl, a [**marginal probability**](https://en.wikipedia.org/wiki/Marginal_distribution) in our problem.\n",
    "\n",
    "The avergage of the last two probabilities above represents the probability of a second boy, a **marginal probability** in our problem."
   ]
  },
  {
   "cell_type": "code",
   "execution_count": 15,
   "metadata": {},
   "outputs": [
    {
     "data": {
      "text/plain": [
       "(0.4898669165584115, 0.48471942072973107)"
      ]
     },
     "execution_count": 15,
     "metadata": {},
     "output_type": "execute_result"
    }
   ],
   "source": [
    "p(second_girl, such_that(first_girl, DK)), p(second_girl, such_that(first_boy, DK))"
   ]
  },
  {
   "cell_type": "code",
   "execution_count": 16,
   "metadata": {},
   "outputs": [
    {
     "data": {
      "text/plain": [
       "(0.5101330834415885, 0.5152805792702689)"
      ]
     },
     "execution_count": 16,
     "metadata": {},
     "output_type": "execute_result"
    }
   ],
   "source": [
    "p(second_boy, such_that(first_girl, DK)), p(second_boy, such_that(first_boy, DK))"
   ]
  },
  {
   "cell_type": "markdown",
   "metadata": {},
   "source": [
    "The above says that the sex of the second child is more likely to be the same as the first child, by about 1/2 a percentage point."
   ]
  },
  {
   "cell_type": "markdown",
   "metadata": {
    "button": false,
    "new_sheet": false,
    "run_control": {
     "read_only": false
    }
   },
   "source": [
    "You should find that the probability of a girl is somewhere between 48% and 49%, but slightly different between the first or second child, and that the sex of the second child is more likely to be the same as the first child, by about 1/2 a percentage point."
   ]
  },
  {
   "cell_type": "markdown",
   "metadata": {
    "button": false,
    "new_sheet": false,
    "run_control": {
     "read_only": false
    }
   },
   "source": [
    "# 6. M&Ms and Bayes\n",
    "<br />\n",
    "<center>\n",
    "<img src=\"https://upload.wikimedia.org/wikipedia/en/9/97/M%26M_spokescandies.jpeg\" />\n",
    "</center>\n",
    "\n",
    "Here's another classic urn problem (or \"bag\" problem) [from](http://allendowney.blogspot.com/2011/10/my-favorite-bayess-theorem-problems.html) prolific Python/Probability author [Allen Downey ](http://allendowney.blogspot.com/), which also happens to be a classic interview question:\n",
    "\n",
    "> The blue M&M was introduced in 1995.  Before then, the color mix in a bag of plain M&Ms was (30% Brown, 20% Yellow, 20% Red, 10% Green, 10% Orange, 10% Tan).  Afterward it was (24% Blue , 20% Green, 16% Orange, 14% Yellow, 13% Red, 13% Brown). \n",
    "A friend of mine has two bags of M&Ms, and he tells me that one is from 1994 and one from 1996.  He won't tell me which is which, but he gives me one M&M from each bag.  One is yellow and one is green.  What is the probability that the yellow M&M came from the 1994 bag? Well, the old M&M bags' yellow count was higher, so it must be higher, right? But how to count?\n",
    "\n",
    "To solve this problem, we'll first represent probability distributions for each bag: `bag94` and `bag96`, by using `ProbDist` and passing in dictionaries for each year:\n",
    "```python\n",
    "bag94 = ProbDist(brown=30, yellow=20, red=20, green=10, orange=10, tan=10)\n",
    "bag96 = ProbDist(...)  #fill this in, please\n",
    "```"
   ]
  },
  {
   "cell_type": "code",
   "execution_count": 17,
   "metadata": {
    "button": false,
    "new_sheet": false,
    "run_control": {
     "read_only": false
    }
   },
   "outputs": [],
   "source": [
    "bag94 = ProbDist(brown=30, yellow=20, red=20, green=10, orange=10, tan=10)\n",
    "bag96 = ProbDist(blue=24, green=20, orange=16, yellow=14, red=13, brown=13)"
   ]
  },
  {
   "cell_type": "markdown",
   "metadata": {
    "button": false,
    "new_sheet": false,
    "run_control": {
     "read_only": false
    }
   },
   "source": [
    "Next, define `MM` as the *joint* distribution 94-96&mdash;the sample space for picking *one* M&M from *each* bag. The outcome `'yellow green'` means that a yellow M&M was selected from the 1994 bag and a green one from the 1996 bag. We will use a *set comprehension*.\n",
    "\n",
    "Uhhhh... What do we use for sets again? Is it `[`, or `(`, or `{`?\n",
    "\n",
    "To note:\n",
    "* We are using a python *set* because we care about dictionaries, and dictionary keys are unique\n",
    "* You can also think in terms of JSON objects\n",
    "\n",
    "```python\n",
    "def joint(A, B, sep=''):\n",
    "    \"\"\"The joint distribution of two independent probability distributions. \n",
    "    Result is all entries of the form {a+sep+b: P(a)*P(b)}\"\"\"\n",
    "    return ProbDist({a + sep + b: A[a] * B[b]\n",
    "                    for ...\n",
    "                    for ...})\n",
    "\n",
    "MM = joint(bag94, bag96, ' ')\n",
    "MM\n",
    "```"
   ]
  },
  {
   "cell_type": "code",
   "execution_count": 18,
   "metadata": {
    "button": false,
    "new_sheet": false,
    "run_control": {
     "read_only": false
    }
   },
   "outputs": [
    {
     "data": {
      "text/plain": [
       "{'brown blue': 0.07199999999999997,\n",
       " 'brown green': 0.05999999999999997,\n",
       " 'brown orange': 0.04799999999999998,\n",
       " 'brown yellow': 0.04199999999999998,\n",
       " 'brown red': 0.038999999999999986,\n",
       " 'brown brown': 0.038999999999999986,\n",
       " 'yellow blue': 0.04799999999999998,\n",
       " 'yellow green': 0.03999999999999999,\n",
       " 'yellow orange': 0.03199999999999999,\n",
       " 'yellow yellow': 0.02799999999999999,\n",
       " 'yellow red': 0.025999999999999992,\n",
       " 'yellow brown': 0.025999999999999992,\n",
       " 'red blue': 0.04799999999999998,\n",
       " 'red green': 0.03999999999999999,\n",
       " 'red orange': 0.03199999999999999,\n",
       " 'red yellow': 0.02799999999999999,\n",
       " 'red red': 0.025999999999999992,\n",
       " 'red brown': 0.025999999999999992,\n",
       " 'green blue': 0.02399999999999999,\n",
       " 'green green': 0.019999999999999993,\n",
       " 'green orange': 0.015999999999999993,\n",
       " 'green yellow': 0.013999999999999995,\n",
       " 'green red': 0.012999999999999996,\n",
       " 'green brown': 0.012999999999999996,\n",
       " 'orange blue': 0.02399999999999999,\n",
       " 'orange green': 0.019999999999999993,\n",
       " 'orange orange': 0.015999999999999993,\n",
       " 'orange yellow': 0.013999999999999995,\n",
       " 'orange red': 0.012999999999999996,\n",
       " 'orange brown': 0.012999999999999996,\n",
       " 'tan blue': 0.02399999999999999,\n",
       " 'tan green': 0.019999999999999993,\n",
       " 'tan orange': 0.015999999999999993,\n",
       " 'tan yellow': 0.013999999999999995,\n",
       " 'tan red': 0.012999999999999996,\n",
       " 'tan brown': 0.012999999999999996}"
      ]
     },
     "execution_count": 18,
     "metadata": {},
     "output_type": "execute_result"
    }
   ],
   "source": [
    "def joint(A, B, sep=''):\n",
    "    \"\"\"The joint distribution of two independent probability distributions. \n",
    "    Result is all entries of the form {a+sep+b: P(a)*P(b)}\"\"\"\n",
    "    return ProbDist({a + sep + b: A[a] * B[b]\n",
    "                    for a in A\n",
    "                    for b in B})\n",
    "\n",
    "MM = joint(bag94, bag96, ' ')\n",
    "MM"
   ]
  },
  {
   "cell_type": "markdown",
   "metadata": {
    "button": false,
    "new_sheet": false,
    "run_control": {
     "read_only": false
    }
   },
   "source": [
    "Let's look at the \"One is yellow and one is green\" part:\n",
    "\n",
    "```python\n",
    "def yellow_and_green(outcome): return 'yellow' in outcome and 'green' in outcome\n",
    "\n",
    "such_that(...) # fill this in\n",
    "```"
   ]
  },
  {
   "cell_type": "code",
   "execution_count": 19,
   "metadata": {
    "button": false,
    "new_sheet": false,
    "run_control": {
     "read_only": false
    }
   },
   "outputs": [
    {
     "data": {
      "text/plain": [
       "{'yellow green': 0.7407407407407408, 'green yellow': 0.25925925925925924}"
      ]
     },
     "execution_count": 19,
     "metadata": {},
     "output_type": "execute_result"
    }
   ],
   "source": [
    "def yellow_and_green(outcome): return 'yellow' in outcome and 'green' in outcome\n",
    "such_that(yellow_and_green,MM)"
   ]
  },
  {
   "cell_type": "markdown",
   "metadata": {
    "button": false,
    "new_sheet": false,
    "run_control": {
     "read_only": false
    }
   },
   "source": [
    "Now we can answer the question: given that we got a yellow and a green (but don't know which comes from which bag), what is the probability that the yellow came from the 1994 bag?\n",
    "\n",
    "```python\n",
    "def yellow94(outcome): return ...\n",
    "\n",
    "p(yellow94, such_that(...)) # fill this in\n",
    "```"
   ]
  },
  {
   "cell_type": "code",
   "execution_count": 20,
   "metadata": {
    "button": false,
    "new_sheet": false,
    "run_control": {
     "read_only": false
    }
   },
   "outputs": [
    {
     "data": {
      "text/plain": [
       "0.7407407407407408"
      ]
     },
     "execution_count": 20,
     "metadata": {},
     "output_type": "execute_result"
    }
   ],
   "source": [
    "def yellow94(outcome): return outcome.startswith('yellow')\n",
    "\n",
    "p(yellow94, such_that(yellow_and_green,MM))"
   ]
  },
  {
   "cell_type": "markdown",
   "metadata": {
    "button": false,
    "new_sheet": false,
    "run_control": {
     "read_only": false
    }
   },
   "source": [
    "So there is a 74% chance that the yellow comes from the 1994 bag. We were *right* about our hunch :-)\n",
    "\n",
    "Answering this question was straightforward: just like all the other probability problems, we simply create a sample space, and use `p` to pick out the probability of the event in question, given what we know about the outcome. This is the 'mechanistic' way of obtaining our answer.\n",
    "\n",
    "We can *also* solve it using *Bayes' Theorem*, and this is as good as any's introduction to naive Bayes theory: We are asked about the probability of an event (M&M94 --> M&M96) given the evidence (M&M94 is yellow, M&M96 green), which is not immediately available. However the probability of the evidence, given the event is readily available!  \n",
    "\n",
    "Before we see the colors of the M&Ms, there are two hypotheses, `A` and `B`, both with equal probability:\n",
    "\n",
    "    A: first M&M from 94 bag, second from 96 bag\n",
    "    B: first M&M from 96 bag, second from 94 bag\n",
    "    P(A) = P(B) = 0.5\n",
    "    \n",
    "Then we get some evidence:\n",
    "    \n",
    "    E: first M&M yellow, second green\n",
    "    \n",
    "We want to know the probability of hypothesis `A`, given the evidence:\n",
    "    \n",
    "    P(A | E)\n",
    "    \n",
    "That's not easy to calculate (except by enumerating the sample space, which is what we did above). But Bayes Theorem says:\n",
    "    \n",
    "    P(A | E) = P(E | A) * P(A) / P(E)\n",
    "    \n",
    "The quantities on the *right-hand-side* are easier to calculate:\n",
    "    \n",
    "    P(E | A) = 20/100 * 20/100 = 0.04\n",
    "    P(E | B) = 10/100 * 14/100 = 0.014\n",
    "    P(A)     = 0.5\n",
    "    P(B)     = 0.5\n",
    "    P(E)     = P(E | A) * P(A) + P(E | B) * P(B) \n",
    "             = 0.04     * 0.5  + 0.014    * 0.5   =   0.027\n",
    "             \n",
    "Where did the probability of the evidence P(E) formula come from?\n",
    "\n",
    "There are two possibilities of getting the evidence: A and B, a *union* and so we sum their probabilities. The joint probability of the evidence *and* case A is a succession or *intersection*, so it must be a product of their probabilities: P(E|A).P(A). Likewise for the case B: P(E|B).P(B) \n",
    "    \n",
    "And so we can get a final answer:\n",
    "    \n",
    "    P(A | E) = P(E | A) * P(A) / P(E) \n",
    "             = 0.04     * 0.5  / 0.027 \n",
    "             = 0.7407407407\n",
    "             \n",
    "Bayes Theorem allows you to do less calculation at the cost of more algebra; that is a great trade-off if you are working with pencil and paper (like in interview situations). Enumerating the state space allows you to do less algebra at the cost of more calculation; often a good trade-off if you have a computer. But regardless of the approach you use, it is important to understand Bayes theorem and how it works.\n",
    "\n",
    "Bayes' theorem will be our introduction to more advanced statistics, which we'll cover *next* week!"
   ]
  },
  {
   "cell_type": "markdown",
   "metadata": {},
   "source": [
    "# Big Data? Big Deal..\n",
    "\n",
    "So far, we have talked of an *outcome* as being a single state of the world. But it can be useful to break that state of the world down into many components. We call these components **random variables**. For example, when we consider an experiment in which we roll *two* dice and observe their sum, we could model the situation with *two* random variables, one for each die (our representation of outcomes has been doing that implicitly all along, when we concatenate two parts of a string, but the concept of a random variable makes it official.)\n",
    "\n",
    "Remember [this](https://www.mathsisfun.com/data/quincunx.html) experiment?\n",
    "\n",
    "The **Central Limit Theorem** states that if you have a collection of random variables and sum them up, then the *larger* the collection, the *closer* the sum will be to a *normal distribution* (also called a *Gaussian distribution* or a *bell-shaped curve*). This illustrates why Data Science with **Big Data** is not really a challenge at all (other than how to store and compute with data that is larger than the RAM on your laptop)! If you have tons of data, then frequentist and Bayesian statistics coincide, there is little doubt about outcomes, and it is clear which outcome to place your bets on.\n",
    "\n",
    "The challenge is with **Small Data**, where there is doubt and you have no idea of the pdf, and you have to painstakingly  build a model with parameters, and refine your parameters so the model fits the data.\n",
    "\n",
    "Why do accidents happen in autonomous vehicles when it snows, at dusk, when the moon is behind a traffic light, and a pedestrian is crossing the street on a red light? Precisely because we don't have Big Data about that use case, and the autonomous car has **no idea what to do**! Uber needs *you* to program it for the Small DAta cases. Big Data is piece of cake!\n",
    "\n",
    "This is a good time to introduce the concept of a **histogram**, which is essentially a probability density function that we get from data collection or from analytic curves. If we have the 2D function `f(x,y)`, we can estimate the discretized probability density function (pdf) of `f` by computing how many values of `f` fall into specific bins with prespecified values of y.\n",
    "\n",
    "Plot the pdf of the following graph:\n",
    "<br />\n",
    "<center>\n",
    "    <img src=\"images/graph.png\" width=200 />\n",
    "</center>"
   ]
  },
  {
   "cell_type": "markdown",
   "metadata": {},
   "source": [
    "### Celtics\n",
    "\n",
    "As another example, let's take 5 random variables reprsenting the per-game scores of the 5 Celtics starters for the 2018 season (Jayson Tatum or JT, Jaylen Brown or JB, Terry Rozier or TR, Al Horford or AL, and Aron Baynes or AB), and then sum them together to form the team score. The scores here are imaginary to introduce statistical function `gauss`, `triangular`, `vonmisesvariate`, and `uniform`. For the real season scores of this exciting and ultimately deflating season, visit [here](http://www.nba.com/celtics/stats?sort=PTS). Each random variable/player is represented as a probability distribution function; calling the function returns a single sample from the distribution:"
   ]
  },
  {
   "cell_type": "code",
   "execution_count": 21,
   "metadata": {},
   "outputs": [],
   "source": [
    "from random import gauss, triangular, choice, vonmisesvariate, uniform\n",
    "\n",
    "def JT(): return posint(gauss(15.1, 3) + 3 * triangular(1, 4, 13)) # 30.1\n",
    "def JB(): return posint(gauss(10.2, 3) + 3 * triangular(1, 3.5, 9)) # 22.1\n",
    "def TR(): return posint(vonmisesvariate(30, 2) * 3.08) # 14.0\n",
    "def AH(): return posint(gauss(6.7, 1.5) if choice((True, False)) else gauss(16.7, 2.5)) # 11.7\n",
    "def AB(): return posint(triangular(5, 17, 25) + uniform(0, 30) + gauss(6, 3)) # 37.0\n",
    "\n",
    "def posint(x): \"Positive integer\"; return max(0, int(round(x)))"
   ]
  },
  {
   "cell_type": "markdown",
   "metadata": {},
   "source": [
    "And here is a function to sample a random variable *k* times, show a histogram of the results, and return the mean:"
   ]
  },
  {
   "cell_type": "code",
   "execution_count": 22,
   "metadata": {},
   "outputs": [],
   "source": [
    "from statistics import mean\n",
    "\n",
    "def repeated_hist(rv, bins=10, k=100000):\n",
    "    \"Repeat rv() k times and make a histogram of the results.\"\n",
    "    samples = [rv() for _ in range(k)]\n",
    "    plt.hist(samples, bins=bins)\n",
    "    return mean(samples)"
   ]
  },
  {
   "cell_type": "markdown",
   "metadata": {},
   "source": [
    "The two top-scoring players, Jayson Tatum (JT) and Jaylen Brown (JB), have scoring distributions that are slightly skewed from normal:"
   ]
  },
  {
   "cell_type": "code",
   "execution_count": 23,
   "metadata": {},
   "outputs": [
    {
     "data": {
      "text/plain": [
       "30.09194"
      ]
     },
     "execution_count": 23,
     "metadata": {},
     "output_type": "execute_result"
    },
    {
     "data": {
      "image/png": "[encoded data removed]",
      "text/plain": [
       "<Figure size 432x288 with 1 Axes>"
      ]
     },
     "metadata": {
      "needs_background": "light"
     },
     "output_type": "display_data"
    }
   ],
   "source": [
    "repeated_hist(JT, bins=range(60))"
   ]
  },
  {
   "cell_type": "code",
   "execution_count": 24,
   "metadata": {},
   "outputs": [
    {
     "data": {
      "text/plain": [
       "22.1567"
      ]
     },
     "execution_count": 24,
     "metadata": {},
     "output_type": "execute_result"
    },
    {
     "data": {
      "image/png": "[encoded data removed]",
      "text/plain": [
       "<Figure size 432x288 with 1 Axes>"
      ]
     },
     "metadata": {
      "needs_background": "light"
     },
     "output_type": "display_data"
    }
   ],
   "source": [
    "repeated_hist(JB, bins=range(60))"
   ]
  },
  {
   "cell_type": "markdown",
   "metadata": {},
   "source": [
    "The next two players have bi-modal distributions; some games they score a lot, some games not:"
   ]
  },
  {
   "cell_type": "code",
   "execution_count": 25,
   "metadata": {},
   "outputs": [
    {
     "data": {
      "text/plain": [
       "14.01988"
      ]
     },
     "execution_count": 25,
     "metadata": {},
     "output_type": "execute_result"
    },
    {
     "data": {
      "image/png": "[encoded data removed]",
      "text/plain": [
       "<Figure size 432x288 with 1 Axes>"
      ]
     },
     "metadata": {
      "needs_background": "light"
     },
     "output_type": "display_data"
    }
   ],
   "source": [
    "\n",
    "repeated_hist(TR, bins=range(60))"
   ]
  },
  {
   "cell_type": "code",
   "execution_count": 26,
   "metadata": {},
   "outputs": [
    {
     "data": {
      "text/plain": [
       "11.7257"
      ]
     },
     "execution_count": 26,
     "metadata": {},
     "output_type": "execute_result"
    },
    {
     "data": {
      "image/png": "[encoded data removed]",
      "text/plain": [
       "<Figure size 432x288 with 1 Axes>"
      ]
     },
     "metadata": {
      "needs_background": "light"
     },
     "output_type": "display_data"
    }
   ],
   "source": [
    "\n",
    "\n",
    "repeated_hist(AH, bins=range(60))"
   ]
  },
  {
   "cell_type": "markdown",
   "metadata": {},
   "source": [
    "The fifth \"player\" (actually the sum of all the other players on the team, not really Aron Baymes, or they would have easily defeated the Cavaliers!) looks like this:"
   ]
  },
  {
   "cell_type": "code",
   "execution_count": 27,
   "metadata": {},
   "outputs": [
    {
     "data": {
      "text/plain": [
       "36.29189"
      ]
     },
     "execution_count": 27,
     "metadata": {},
     "output_type": "execute_result"
    },
    {
     "data": {
      "image/png": "[encoded data removed]",
      "text/plain": [
       "<Figure size 432x288 with 1 Axes>"
      ]
     },
     "metadata": {
      "needs_background": "light"
     },
     "output_type": "display_data"
    }
   ],
   "source": [
    "repeated_hist(AB, bins=range(60))"
   ]
  },
  {
   "cell_type": "markdown",
   "metadata": {},
   "source": [
    "Go ahead, add more players to the Celtics, each with their own scoring distribution. Modify and use the below template:\n",
    "```python\n",
    "def XX(): return posint(gauss(15.1, 3) + 3 * triangular(1, 4, 13)) # 30.1\n",
    "```\n",
    "\n",
    "Add then in the cell below:"
   ]
  },
  {
   "cell_type": "code",
   "execution_count": null,
   "metadata": {},
   "outputs": [],
   "source": []
  },
  {
   "cell_type": "markdown",
   "metadata": {},
   "source": [
    "Now we define the team score to be the sum of the five players, and look at the distribution. Don't forge to add your own players!"
   ]
  },
  {
   "cell_type": "code",
   "execution_count": 28,
   "metadata": {},
   "outputs": [
    {
     "data": {
      "text/plain": [
       "114.3042"
      ]
     },
     "execution_count": 28,
     "metadata": {},
     "output_type": "execute_result"
    },
    {
     "data": {
      "image/png": "[encoded data removed]",
      "text/plain": [
       "<Figure size 432x288 with 1 Axes>"
      ]
     },
     "metadata": {
      "needs_background": "light"
     },
     "output_type": "display_data"
    }
   ],
   "source": [
    "def GSW(): return JT() + JB() + TR() + AH() + AB()  # + ... add your own players!\n",
    "\n",
    "repeated_hist(GSW, bins=range(70, 160, 2))"
   ]
  },
  {
   "cell_type": "markdown",
   "metadata": {},
   "source": [
    "Sure enough, this looks very much like a **normal distribution**! \n",
    "\n",
    "The Central Limit Theorem holds, and that is why the statistics of NBA teams are so *predictable*. \n",
    "\n",
    "When you have a lot of data, you have little doubt, and the Data Science is *easy*. Deep Learning ANNs are very good at building hypersurfaces that match all the state variables of past outcomes. When you are asked to predict new outcomes based on a partial subset of state variables (independent variables), machines just project the lower dimensional hypersurface onto the higher dimensional hypersurface (stored in very compact form) and fill in the missing dimensions in order to predict the dependent variables. \n",
    "\n",
    "<br />\n",
    "<center>\n",
    "    <img src=\"ipynb.images/manifold.jpg\" width=300 />\n",
    "</center>\n",
    "\n",
    "\n",
    "We saw just a few days ago how machines can even predict non-linear functions if we give them tons of data, but when the data is not enough, they *cannot* predict!\n",
    "\n",
    "So what do we do when we *don't have enough data*? Do we just give up? We'll see next week how **Bayesian statistics** come to the rescue, *when we have to deal with doubt*."
   ]
  },
  {
   "cell_type": "markdown",
   "metadata": {},
   "source": [
    "# Conclusion¶\n",
    "We've built a framework for estimating probabilities that will come in handy when you are asked to build data models. We *started playing* with **Bayes' theorem**, a *pillar* of data science, and we started learning how to answer typical Data Science interview questions, which you should *always* answer in python because you *will* run out of space on the whiteboard if you use squiggly brackets and other languages! \n",
    "\n",
    "Next week we move on to statistical modeling and inference. \n",
    "\n",
    "**Modeling** (one `l` or 2 `l`s? See [here](https://www.grammarly.com/blog/modeling-or-modelling/)) happens when data is scarce and precious and hard to obtain, for example in social sciences and settings where it is difficult to conduct large-scale controlled experiments. With small data it is important to quantify uncertainty and that’s precisely what Bayesian approaches are good at. **Inference** refers to how you learn parameters of your model (Markov Chain Monte Carlo, or MCMC, albeit computationally expensive, is one of the most important methods for statistical inference), which is especially important with Bayesian Machine Learning, where we can actually inquire with Machines why this or that action was undertaken.\n",
    "\n",
    "*Alexa, why did you lower the temperature in the bedroom?* **Because your wife told me that whenever you start snoring, John, colder tempreatures make you bundle up under the cover and you snore less**. \n",
    "\n",
    "<br />\n",
    "<center>\n",
    "    <img src=\"ipynb.images/echo.jpg\" width=200 />\n",
    "</center>\n",
    "\n",
    "Best advice for interviews: Be explicit about what the problem says, have the interviewer verify the working hypotheses, be methodical about defining the sample space, be careful in counting the number of outcomes in the numerator and denominator, and finally use Bayes' theorem (or 1 minus the negation) whenever possible because you will be doing calculations by hand on a whiteboard!\n",
    "\n",
    "<br />\n",
    "<center>\n",
    "    <img src=\"images/jobinterview.jpg\" width=400 />\n",
    "</center>"
   ]
  },
  {
   "cell_type": "markdown",
   "metadata": {},
   "source": [
    "# Homework for next week: Introduction to Data Science for Sports\n",
    "\n",
    "You will exercise your knowledge of probabilities and writing down logic with python.\n",
    "\n",
    "<br />\n",
    "<center>\n",
    "    <img src=\"images/f1races.png\" width=800 />\n",
    "</center>\n",
    "\n",
    "Question 1.1 (20 points) There are a number of F1 races coming up: \n",
    "- Singapore GP: Date: Sun, Sep 22, 8:10 AM\n",
    "- Russian GP: Date: Sun, Sep 29, 7:10 AM\n",
    "- Japanese GP: Date: Sun, Oct 13, 1:10 AM\n",
    "- Mexican GP Date: Sun, Oct 13, 1:10 AM\n",
    "\n",
    "We are just before the Singaporean Grand Prix (this coming weekend) and the Russian Grand Prix the weekend after, as you can see [schedule](https://www.formula1.com/en/racing/2019.html). \n",
    "\n",
    "The 2019 driver standings are given [here](https://www.formula1.com/en/results.html/2019/drivers.html). Assume these standings for this weekend, even though they are final season standings. Given these standings (please do not use team standings given on the same Web site, use ***driver standings***), what is the Probability Distribution for each F1 driver to win the Singaporean Grand Prix? What is the Probability Distribution for each F1 driver to win *both* the Singaporean and Russian Grand Prix? What is the probability for Mercedes to win both races? What is the probability for Mercedes to win at least one race? Note that Mercedes, and each other racing team, has two drivers per race. Assume that Singaporean grand prix standings are not going to change driver standings by much, so you can use same standings for both races.\n",
    "\n",
    "Question 1.2 (30 points) If Mercedes wins the first race, what is the probability that Mercedes wins the next one? If Mercedes wins at least one of these two races, what is the probability Mercedes wins both races? How about Ferrari, Red Bull, and Renault?\n",
    "\n",
    "Question 1.3 (50 points) Mercedes wins at least one of these two races on a **rainy** day. What is the probability Mercedes wins both races, assuming races can be held on either rainy, sunny, cloudy, snowy or foggy days? Assume that rain, sun, clouds, snow, and fog are the *only possible weather conditions* on race tracks.\n",
    "\n",
    "You need to provide *proof* for your answers. `I think it's one in a million because Mercedes sucks and I like Ferrari a lot more` is not a good answer. Leverage the counting framework in this workbook!"
   ]
  },
  {
   "cell_type": "markdown",
   "metadata": {},
   "source": [
    "Hint: Use SingaporeanGrandPrix, or `SGP` to denote the Probability Distribution given by F1 driver wins. Write driver initials as keys and driver wins as values in a dictionary that you pass to our function `ProbDist`.."
   ]
  },
  {
   "cell_type": "code",
   "execution_count": 29,
   "metadata": {},
   "outputs": [
    {
     "data": {
      "text/plain": [
       "{'LH': 0.1929906542056075,\n",
       " 'VB': 0.15233644859813084,\n",
       " 'MV': 0.12990654205607477,\n",
       " 'CL': 0.1233644859813084,\n",
       " 'SV': 0.11214953271028037,\n",
       " 'CS': 0.044859813084112146,\n",
       " 'PG': 0.04439252336448598,\n",
       " 'AA': 0.04299065420560748,\n",
       " 'DR': 0.025233644859813085,\n",
       " 'SP': 0.024299065420560748,\n",
       " 'LN': 0.022897196261682243,\n",
       " 'KR': 0.020093457943925235,\n",
       " 'Dk': 0.017289719626168223,\n",
       " 'NH': 0.017289719626168223,\n",
       " 'LS': 0.009813084112149532,\n",
       " 'KM': 0.009345794392523364,\n",
       " 'AG': 0.0065420560747663555,\n",
       " 'RG': 0.003738317757009346,\n",
       " 'Rk': 0.00046728971962616824,\n",
       " 'GR': 0.0}"
      ]
     },
     "execution_count": 29,
     "metadata": {},
     "output_type": "execute_result"
    }
   ],
   "source": [
    "SGP = ProbDist(\n",
    "    LH = 413,\n",
    "    VB = 326,\n",
    "    MV = 278,\n",
    "    CL = 264,\n",
    "    SV = 240,\n",
    "    CS = 96,\n",
    "    PG = 95,\n",
    "    AA = 92,\n",
    "    DR = 54,\n",
    "    SP = 52,\n",
    "    LN = 49,\n",
    "    KR = 43,\n",
    "    Dk = 37,\n",
    "    NH = 37,\n",
    "    LS = 21,\n",
    "    KM = 20,\n",
    "    AG = 14,\n",
    "    RG = 8,\n",
    "    Rk = 1,\n",
    "    GR = 0)\n",
    "SGP"
   ]
  },
  {
   "cell_type": "markdown",
   "metadata": {},
   "source": [
    "### 1.1.1 what is the Probability Distribution for each F1 driver to win the Singaporean Grand Prix?"
   ]
  },
  {
   "cell_type": "code",
   "execution_count": 30,
   "metadata": {},
   "outputs": [
    {
     "data": {
      "text/plain": [
       "{'LH': 0.1929906542056075,\n",
       " 'VB': 0.15233644859813084,\n",
       " 'MV': 0.12990654205607477,\n",
       " 'CL': 0.1233644859813084,\n",
       " 'SV': 0.11214953271028037,\n",
       " 'CS': 0.044859813084112146,\n",
       " 'PG': 0.04439252336448598,\n",
       " 'AA': 0.04299065420560748,\n",
       " 'DR': 0.025233644859813085,\n",
       " 'SP': 0.024299065420560748,\n",
       " 'LN': 0.022897196261682243,\n",
       " 'KR': 0.020093457943925235,\n",
       " 'Dk': 0.017289719626168223,\n",
       " 'NH': 0.017289719626168223,\n",
       " 'LS': 0.009813084112149532,\n",
       " 'KM': 0.009345794392523364,\n",
       " 'AG': 0.0065420560747663555,\n",
       " 'RG': 0.003738317757009346,\n",
       " 'Rk': 0.00046728971962616824,\n",
       " 'GR': 0.0}"
      ]
     },
     "execution_count": 30,
     "metadata": {},
     "output_type": "execute_result"
    }
   ],
   "source": [
    "SGP = ProbDist(\n",
    "    LH = 413,\n",
    "    VB = 326,\n",
    "    MV = 278,\n",
    "    CL = 264,\n",
    "    SV = 240,\n",
    "    CS = 96,\n",
    "    PG = 95,\n",
    "    AA = 92,\n",
    "    DR = 54,\n",
    "    SP = 52,\n",
    "    LN = 49,\n",
    "    KR = 43,\n",
    "    Dk = 37,\n",
    "    NH = 37,\n",
    "    LS = 21,\n",
    "    KM = 20,\n",
    "    AG = 14,\n",
    "    RG = 8,\n",
    "    Rk = 1,\n",
    "    GR = 0)\n",
    "SGP"
   ]
  },
  {
   "cell_type": "markdown",
   "metadata": {},
   "source": [
    "### 1.1.2 What is the Probability Distribution for each F1 driver to win both the Singaporean and Russian Grand Prix?"
   ]
  },
  {
   "cell_type": "code",
   "execution_count": 31,
   "metadata": {},
   "outputs": [
    {
     "data": {
      "text/plain": [
       "{'LH': 0.03724539261070836,\n",
       " 'VB': 0.023206393571490957,\n",
       " 'MV': 0.01687570966896672,\n",
       " 'CL': 0.015218796401432437,\n",
       " 'SV': 0.012577517687134247,\n",
       " 'CS': 0.002012402829941479,\n",
       " 'PG': 0.0019706961306664335,\n",
       " 'AA': 0.001848196349026116,\n",
       " 'DR': 0.0006367368329111713,\n",
       " 'SP': 0.0005904445803126911,\n",
       " 'LN': 0.0005242815966459953,\n",
       " 'KR': 0.0004037470521442921,\n",
       " 'Dk': 0.00029893440475150666,\n",
       " 'NH': 0.00029893440475150666,\n",
       " 'LS': 9.629661979212157e-05,\n",
       " 'KM': 8.734387282732115e-05,\n",
       " 'AG': 4.2798497685387374e-05,\n",
       " 'RG': 1.3975019652371387e-05,\n",
       " 'Rk': 2.1835968206830293e-07,\n",
       " 'GR': 0.0}"
      ]
     },
     "execution_count": 31,
     "metadata": {},
     "output_type": "execute_result"
    }
   ],
   "source": [
    "SGP_Value = list(SGP.values())\n",
    "SGP_Key = list(SGP.keys())\n",
    "Both_dict = dict()\n",
    "\n",
    "for i in range(len(SGP_Key)):\n",
    "    Both_dict[SGP_Key[i]] = pow(SGP_Value[i],2)\n",
    "Both_dict"
   ]
  },
  {
   "cell_type": "markdown",
   "metadata": {},
   "source": [
    "### 1.1.3 What is the probability for Mercedes to win both races?"
   ]
  },
  {
   "cell_type": "code",
   "execution_count": 32,
   "metadata": {},
   "outputs": [
    {
     "data": {
      "text/plain": [
       "{'MERCEDES1': 0.11925080793082364}"
      ]
     },
     "execution_count": 32,
     "metadata": {},
     "output_type": "execute_result"
    }
   ],
   "source": [
    "MERCEDES_winBoth = dict()\n",
    "SGP = ProbDist(\n",
    "    MERCEDES1 = 739,\n",
    "    FERRARI1 = 504,\n",
    "    REDBULLRACINGHONDA = 370,\n",
    "    MCLARENRENAULT = 145,\n",
    "    RENAULT1 = 91,\n",
    "    SCUDERIATOROROSSOHONDA = 132,\n",
    "    RACINGPOINTBWTMERCEDES = 73,\n",
    "    ALFAROMEORACINGFERRARI = 57,\n",
    "    HAASFERRARI = 28,\n",
    "    WILLIAMSMERCEDES = 1)\n",
    "MER_winOnce = SGP['MERCEDES1']\n",
    "MERCEDES_winBoth['MERCEDES1'] = MER_winOnce**2\n",
    "MERCEDES_winBoth"
   ]
  },
  {
   "cell_type": "markdown",
   "metadata": {},
   "source": [
    "### 1.1.4 What is the probability for Mercedes to win at least one race? "
   ]
  },
  {
   "cell_type": "code",
   "execution_count": 33,
   "metadata": {},
   "outputs": [
    {
     "data": {
      "text/plain": [
       "{'MERCEDES1': 0.571403397676653}"
      ]
     },
     "execution_count": 33,
     "metadata": {},
     "output_type": "execute_result"
    }
   ],
   "source": [
    "MERCEDES_WinAtLeastOneace = dict()\n",
    "# Assume that Mercedes will lose both races\n",
    "MER_LoseBoth = (1 - SGP['MERCEDES1'])**2\n",
    "# So in order to figure out the probability for Mercedes to win at least one race, we can use 1 minus the probability for it lose both races\n",
    "MERCEDES_WinAtLeastOneace['MERCEDES1'] = 1 - MER_LoseBoth\n",
    "MERCEDES_WinAtLeastOneace"
   ]
  },
  {
   "cell_type": "markdown",
   "metadata": {},
   "source": [
    "## Question 1.2 (30 points)\n",
    "### If Mercedes wins the first race, what is the probability that Mercedes wins the next one?"
   ]
  },
  {
   "cell_type": "code",
   "execution_count": 34,
   "metadata": {},
   "outputs": [
    {
     "data": {
      "text/plain": [
       "{'MERCEDES1 MERCEDES1': 0.11925080793082359,\n",
       " 'MERCEDES1 FERRARI1': 0.08132937374443178,\n",
       " 'MERCEDES1 REDBULLRACINGHONDA': 0.05970608786793603,\n",
       " 'MERCEDES1 MCLARENRENAULT': 0.023398331732028984,\n",
       " 'MERCEDES1 RENAULT1': 0.014684470259411296,\n",
       " 'MERCEDES1 SCUDERIATOROROSSOHONDA': 0.0213005502663988,\n",
       " 'MERCEDES1 RACINGPOINTBWTMERCEDES': 0.011779849768538731,\n",
       " 'MERCEDES1 ALFAROMEORACINGFERRARI': 0.00919796488776312,\n",
       " 'MERCEDES1 HAASFERRARI': 0.004518298541357322,\n",
       " 'MERCEDES1 WILLIAMSMERCEDES': 0.00016136780504847576,\n",
       " 'FERRARI1 MERCEDES1': 0.08132937374443178,\n",
       " 'FERRARI1 FERRARI1': 0.055466853000262,\n",
       " 'FERRARI1 REDBULLRACINGHONDA': 0.040719713512097105,\n",
       " 'FERRARI1 MCLARENRENAULT': 0.015957725565551566,\n",
       " 'FERRARI1 RENAULT1': 0.01001484845838064,\n",
       " 'FERRARI1 SCUDERIATOROROSSOHONDA': 0.014527032928640047,\n",
       " 'FERRARI1 RACINGPOINTBWTMERCEDES': 0.008033889422656997,\n",
       " 'FERRARI1 ALFAROMEORACINGFERRARI': 0.0062730369464582035,\n",
       " 'FERRARI1 HAASFERRARI': 0.0030814918333478894,\n",
       " 'FERRARI1 WILLIAMSMERCEDES': 0.00011005327976242461,\n",
       " 'REDBULLRACINGHONDA MERCEDES1': 0.05970608786793603,\n",
       " 'REDBULLRACINGHONDA FERRARI1': 0.040719713512097105,\n",
       " 'REDBULLRACINGHONDA REDBULLRACINGHONDA': 0.029893440475150652,\n",
       " 'REDBULLRACINGHONDA MCLARENRENAULT': 0.011714996942964444,\n",
       " 'REDBULLRACINGHONDA RENAULT1': 0.007352170495239755,\n",
       " 'REDBULLRACINGHONDA SCUDERIATOROROSSOHONDA': 0.010664686872215908,\n",
       " 'REDBULLRACINGHONDA RACINGPOINTBWTMERCEDES': 0.005897895012664859,\n",
       " 'REDBULLRACINGHONDA ALFAROMEORACINGFERRARI': 0.004605205694820506,\n",
       " 'REDBULLRACINGHONDA HAASFERRARI': 0.002262206306227617,\n",
       " 'REDBULLRACINGHONDA WILLIAMSMERCEDES': 8.079308236527203e-05,\n",
       " 'MCLARENRENAULT MERCEDES1': 0.023398331732028984,\n",
       " 'MCLARENRENAULT FERRARI1': 0.015957725565551566,\n",
       " 'MCLARENRENAULT REDBULLRACINGHONDA': 0.011714996942964444,\n",
       " 'MCLARENRENAULT MCLARENRENAULT': 0.004591012315486066,\n",
       " 'MCLARENRENAULT RENAULT1': 0.0028812560048912554,\n",
       " 'MCLARENRENAULT SCUDERIATOROROSSOHONDA': 0.004179404314787315,\n",
       " 'MCLARENRENAULT RACINGPOINTBWTMERCEDES': 0.002311337234692985,\n",
       " 'MCLARENRENAULT ALFAROMEORACINGFERRARI': 0.0018047427722945224,\n",
       " 'MCLARENRENAULT HAASFERRARI': 0.0008865403091973094,\n",
       " 'MCLARENRENAULT WILLIAMSMERCEDES': 3.1662153899903905e-05,\n",
       " 'RENAULT1 MERCEDES1': 0.014684470259411296,\n",
       " 'RENAULT1 FERRARI1': 0.01001484845838064,\n",
       " 'RENAULT1 REDBULLRACINGHONDA': 0.007352170495239755,\n",
       " 'RENAULT1 MCLARENRENAULT': 0.0028812560048912554,\n",
       " 'RENAULT1 RENAULT1': 0.0018082365272076158,\n",
       " 'RENAULT1 SCUDERIATOROROSSOHONDA': 0.0026229365010044534,\n",
       " 'RENAULT1 RACINGPOINTBWTMERCEDES': 0.0014505633679797356,\n",
       " 'RENAULT1 ALFAROMEORACINGFERRARI': 0.0011326316708882868,\n",
       " 'RENAULT1 HAASFERRARI': 0.0005563804699100357,\n",
       " 'RENAULT1 WILLIAMSMERCEDES': 1.9870731068215555e-05,\n",
       " 'SCUDERIATOROROSSOHONDA MERCEDES1': 0.0213005502663988,\n",
       " 'SCUDERIATOROROSSOHONDA FERRARI1': 0.014527032928640047,\n",
       " 'SCUDERIATOROROSSOHONDA REDBULLRACINGHONDA': 0.010664686872215908,\n",
       " 'SCUDERIATOROROSSOHONDA MCLARENRENAULT': 0.004179404314787315,\n",
       " 'SCUDERIATOROROSSOHONDA RENAULT1': 0.0026229365010044534,\n",
       " 'SCUDERIATOROROSSOHONDA SCUDERIATOROROSSOHONDA': 0.0038046991003581076,\n",
       " 'SCUDERIATOROROSSOHONDA RACINGPOINTBWTMERCEDES': 0.002104113896410166,\n",
       " 'SCUDERIATOROROSSOHONDA ALFAROMEORACINGFERRARI': 0.0016429382478819103,\n",
       " 'SCUDERIATOROROSSOHONDA HAASFERRARI': 0.0008070573849244473,\n",
       " 'SCUDERIATOROROSSOHONDA WILLIAMSMERCEDES': 2.882347803301597e-05,\n",
       " 'RACINGPOINTBWTMERCEDES MERCEDES1': 0.011779849768538731,\n",
       " 'RACINGPOINTBWTMERCEDES FERRARI1': 0.008033889422656997,\n",
       " 'RACINGPOINTBWTMERCEDES REDBULLRACINGHONDA': 0.005897895012664859,\n",
       " 'RACINGPOINTBWTMERCEDES MCLARENRENAULT': 0.002311337234692985,\n",
       " 'RACINGPOINTBWTMERCEDES RENAULT1': 0.0014505633679797356,\n",
       " 'RACINGPOINTBWTMERCEDES SCUDERIATOROROSSOHONDA': 0.002104113896410166,\n",
       " 'RACINGPOINTBWTMERCEDES RACINGPOINTBWTMERCEDES': 0.0011636387457419858,\n",
       " 'RACINGPOINTBWTMERCEDES ALFAROMEORACINGFERRARI': 0.000908594637086208,\n",
       " 'RACINGPOINTBWTMERCEDES HAASFERRARI': 0.0004463271901476109,\n",
       " 'RACINGPOINTBWTMERCEDES WILLIAMSMERCEDES': 1.5940256790986105e-05,\n",
       " 'ALFAROMEORACINGFERRARI MERCEDES1': 0.00919796488776312,\n",
       " 'ALFAROMEORACINGFERRARI FERRARI1': 0.0062730369464582035,\n",
       " 'ALFAROMEORACINGFERRARI REDBULLRACINGHONDA': 0.004605205694820506,\n",
       " 'ALFAROMEORACINGFERRARI MCLARENRENAULT': 0.0018047427722945224,\n",
       " 'ALFAROMEORACINGFERRARI RENAULT1': 0.0011326316708882868,\n",
       " 'ALFAROMEORACINGFERRARI SCUDERIATOROROSSOHONDA': 0.0016429382478819103,\n",
       " 'ALFAROMEORACINGFERRARI RACINGPOINTBWTMERCEDES': 0.000908594637086208,\n",
       " 'ALFAROMEORACINGFERRARI ALFAROMEORACINGFERRARI': 0.0007094506070399159,\n",
       " 'ALFAROMEORACINGFERRARI HAASFERRARI': 0.0003485020525810113,\n",
       " 'ALFAROMEORACINGFERRARI WILLIAMSMERCEDES': 1.244650187789326e-05,\n",
       " 'HAASFERRARI MERCEDES1': 0.004518298541357322,\n",
       " 'HAASFERRARI FERRARI1': 0.0030814918333478894,\n",
       " 'HAASFERRARI REDBULLRACINGHONDA': 0.002262206306227617,\n",
       " 'HAASFERRARI MCLARENRENAULT': 0.0008865403091973094,\n",
       " 'HAASFERRARI RENAULT1': 0.0005563804699100357,\n",
       " 'HAASFERRARI SCUDERIATOROROSSOHONDA': 0.0008070573849244473,\n",
       " 'HAASFERRARI RACINGPOINTBWTMERCEDES': 0.0004463271901476109,\n",
       " 'HAASFERRARI ALFAROMEORACINGFERRARI': 0.0003485020525810113,\n",
       " 'HAASFERRARI HAASFERRARI': 0.00017119399074154941,\n",
       " 'HAASFERRARI WILLIAMSMERCEDES': 6.11407109791248e-06,\n",
       " 'WILLIAMSMERCEDES MERCEDES1': 0.00016136780504847576,\n",
       " 'WILLIAMSMERCEDES FERRARI1': 0.00011005327976242461,\n",
       " 'WILLIAMSMERCEDES REDBULLRACINGHONDA': 8.079308236527203e-05,\n",
       " 'WILLIAMSMERCEDES MCLARENRENAULT': 3.1662153899903905e-05,\n",
       " 'WILLIAMSMERCEDES RENAULT1': 1.9870731068215555e-05,\n",
       " 'WILLIAMSMERCEDES SCUDERIATOROROSSOHONDA': 2.882347803301597e-05,\n",
       " 'WILLIAMSMERCEDES RACINGPOINTBWTMERCEDES': 1.5940256790986105e-05,\n",
       " 'WILLIAMSMERCEDES ALFAROMEORACINGFERRARI': 1.244650187789326e-05,\n",
       " 'WILLIAMSMERCEDES HAASFERRARI': 6.11407109791248e-06,\n",
       " 'WILLIAMSMERCEDES WILLIAMSMERCEDES': 2.1835968206830282e-07}"
      ]
     },
     "execution_count": 34,
     "metadata": {},
     "output_type": "execute_result"
    }
   ],
   "source": [
    "def joint(A, B, sep=''):\n",
    "    \"\"\"The joint distribution of two independent probability distributions. \n",
    "    Result is all entries of the form {a+sep+b: P(a)*P(b)}\"\"\"\n",
    "    return ProbDist({a + sep + b: A[a] * B[b]\n",
    "                    for a in A\n",
    "                    for b in B})\n",
    "\n",
    "MM = joint(SGP, SGP, ' ')\n",
    "MM"
   ]
  },
  {
   "cell_type": "code",
   "execution_count": 42,
   "metadata": {},
   "outputs": [
    {
     "data": {
      "text/plain": [
       "0.34532710280373824"
      ]
     },
     "execution_count": 42,
     "metadata": {},
     "output_type": "execute_result"
    }
   ],
   "source": [
    "def Mercedes_1st(outcome): \n",
    "    return outcome.startswith('MERCEDES1')\n",
    "def Mercedes_2nd(outcome):\n",
    "    return outcome.endswith('MERCEDES1')\n",
    "p(Mercedes_2nd, such_that(Mercedes_1st, MM))"
   ]
  },
  {
   "cell_type": "code",
   "execution_count": 43,
   "metadata": {},
   "outputs": [
    {
     "data": {
      "text/plain": [
       "0.2355140186915888"
      ]
     },
     "execution_count": 43,
     "metadata": {},
     "output_type": "execute_result"
    }
   ],
   "source": [
    "def Ferrari_1st(outcome): \n",
    "    return outcome.startswith('FERRARI1')\n",
    "def Ferrari_2nd(outcome):\n",
    "    return outcome.endswith('FERRARI1')\n",
    "p(Ferrari_2nd, such_that(Ferrari_1st, MM))"
   ]
  },
  {
   "cell_type": "code",
   "execution_count": 44,
   "metadata": {},
   "outputs": [
    {
     "data": {
      "text/plain": [
       "0.17289719626168223"
      ]
     },
     "execution_count": 44,
     "metadata": {},
     "output_type": "execute_result"
    }
   ],
   "source": [
    "def RedBull_1st(outcome): \n",
    "    return outcome.startswith('REDBULLRACINGHONDA')\n",
    "def RedBull_2nd(outcome):\n",
    "    return outcome.endswith('REDBULLRACINGHONDA')\n",
    "p(RedBull_2nd, such_that(RedBull_1st, MM))"
   ]
  },
  {
   "cell_type": "code",
   "execution_count": 45,
   "metadata": {},
   "outputs": [
    {
     "data": {
      "text/plain": [
       "0.04252336448598131"
      ]
     },
     "execution_count": 45,
     "metadata": {},
     "output_type": "execute_result"
    }
   ],
   "source": [
    "def Renault_1st(outcome): \n",
    "    return outcome.startswith('RENAULT1')\n",
    "def Renault_2nd(outcome):\n",
    "    return outcome.endswith('RENAULT1')\n",
    "p(Renault_2nd, such_that(Renault_1st, MM))"
   ]
  },
  {
   "cell_type": "markdown",
   "metadata": {},
   "source": [
    "### If Mercedes wins at least one of these two races, what is the probability Mercedes wins both races? How about Ferrari, Red Bull, and Renault?"
   ]
  },
  {
   "cell_type": "code",
   "execution_count": 38,
   "metadata": {},
   "outputs": [
    {
     "data": {
      "text/plain": [
       "0.20869810787913018"
      ]
     },
     "execution_count": 38,
     "metadata": {},
     "output_type": "execute_result"
    }
   ],
   "source": [
    "def Mercedes(outcome): \n",
    "    return 'MERCEDES1' in outcome\n",
    "def Mercedes_Both(outcome):\n",
    "    return 'MERCEDES1 MERCEDES1' in outcome\n",
    "p(Mercedes_Both, such_that(Mercedes, MM))"
   ]
  },
  {
   "cell_type": "code",
   "execution_count": 39,
   "metadata": {},
   "outputs": [
    {
     "data": {
      "text/plain": [
       "0.13347457627118645"
      ]
     },
     "execution_count": 39,
     "metadata": {},
     "output_type": "execute_result"
    }
   ],
   "source": [
    "def Ferrari(outcome): \n",
    "    return 'FERRARI1' in outcome\n",
    "def Ferrari_Both(outcome):\n",
    "    return 'FERRARI1 FERRARI1' in outcome\n",
    "p(Ferrari_Both, such_that(Ferrari, MM))"
   ]
  },
  {
   "cell_type": "code",
   "execution_count": 40,
   "metadata": {},
   "outputs": [
    {
     "data": {
      "text/plain": [
       "0.09462915601023021"
      ]
     },
     "execution_count": 40,
     "metadata": {},
     "output_type": "execute_result"
    }
   ],
   "source": [
    "def RedBull(outcome): \n",
    "    return 'REDBULLRACINGHONDA' in outcome\n",
    "def RedBull_Both(outcome):\n",
    "    return 'REDBULLRACINGHONDA REDBULLRACINGHONDA' in outcome\n",
    "p(RedBull_Both, such_that(RedBull, MM))"
   ]
  },
  {
   "cell_type": "code",
   "execution_count": 41,
   "metadata": {},
   "outputs": [
    {
     "data": {
      "text/plain": [
       "0.02172356170923849"
      ]
     },
     "execution_count": 41,
     "metadata": {},
     "output_type": "execute_result"
    }
   ],
   "source": [
    "def Renault(outcome): \n",
    "    return 'RENAULT1' in outcome\n",
    "def Renault_Both(outcome):\n",
    "    return 'RENAULT1 RENAULT1' in outcome\n",
    "p(Renault_Both, such_that(Renault, MM))"
   ]
  },
  {
   "cell_type": "markdown",
   "metadata": {},
   "source": [
    "## Question 1.3 (50 points)\n",
    "### Mercedes wins at least one of these two races on a rainy day. What is the probability Mercedes wins both races, assuming races can be held on either rainy, sunny, cloudy, snowy or foggy days? Assume that rain, sun, clouds, snow, and fog are the only possible weather conditions on race tracks."
   ]
  },
  {
   "cell_type": "code",
   "execution_count": 230,
   "metadata": {},
   "outputs": [
    {
     "data": {
      "text/plain": [
       "{'rainy': 0.2, 'sunny': 0.2, 'cloudy': 0.2, 'snowy': 0.2, 'foggy': 0.2}"
      ]
     },
     "execution_count": 230,
     "metadata": {},
     "output_type": "execute_result"
    }
   ],
   "source": [
    "weather = ProbDist(\n",
    "    rainy = 1,\n",
    "    sunny = 1,\n",
    "    cloudy = 1,\n",
    "    snowy = 1,\n",
    "    foggy= 1\n",
    ")\n",
    "weather"
   ]
  },
  {
   "cell_type": "code",
   "execution_count": 231,
   "metadata": {},
   "outputs": [
    {
     "data": {
      "text/plain": [
       "{'MERCEDES1 rainy': 0.06906542056074766,\n",
       " 'MERCEDES1 sunny': 0.06906542056074766,\n",
       " 'MERCEDES1 cloudy': 0.06906542056074766,\n",
       " 'MERCEDES1 snowy': 0.06906542056074766,\n",
       " 'MERCEDES1 foggy': 0.06906542056074766,\n",
       " 'FERRARI1 rainy': 0.04710280373831776,\n",
       " 'FERRARI1 sunny': 0.04710280373831776,\n",
       " 'FERRARI1 cloudy': 0.04710280373831776,\n",
       " 'FERRARI1 snowy': 0.04710280373831776,\n",
       " 'FERRARI1 foggy': 0.04710280373831776,\n",
       " 'REDBULLRACINGHONDA rainy': 0.03457943925233645,\n",
       " 'REDBULLRACINGHONDA sunny': 0.03457943925233645,\n",
       " 'REDBULLRACINGHONDA cloudy': 0.03457943925233645,\n",
       " 'REDBULLRACINGHONDA snowy': 0.03457943925233645,\n",
       " 'REDBULLRACINGHONDA foggy': 0.03457943925233645,\n",
       " 'MCLARENRENAULT rainy': 0.013551401869158878,\n",
       " 'MCLARENRENAULT sunny': 0.013551401869158878,\n",
       " 'MCLARENRENAULT cloudy': 0.013551401869158878,\n",
       " 'MCLARENRENAULT snowy': 0.013551401869158878,\n",
       " 'MCLARENRENAULT foggy': 0.013551401869158878,\n",
       " 'RENAULT1 rainy': 0.008504672897196263,\n",
       " 'RENAULT1 sunny': 0.008504672897196263,\n",
       " 'RENAULT1 cloudy': 0.008504672897196263,\n",
       " 'RENAULT1 snowy': 0.008504672897196263,\n",
       " 'RENAULT1 foggy': 0.008504672897196263,\n",
       " 'SCUDERIATOROROSSOHONDA rainy': 0.012336448598130842,\n",
       " 'SCUDERIATOROROSSOHONDA sunny': 0.012336448598130842,\n",
       " 'SCUDERIATOROROSSOHONDA cloudy': 0.012336448598130842,\n",
       " 'SCUDERIATOROROSSOHONDA snowy': 0.012336448598130842,\n",
       " 'SCUDERIATOROROSSOHONDA foggy': 0.012336448598130842,\n",
       " 'RACINGPOINTBWTMERCEDES rainy': 0.006822429906542056,\n",
       " 'RACINGPOINTBWTMERCEDES sunny': 0.006822429906542056,\n",
       " 'RACINGPOINTBWTMERCEDES cloudy': 0.006822429906542056,\n",
       " 'RACINGPOINTBWTMERCEDES snowy': 0.006822429906542056,\n",
       " 'RACINGPOINTBWTMERCEDES foggy': 0.006822429906542056,\n",
       " 'ALFAROMEORACINGFERRARI rainy': 0.005327102803738318,\n",
       " 'ALFAROMEORACINGFERRARI sunny': 0.005327102803738318,\n",
       " 'ALFAROMEORACINGFERRARI cloudy': 0.005327102803738318,\n",
       " 'ALFAROMEORACINGFERRARI snowy': 0.005327102803738318,\n",
       " 'ALFAROMEORACINGFERRARI foggy': 0.005327102803738318,\n",
       " 'HAASFERRARI rainy': 0.002616822429906542,\n",
       " 'HAASFERRARI sunny': 0.002616822429906542,\n",
       " 'HAASFERRARI cloudy': 0.002616822429906542,\n",
       " 'HAASFERRARI snowy': 0.002616822429906542,\n",
       " 'HAASFERRARI foggy': 0.002616822429906542,\n",
       " 'WILLIAMSMERCEDES rainy': 9.345794392523365e-05,\n",
       " 'WILLIAMSMERCEDES sunny': 9.345794392523365e-05,\n",
       " 'WILLIAMSMERCEDES cloudy': 9.345794392523365e-05,\n",
       " 'WILLIAMSMERCEDES snowy': 9.345794392523365e-05,\n",
       " 'WILLIAMSMERCEDES foggy': 9.345794392523365e-05}"
      ]
     },
     "execution_count": 231,
     "metadata": {},
     "output_type": "execute_result"
    }
   ],
   "source": [
    "S = joint(SGP, weather, ' ')\n",
    "S"
   ]
  },
  {
   "cell_type": "code",
   "execution_count": 232,
   "metadata": {},
   "outputs": [
    {
     "data": {
      "text/plain": [
       "{'MERCEDES1 rainy': 0.06906542056074766,\n",
       " 'MERCEDES1 sunny': 0.06906542056074766,\n",
       " 'MERCEDES1 cloudy': 0.06906542056074766,\n",
       " 'MERCEDES1 snowy': 0.06906542056074766,\n",
       " 'MERCEDES1 foggy': 0.06906542056074766,\n",
       " 'FERRARI1 rainy': 0.04710280373831776,\n",
       " 'FERRARI1 sunny': 0.04710280373831776,\n",
       " 'FERRARI1 cloudy': 0.04710280373831776,\n",
       " 'FERRARI1 snowy': 0.04710280373831776,\n",
       " 'FERRARI1 foggy': 0.04710280373831776,\n",
       " 'REDBULLRACINGHONDA rainy': 0.03457943925233645,\n",
       " 'REDBULLRACINGHONDA sunny': 0.03457943925233645,\n",
       " 'REDBULLRACINGHONDA cloudy': 0.03457943925233645,\n",
       " 'REDBULLRACINGHONDA snowy': 0.03457943925233645,\n",
       " 'REDBULLRACINGHONDA foggy': 0.03457943925233645,\n",
       " 'MCLARENRENAULT rainy': 0.013551401869158878,\n",
       " 'MCLARENRENAULT sunny': 0.013551401869158878,\n",
       " 'MCLARENRENAULT cloudy': 0.013551401869158878,\n",
       " 'MCLARENRENAULT snowy': 0.013551401869158878,\n",
       " 'MCLARENRENAULT foggy': 0.013551401869158878,\n",
       " 'RENAULT1 rainy': 0.008504672897196263,\n",
       " 'RENAULT1 sunny': 0.008504672897196263,\n",
       " 'RENAULT1 cloudy': 0.008504672897196263,\n",
       " 'RENAULT1 snowy': 0.008504672897196263,\n",
       " 'RENAULT1 foggy': 0.008504672897196263,\n",
       " 'SCUDERIATOROROSSOHONDA rainy': 0.012336448598130842,\n",
       " 'SCUDERIATOROROSSOHONDA sunny': 0.012336448598130842,\n",
       " 'SCUDERIATOROROSSOHONDA cloudy': 0.012336448598130842,\n",
       " 'SCUDERIATOROROSSOHONDA snowy': 0.012336448598130842,\n",
       " 'SCUDERIATOROROSSOHONDA foggy': 0.012336448598130842,\n",
       " 'RACINGPOINTBWTMERCEDES rainy': 0.006822429906542056,\n",
       " 'RACINGPOINTBWTMERCEDES sunny': 0.006822429906542056,\n",
       " 'RACINGPOINTBWTMERCEDES cloudy': 0.006822429906542056,\n",
       " 'RACINGPOINTBWTMERCEDES snowy': 0.006822429906542056,\n",
       " 'RACINGPOINTBWTMERCEDES foggy': 0.006822429906542056,\n",
       " 'ALFAROMEORACINGFERRARI rainy': 0.005327102803738318,\n",
       " 'ALFAROMEORACINGFERRARI sunny': 0.005327102803738318,\n",
       " 'ALFAROMEORACINGFERRARI cloudy': 0.005327102803738318,\n",
       " 'ALFAROMEORACINGFERRARI snowy': 0.005327102803738318,\n",
       " 'ALFAROMEORACINGFERRARI foggy': 0.005327102803738318,\n",
       " 'HAASFERRARI rainy': 0.002616822429906542,\n",
       " 'HAASFERRARI sunny': 0.002616822429906542,\n",
       " 'HAASFERRARI cloudy': 0.002616822429906542,\n",
       " 'HAASFERRARI snowy': 0.002616822429906542,\n",
       " 'HAASFERRARI foggy': 0.002616822429906542,\n",
       " 'WILLIAMSMERCEDES rainy': 9.345794392523365e-05,\n",
       " 'WILLIAMSMERCEDES sunny': 9.345794392523365e-05,\n",
       " 'WILLIAMSMERCEDES cloudy': 9.345794392523365e-05,\n",
       " 'WILLIAMSMERCEDES snowy': 9.345794392523365e-05,\n",
       " 'WILLIAMSMERCEDES foggy': 9.345794392523365e-05}"
      ]
     },
     "execution_count": 232,
     "metadata": {},
     "output_type": "execute_result"
    }
   ],
   "source": [
    "R = joint(SGP, weather, ' ')\n",
    "R"
   ]
  },
  {
   "cell_type": "code",
   "execution_count": 241,
   "metadata": {},
   "outputs": [
    {
     "data": {
      "text/plain": [
       "{'MERCEDES1 rainy MERCEDES1 rainy': 0.004770032317232955,\n",
       " 'MERCEDES1 rainy MERCEDES1 sunny': 0.004770032317232955,\n",
       " 'MERCEDES1 rainy MERCEDES1 cloudy': 0.004770032317232955,\n",
       " 'MERCEDES1 rainy MERCEDES1 snowy': 0.004770032317232955,\n",
       " 'MERCEDES1 rainy MERCEDES1 foggy': 0.004770032317232955,\n",
       " 'MERCEDES1 rainy FERRARI1 rainy': 0.0032531749497772796,\n",
       " 'MERCEDES1 rainy FERRARI1 sunny': 0.0032531749497772796,\n",
       " 'MERCEDES1 rainy FERRARI1 cloudy': 0.0032531749497772796,\n",
       " 'MERCEDES1 rainy FERRARI1 snowy': 0.0032531749497772796,\n",
       " 'MERCEDES1 rainy FERRARI1 foggy': 0.0032531749497772796,\n",
       " 'MERCEDES1 rainy REDBULLRACINGHONDA rainy': 0.002388243514717447,\n",
       " 'MERCEDES1 rainy REDBULLRACINGHONDA sunny': 0.002388243514717447,\n",
       " 'MERCEDES1 rainy REDBULLRACINGHONDA cloudy': 0.002388243514717447,\n",
       " 'MERCEDES1 rainy REDBULLRACINGHONDA snowy': 0.002388243514717447,\n",
       " 'MERCEDES1 rainy REDBULLRACINGHONDA foggy': 0.002388243514717447,\n",
       " 'MERCEDES1 rainy MCLARENRENAULT rainy': 0.0009359332692811616,\n",
       " 'MERCEDES1 rainy MCLARENRENAULT sunny': 0.0009359332692811616,\n",
       " 'MERCEDES1 rainy MCLARENRENAULT cloudy': 0.0009359332692811616,\n",
       " 'MERCEDES1 rainy MCLARENRENAULT snowy': 0.0009359332692811616,\n",
       " 'MERCEDES1 rainy MCLARENRENAULT foggy': 0.0009359332692811616,\n",
       " 'MERCEDES1 rainy RENAULT1 rainy': 0.0005873788103764534,\n",
       " 'MERCEDES1 rainy RENAULT1 sunny': 0.0005873788103764534,\n",
       " 'MERCEDES1 rainy RENAULT1 cloudy': 0.0005873788103764534,\n",
       " 'MERCEDES1 rainy RENAULT1 snowy': 0.0005873788103764534,\n",
       " 'MERCEDES1 rainy RENAULT1 foggy': 0.0005873788103764534,\n",
       " 'MERCEDES1 rainy SCUDERIATOROROSSOHONDA rainy': 0.0008520220106559542,\n",
       " 'MERCEDES1 rainy SCUDERIATOROROSSOHONDA sunny': 0.0008520220106559542,\n",
       " 'MERCEDES1 rainy SCUDERIATOROROSSOHONDA cloudy': 0.0008520220106559542,\n",
       " 'MERCEDES1 rainy SCUDERIATOROROSSOHONDA snowy': 0.0008520220106559542,\n",
       " 'MERCEDES1 rainy SCUDERIATOROROSSOHONDA foggy': 0.0008520220106559542,\n",
       " 'MERCEDES1 rainy RACINGPOINTBWTMERCEDES rainy': 0.0004711939907415504,\n",
       " 'MERCEDES1 rainy RACINGPOINTBWTMERCEDES sunny': 0.0004711939907415504,\n",
       " 'MERCEDES1 rainy RACINGPOINTBWTMERCEDES cloudy': 0.0004711939907415504,\n",
       " 'MERCEDES1 rainy RACINGPOINTBWTMERCEDES snowy': 0.0004711939907415504,\n",
       " 'MERCEDES1 rainy RACINGPOINTBWTMERCEDES foggy': 0.0004711939907415504,\n",
       " 'MERCEDES1 rainy ALFAROMEORACINGFERRARI rainy': 0.0003679185955105257,\n",
       " 'MERCEDES1 rainy ALFAROMEORACINGFERRARI sunny': 0.0003679185955105257,\n",
       " 'MERCEDES1 rainy ALFAROMEORACINGFERRARI cloudy': 0.0003679185955105257,\n",
       " 'MERCEDES1 rainy ALFAROMEORACINGFERRARI snowy': 0.0003679185955105257,\n",
       " 'MERCEDES1 rainy ALFAROMEORACINGFERRARI foggy': 0.0003679185955105257,\n",
       " 'MERCEDES1 rainy HAASFERRARI rainy': 0.0001807319416542933,\n",
       " 'MERCEDES1 rainy HAASFERRARI sunny': 0.0001807319416542933,\n",
       " 'MERCEDES1 rainy HAASFERRARI cloudy': 0.0001807319416542933,\n",
       " 'MERCEDES1 rainy HAASFERRARI snowy': 0.0001807319416542933,\n",
       " 'MERCEDES1 rainy HAASFERRARI foggy': 0.0001807319416542933,\n",
       " 'MERCEDES1 rainy WILLIAMSMERCEDES rainy': 6.454712201939047e-06,\n",
       " 'MERCEDES1 rainy WILLIAMSMERCEDES sunny': 6.454712201939047e-06,\n",
       " 'MERCEDES1 rainy WILLIAMSMERCEDES cloudy': 6.454712201939047e-06,\n",
       " 'MERCEDES1 rainy WILLIAMSMERCEDES snowy': 6.454712201939047e-06,\n",
       " 'MERCEDES1 rainy WILLIAMSMERCEDES foggy': 6.454712201939047e-06,\n",
       " 'MERCEDES1 sunny MERCEDES1 rainy': 0.004770032317232955,\n",
       " 'MERCEDES1 sunny MERCEDES1 sunny': 0.004770032317232955,\n",
       " 'MERCEDES1 sunny MERCEDES1 cloudy': 0.004770032317232955,\n",
       " 'MERCEDES1 sunny MERCEDES1 snowy': 0.004770032317232955,\n",
       " 'MERCEDES1 sunny MERCEDES1 foggy': 0.004770032317232955,\n",
       " 'MERCEDES1 sunny FERRARI1 rainy': 0.0032531749497772796,\n",
       " 'MERCEDES1 sunny FERRARI1 sunny': 0.0032531749497772796,\n",
       " 'MERCEDES1 sunny FERRARI1 cloudy': 0.0032531749497772796,\n",
       " 'MERCEDES1 sunny FERRARI1 snowy': 0.0032531749497772796,\n",
       " 'MERCEDES1 sunny FERRARI1 foggy': 0.0032531749497772796,\n",
       " 'MERCEDES1 sunny REDBULLRACINGHONDA rainy': 0.002388243514717447,\n",
       " 'MERCEDES1 sunny REDBULLRACINGHONDA sunny': 0.002388243514717447,\n",
       " 'MERCEDES1 sunny REDBULLRACINGHONDA cloudy': 0.002388243514717447,\n",
       " 'MERCEDES1 sunny REDBULLRACINGHONDA snowy': 0.002388243514717447,\n",
       " 'MERCEDES1 sunny REDBULLRACINGHONDA foggy': 0.002388243514717447,\n",
       " 'MERCEDES1 sunny MCLARENRENAULT rainy': 0.0009359332692811616,\n",
       " 'MERCEDES1 sunny MCLARENRENAULT sunny': 0.0009359332692811616,\n",
       " 'MERCEDES1 sunny MCLARENRENAULT cloudy': 0.0009359332692811616,\n",
       " 'MERCEDES1 sunny MCLARENRENAULT snowy': 0.0009359332692811616,\n",
       " 'MERCEDES1 sunny MCLARENRENAULT foggy': 0.0009359332692811616,\n",
       " 'MERCEDES1 sunny RENAULT1 rainy': 0.0005873788103764534,\n",
       " 'MERCEDES1 sunny RENAULT1 sunny': 0.0005873788103764534,\n",
       " 'MERCEDES1 sunny RENAULT1 cloudy': 0.0005873788103764534,\n",
       " 'MERCEDES1 sunny RENAULT1 snowy': 0.0005873788103764534,\n",
       " 'MERCEDES1 sunny RENAULT1 foggy': 0.0005873788103764534,\n",
       " 'MERCEDES1 sunny SCUDERIATOROROSSOHONDA rainy': 0.0008520220106559542,\n",
       " 'MERCEDES1 sunny SCUDERIATOROROSSOHONDA sunny': 0.0008520220106559542,\n",
       " 'MERCEDES1 sunny SCUDERIATOROROSSOHONDA cloudy': 0.0008520220106559542,\n",
       " 'MERCEDES1 sunny SCUDERIATOROROSSOHONDA snowy': 0.0008520220106559542,\n",
       " 'MERCEDES1 sunny SCUDERIATOROROSSOHONDA foggy': 0.0008520220106559542,\n",
       " 'MERCEDES1 sunny RACINGPOINTBWTMERCEDES rainy': 0.0004711939907415504,\n",
       " 'MERCEDES1 sunny RACINGPOINTBWTMERCEDES sunny': 0.0004711939907415504,\n",
       " 'MERCEDES1 sunny RACINGPOINTBWTMERCEDES cloudy': 0.0004711939907415504,\n",
       " 'MERCEDES1 sunny RACINGPOINTBWTMERCEDES snowy': 0.0004711939907415504,\n",
       " 'MERCEDES1 sunny RACINGPOINTBWTMERCEDES foggy': 0.0004711939907415504,\n",
       " 'MERCEDES1 sunny ALFAROMEORACINGFERRARI rainy': 0.0003679185955105257,\n",
       " 'MERCEDES1 sunny ALFAROMEORACINGFERRARI sunny': 0.0003679185955105257,\n",
       " 'MERCEDES1 sunny ALFAROMEORACINGFERRARI cloudy': 0.0003679185955105257,\n",
       " 'MERCEDES1 sunny ALFAROMEORACINGFERRARI snowy': 0.0003679185955105257,\n",
       " 'MERCEDES1 sunny ALFAROMEORACINGFERRARI foggy': 0.0003679185955105257,\n",
       " 'MERCEDES1 sunny HAASFERRARI rainy': 0.0001807319416542933,\n",
       " 'MERCEDES1 sunny HAASFERRARI sunny': 0.0001807319416542933,\n",
       " 'MERCEDES1 sunny HAASFERRARI cloudy': 0.0001807319416542933,\n",
       " 'MERCEDES1 sunny HAASFERRARI snowy': 0.0001807319416542933,\n",
       " 'MERCEDES1 sunny HAASFERRARI foggy': 0.0001807319416542933,\n",
       " 'MERCEDES1 sunny WILLIAMSMERCEDES rainy': 6.454712201939047e-06,\n",
       " 'MERCEDES1 sunny WILLIAMSMERCEDES sunny': 6.454712201939047e-06,\n",
       " 'MERCEDES1 sunny WILLIAMSMERCEDES cloudy': 6.454712201939047e-06,\n",
       " 'MERCEDES1 sunny WILLIAMSMERCEDES snowy': 6.454712201939047e-06,\n",
       " 'MERCEDES1 sunny WILLIAMSMERCEDES foggy': 6.454712201939047e-06,\n",
       " 'MERCEDES1 cloudy MERCEDES1 rainy': 0.004770032317232955,\n",
       " 'MERCEDES1 cloudy MERCEDES1 sunny': 0.004770032317232955,\n",
       " 'MERCEDES1 cloudy MERCEDES1 cloudy': 0.004770032317232955,\n",
       " 'MERCEDES1 cloudy MERCEDES1 snowy': 0.004770032317232955,\n",
       " 'MERCEDES1 cloudy MERCEDES1 foggy': 0.004770032317232955,\n",
       " 'MERCEDES1 cloudy FERRARI1 rainy': 0.0032531749497772796,\n",
       " 'MERCEDES1 cloudy FERRARI1 sunny': 0.0032531749497772796,\n",
       " 'MERCEDES1 cloudy FERRARI1 cloudy': 0.0032531749497772796,\n",
       " 'MERCEDES1 cloudy FERRARI1 snowy': 0.0032531749497772796,\n",
       " 'MERCEDES1 cloudy FERRARI1 foggy': 0.0032531749497772796,\n",
       " 'MERCEDES1 cloudy REDBULLRACINGHONDA rainy': 0.002388243514717447,\n",
       " 'MERCEDES1 cloudy REDBULLRACINGHONDA sunny': 0.002388243514717447,\n",
       " 'MERCEDES1 cloudy REDBULLRACINGHONDA cloudy': 0.002388243514717447,\n",
       " 'MERCEDES1 cloudy REDBULLRACINGHONDA snowy': 0.002388243514717447,\n",
       " 'MERCEDES1 cloudy REDBULLRACINGHONDA foggy': 0.002388243514717447,\n",
       " 'MERCEDES1 cloudy MCLARENRENAULT rainy': 0.0009359332692811616,\n",
       " 'MERCEDES1 cloudy MCLARENRENAULT sunny': 0.0009359332692811616,\n",
       " 'MERCEDES1 cloudy MCLARENRENAULT cloudy': 0.0009359332692811616,\n",
       " 'MERCEDES1 cloudy MCLARENRENAULT snowy': 0.0009359332692811616,\n",
       " 'MERCEDES1 cloudy MCLARENRENAULT foggy': 0.0009359332692811616,\n",
       " 'MERCEDES1 cloudy RENAULT1 rainy': 0.0005873788103764534,\n",
       " 'MERCEDES1 cloudy RENAULT1 sunny': 0.0005873788103764534,\n",
       " 'MERCEDES1 cloudy RENAULT1 cloudy': 0.0005873788103764534,\n",
       " 'MERCEDES1 cloudy RENAULT1 snowy': 0.0005873788103764534,\n",
       " 'MERCEDES1 cloudy RENAULT1 foggy': 0.0005873788103764534,\n",
       " 'MERCEDES1 cloudy SCUDERIATOROROSSOHONDA rainy': 0.0008520220106559542,\n",
       " 'MERCEDES1 cloudy SCUDERIATOROROSSOHONDA sunny': 0.0008520220106559542,\n",
       " 'MERCEDES1 cloudy SCUDERIATOROROSSOHONDA cloudy': 0.0008520220106559542,\n",
       " 'MERCEDES1 cloudy SCUDERIATOROROSSOHONDA snowy': 0.0008520220106559542,\n",
       " 'MERCEDES1 cloudy SCUDERIATOROROSSOHONDA foggy': 0.0008520220106559542,\n",
       " 'MERCEDES1 cloudy RACINGPOINTBWTMERCEDES rainy': 0.0004711939907415504,\n",
       " 'MERCEDES1 cloudy RACINGPOINTBWTMERCEDES sunny': 0.0004711939907415504,\n",
       " 'MERCEDES1 cloudy RACINGPOINTBWTMERCEDES cloudy': 0.0004711939907415504,\n",
       " 'MERCEDES1 cloudy RACINGPOINTBWTMERCEDES snowy': 0.0004711939907415504,\n",
       " 'MERCEDES1 cloudy RACINGPOINTBWTMERCEDES foggy': 0.0004711939907415504,\n",
       " 'MERCEDES1 cloudy ALFAROMEORACINGFERRARI rainy': 0.0003679185955105257,\n",
       " 'MERCEDES1 cloudy ALFAROMEORACINGFERRARI sunny': 0.0003679185955105257,\n",
       " 'MERCEDES1 cloudy ALFAROMEORACINGFERRARI cloudy': 0.0003679185955105257,\n",
       " 'MERCEDES1 cloudy ALFAROMEORACINGFERRARI snowy': 0.0003679185955105257,\n",
       " 'MERCEDES1 cloudy ALFAROMEORACINGFERRARI foggy': 0.0003679185955105257,\n",
       " 'MERCEDES1 cloudy HAASFERRARI rainy': 0.0001807319416542933,\n",
       " 'MERCEDES1 cloudy HAASFERRARI sunny': 0.0001807319416542933,\n",
       " 'MERCEDES1 cloudy HAASFERRARI cloudy': 0.0001807319416542933,\n",
       " 'MERCEDES1 cloudy HAASFERRARI snowy': 0.0001807319416542933,\n",
       " 'MERCEDES1 cloudy HAASFERRARI foggy': 0.0001807319416542933,\n",
       " 'MERCEDES1 cloudy WILLIAMSMERCEDES rainy': 6.454712201939047e-06,\n",
       " 'MERCEDES1 cloudy WILLIAMSMERCEDES sunny': 6.454712201939047e-06,\n",
       " 'MERCEDES1 cloudy WILLIAMSMERCEDES cloudy': 6.454712201939047e-06,\n",
       " 'MERCEDES1 cloudy WILLIAMSMERCEDES snowy': 6.454712201939047e-06,\n",
       " 'MERCEDES1 cloudy WILLIAMSMERCEDES foggy': 6.454712201939047e-06,\n",
       " 'MERCEDES1 snowy MERCEDES1 rainy': 0.004770032317232955,\n",
       " 'MERCEDES1 snowy MERCEDES1 sunny': 0.004770032317232955,\n",
       " 'MERCEDES1 snowy MERCEDES1 cloudy': 0.004770032317232955,\n",
       " 'MERCEDES1 snowy MERCEDES1 snowy': 0.004770032317232955,\n",
       " 'MERCEDES1 snowy MERCEDES1 foggy': 0.004770032317232955,\n",
       " 'MERCEDES1 snowy FERRARI1 rainy': 0.0032531749497772796,\n",
       " 'MERCEDES1 snowy FERRARI1 sunny': 0.0032531749497772796,\n",
       " 'MERCEDES1 snowy FERRARI1 cloudy': 0.0032531749497772796,\n",
       " 'MERCEDES1 snowy FERRARI1 snowy': 0.0032531749497772796,\n",
       " 'MERCEDES1 snowy FERRARI1 foggy': 0.0032531749497772796,\n",
       " 'MERCEDES1 snowy REDBULLRACINGHONDA rainy': 0.002388243514717447,\n",
       " 'MERCEDES1 snowy REDBULLRACINGHONDA sunny': 0.002388243514717447,\n",
       " 'MERCEDES1 snowy REDBULLRACINGHONDA cloudy': 0.002388243514717447,\n",
       " 'MERCEDES1 snowy REDBULLRACINGHONDA snowy': 0.002388243514717447,\n",
       " 'MERCEDES1 snowy REDBULLRACINGHONDA foggy': 0.002388243514717447,\n",
       " 'MERCEDES1 snowy MCLARENRENAULT rainy': 0.0009359332692811616,\n",
       " 'MERCEDES1 snowy MCLARENRENAULT sunny': 0.0009359332692811616,\n",
       " 'MERCEDES1 snowy MCLARENRENAULT cloudy': 0.0009359332692811616,\n",
       " 'MERCEDES1 snowy MCLARENRENAULT snowy': 0.0009359332692811616,\n",
       " 'MERCEDES1 snowy MCLARENRENAULT foggy': 0.0009359332692811616,\n",
       " 'MERCEDES1 snowy RENAULT1 rainy': 0.0005873788103764534,\n",
       " 'MERCEDES1 snowy RENAULT1 sunny': 0.0005873788103764534,\n",
       " 'MERCEDES1 snowy RENAULT1 cloudy': 0.0005873788103764534,\n",
       " 'MERCEDES1 snowy RENAULT1 snowy': 0.0005873788103764534,\n",
       " 'MERCEDES1 snowy RENAULT1 foggy': 0.0005873788103764534,\n",
       " 'MERCEDES1 snowy SCUDERIATOROROSSOHONDA rainy': 0.0008520220106559542,\n",
       " 'MERCEDES1 snowy SCUDERIATOROROSSOHONDA sunny': 0.0008520220106559542,\n",
       " 'MERCEDES1 snowy SCUDERIATOROROSSOHONDA cloudy': 0.0008520220106559542,\n",
       " 'MERCEDES1 snowy SCUDERIATOROROSSOHONDA snowy': 0.0008520220106559542,\n",
       " 'MERCEDES1 snowy SCUDERIATOROROSSOHONDA foggy': 0.0008520220106559542,\n",
       " 'MERCEDES1 snowy RACINGPOINTBWTMERCEDES rainy': 0.0004711939907415504,\n",
       " 'MERCEDES1 snowy RACINGPOINTBWTMERCEDES sunny': 0.0004711939907415504,\n",
       " 'MERCEDES1 snowy RACINGPOINTBWTMERCEDES cloudy': 0.0004711939907415504,\n",
       " 'MERCEDES1 snowy RACINGPOINTBWTMERCEDES snowy': 0.0004711939907415504,\n",
       " 'MERCEDES1 snowy RACINGPOINTBWTMERCEDES foggy': 0.0004711939907415504,\n",
       " 'MERCEDES1 snowy ALFAROMEORACINGFERRARI rainy': 0.0003679185955105257,\n",
       " 'MERCEDES1 snowy ALFAROMEORACINGFERRARI sunny': 0.0003679185955105257,\n",
       " 'MERCEDES1 snowy ALFAROMEORACINGFERRARI cloudy': 0.0003679185955105257,\n",
       " 'MERCEDES1 snowy ALFAROMEORACINGFERRARI snowy': 0.0003679185955105257,\n",
       " 'MERCEDES1 snowy ALFAROMEORACINGFERRARI foggy': 0.0003679185955105257,\n",
       " 'MERCEDES1 snowy HAASFERRARI rainy': 0.0001807319416542933,\n",
       " 'MERCEDES1 snowy HAASFERRARI sunny': 0.0001807319416542933,\n",
       " 'MERCEDES1 snowy HAASFERRARI cloudy': 0.0001807319416542933,\n",
       " 'MERCEDES1 snowy HAASFERRARI snowy': 0.0001807319416542933,\n",
       " 'MERCEDES1 snowy HAASFERRARI foggy': 0.0001807319416542933,\n",
       " 'MERCEDES1 snowy WILLIAMSMERCEDES rainy': 6.454712201939047e-06,\n",
       " 'MERCEDES1 snowy WILLIAMSMERCEDES sunny': 6.454712201939047e-06,\n",
       " 'MERCEDES1 snowy WILLIAMSMERCEDES cloudy': 6.454712201939047e-06,\n",
       " 'MERCEDES1 snowy WILLIAMSMERCEDES snowy': 6.454712201939047e-06,\n",
       " 'MERCEDES1 snowy WILLIAMSMERCEDES foggy': 6.454712201939047e-06,\n",
       " 'MERCEDES1 foggy MERCEDES1 rainy': 0.004770032317232955,\n",
       " 'MERCEDES1 foggy MERCEDES1 sunny': 0.004770032317232955,\n",
       " 'MERCEDES1 foggy MERCEDES1 cloudy': 0.004770032317232955,\n",
       " 'MERCEDES1 foggy MERCEDES1 snowy': 0.004770032317232955,\n",
       " 'MERCEDES1 foggy MERCEDES1 foggy': 0.004770032317232955,\n",
       " 'MERCEDES1 foggy FERRARI1 rainy': 0.0032531749497772796,\n",
       " 'MERCEDES1 foggy FERRARI1 sunny': 0.0032531749497772796,\n",
       " 'MERCEDES1 foggy FERRARI1 cloudy': 0.0032531749497772796,\n",
       " 'MERCEDES1 foggy FERRARI1 snowy': 0.0032531749497772796,\n",
       " 'MERCEDES1 foggy FERRARI1 foggy': 0.0032531749497772796,\n",
       " 'MERCEDES1 foggy REDBULLRACINGHONDA rainy': 0.002388243514717447,\n",
       " 'MERCEDES1 foggy REDBULLRACINGHONDA sunny': 0.002388243514717447,\n",
       " 'MERCEDES1 foggy REDBULLRACINGHONDA cloudy': 0.002388243514717447,\n",
       " 'MERCEDES1 foggy REDBULLRACINGHONDA snowy': 0.002388243514717447,\n",
       " 'MERCEDES1 foggy REDBULLRACINGHONDA foggy': 0.002388243514717447,\n",
       " 'MERCEDES1 foggy MCLARENRENAULT rainy': 0.0009359332692811616,\n",
       " 'MERCEDES1 foggy MCLARENRENAULT sunny': 0.0009359332692811616,\n",
       " 'MERCEDES1 foggy MCLARENRENAULT cloudy': 0.0009359332692811616,\n",
       " 'MERCEDES1 foggy MCLARENRENAULT snowy': 0.0009359332692811616,\n",
       " 'MERCEDES1 foggy MCLARENRENAULT foggy': 0.0009359332692811616,\n",
       " 'MERCEDES1 foggy RENAULT1 rainy': 0.0005873788103764534,\n",
       " 'MERCEDES1 foggy RENAULT1 sunny': 0.0005873788103764534,\n",
       " 'MERCEDES1 foggy RENAULT1 cloudy': 0.0005873788103764534,\n",
       " 'MERCEDES1 foggy RENAULT1 snowy': 0.0005873788103764534,\n",
       " 'MERCEDES1 foggy RENAULT1 foggy': 0.0005873788103764534,\n",
       " 'MERCEDES1 foggy SCUDERIATOROROSSOHONDA rainy': 0.0008520220106559542,\n",
       " 'MERCEDES1 foggy SCUDERIATOROROSSOHONDA sunny': 0.0008520220106559542,\n",
       " 'MERCEDES1 foggy SCUDERIATOROROSSOHONDA cloudy': 0.0008520220106559542,\n",
       " 'MERCEDES1 foggy SCUDERIATOROROSSOHONDA snowy': 0.0008520220106559542,\n",
       " 'MERCEDES1 foggy SCUDERIATOROROSSOHONDA foggy': 0.0008520220106559542,\n",
       " 'MERCEDES1 foggy RACINGPOINTBWTMERCEDES rainy': 0.0004711939907415504,\n",
       " 'MERCEDES1 foggy RACINGPOINTBWTMERCEDES sunny': 0.0004711939907415504,\n",
       " 'MERCEDES1 foggy RACINGPOINTBWTMERCEDES cloudy': 0.0004711939907415504,\n",
       " 'MERCEDES1 foggy RACINGPOINTBWTMERCEDES snowy': 0.0004711939907415504,\n",
       " 'MERCEDES1 foggy RACINGPOINTBWTMERCEDES foggy': 0.0004711939907415504,\n",
       " 'MERCEDES1 foggy ALFAROMEORACINGFERRARI rainy': 0.0003679185955105257,\n",
       " 'MERCEDES1 foggy ALFAROMEORACINGFERRARI sunny': 0.0003679185955105257,\n",
       " 'MERCEDES1 foggy ALFAROMEORACINGFERRARI cloudy': 0.0003679185955105257,\n",
       " 'MERCEDES1 foggy ALFAROMEORACINGFERRARI snowy': 0.0003679185955105257,\n",
       " 'MERCEDES1 foggy ALFAROMEORACINGFERRARI foggy': 0.0003679185955105257,\n",
       " 'MERCEDES1 foggy HAASFERRARI rainy': 0.0001807319416542933,\n",
       " 'MERCEDES1 foggy HAASFERRARI sunny': 0.0001807319416542933,\n",
       " 'MERCEDES1 foggy HAASFERRARI cloudy': 0.0001807319416542933,\n",
       " 'MERCEDES1 foggy HAASFERRARI snowy': 0.0001807319416542933,\n",
       " 'MERCEDES1 foggy HAASFERRARI foggy': 0.0001807319416542933,\n",
       " 'MERCEDES1 foggy WILLIAMSMERCEDES rainy': 6.454712201939047e-06,\n",
       " 'MERCEDES1 foggy WILLIAMSMERCEDES sunny': 6.454712201939047e-06,\n",
       " 'MERCEDES1 foggy WILLIAMSMERCEDES cloudy': 6.454712201939047e-06,\n",
       " 'MERCEDES1 foggy WILLIAMSMERCEDES snowy': 6.454712201939047e-06,\n",
       " 'MERCEDES1 foggy WILLIAMSMERCEDES foggy': 6.454712201939047e-06,\n",
       " 'FERRARI1 rainy MERCEDES1 rainy': 0.0032531749497772796,\n",
       " 'FERRARI1 rainy MERCEDES1 sunny': 0.0032531749497772796,\n",
       " 'FERRARI1 rainy MERCEDES1 cloudy': 0.0032531749497772796,\n",
       " 'FERRARI1 rainy MERCEDES1 snowy': 0.0032531749497772796,\n",
       " 'FERRARI1 rainy MERCEDES1 foggy': 0.0032531749497772796,\n",
       " 'FERRARI1 rainy FERRARI1 rainy': 0.002218674120010486,\n",
       " 'FERRARI1 rainy FERRARI1 sunny': 0.002218674120010486,\n",
       " 'FERRARI1 rainy FERRARI1 cloudy': 0.002218674120010486,\n",
       " 'FERRARI1 rainy FERRARI1 snowy': 0.002218674120010486,\n",
       " 'FERRARI1 rainy FERRARI1 foggy': 0.002218674120010486,\n",
       " 'FERRARI1 rainy REDBULLRACINGHONDA rainy': 0.0016287885404838883,\n",
       " 'FERRARI1 rainy REDBULLRACINGHONDA sunny': 0.0016287885404838883,\n",
       " 'FERRARI1 rainy REDBULLRACINGHONDA cloudy': 0.0016287885404838883,\n",
       " 'FERRARI1 rainy REDBULLRACINGHONDA snowy': 0.0016287885404838883,\n",
       " 'FERRARI1 rainy REDBULLRACINGHONDA foggy': 0.0016287885404838883,\n",
       " 'FERRARI1 rainy MCLARENRENAULT rainy': 0.0006383090226220644,\n",
       " 'FERRARI1 rainy MCLARENRENAULT sunny': 0.0006383090226220644,\n",
       " 'FERRARI1 rainy MCLARENRENAULT cloudy': 0.0006383090226220644,\n",
       " 'FERRARI1 rainy MCLARENRENAULT snowy': 0.0006383090226220644,\n",
       " 'FERRARI1 rainy MCLARENRENAULT foggy': 0.0006383090226220644,\n",
       " 'FERRARI1 rainy RENAULT1 rainy': 0.00040059393833522666,\n",
       " 'FERRARI1 rainy RENAULT1 sunny': 0.00040059393833522666,\n",
       " 'FERRARI1 rainy RENAULT1 cloudy': 0.00040059393833522666,\n",
       " 'FERRARI1 rainy RENAULT1 snowy': 0.00040059393833522666,\n",
       " 'FERRARI1 rainy RENAULT1 foggy': 0.00040059393833522666,\n",
       " 'FERRARI1 rainy SCUDERIATOROROSSOHONDA rainy': 0.0005810813171456035,\n",
       " 'FERRARI1 rainy SCUDERIATOROROSSOHONDA sunny': 0.0005810813171456035,\n",
       " 'FERRARI1 rainy SCUDERIATOROROSSOHONDA cloudy': 0.0005810813171456035,\n",
       " 'FERRARI1 rainy SCUDERIATOROROSSOHONDA snowy': 0.0005810813171456035,\n",
       " 'FERRARI1 rainy SCUDERIATOROROSSOHONDA foggy': 0.0005810813171456035,\n",
       " 'FERRARI1 rainy RACINGPOINTBWTMERCEDES rainy': 0.0003213555769062807,\n",
       " 'FERRARI1 rainy RACINGPOINTBWTMERCEDES sunny': 0.0003213555769062807,\n",
       " 'FERRARI1 rainy RACINGPOINTBWTMERCEDES cloudy': 0.0003213555769062807,\n",
       " 'FERRARI1 rainy RACINGPOINTBWTMERCEDES snowy': 0.0003213555769062807,\n",
       " 'FERRARI1 rainy RACINGPOINTBWTMERCEDES foggy': 0.0003213555769062807,\n",
       " 'FERRARI1 rainy ALFAROMEORACINGFERRARI rainy': 0.0002509214778583288,\n",
       " 'FERRARI1 rainy ALFAROMEORACINGFERRARI sunny': 0.0002509214778583288,\n",
       " 'FERRARI1 rainy ALFAROMEORACINGFERRARI cloudy': 0.0002509214778583288,\n",
       " 'FERRARI1 rainy ALFAROMEORACINGFERRARI snowy': 0.0002509214778583288,\n",
       " 'FERRARI1 rainy ALFAROMEORACINGFERRARI foggy': 0.0002509214778583288,\n",
       " 'FERRARI1 rainy HAASFERRARI rainy': 0.00012325967333391588,\n",
       " 'FERRARI1 rainy HAASFERRARI sunny': 0.00012325967333391588,\n",
       " 'FERRARI1 rainy HAASFERRARI cloudy': 0.00012325967333391588,\n",
       " 'FERRARI1 rainy HAASFERRARI snowy': 0.00012325967333391588,\n",
       " 'FERRARI1 rainy HAASFERRARI foggy': 0.00012325967333391588,\n",
       " 'FERRARI1 rainy WILLIAMSMERCEDES rainy': 4.402131190496996e-06,\n",
       " 'FERRARI1 rainy WILLIAMSMERCEDES sunny': 4.402131190496996e-06,\n",
       " 'FERRARI1 rainy WILLIAMSMERCEDES cloudy': 4.402131190496996e-06,\n",
       " 'FERRARI1 rainy WILLIAMSMERCEDES snowy': 4.402131190496996e-06,\n",
       " 'FERRARI1 rainy WILLIAMSMERCEDES foggy': 4.402131190496996e-06,\n",
       " 'FERRARI1 sunny MERCEDES1 rainy': 0.0032531749497772796,\n",
       " 'FERRARI1 sunny MERCEDES1 sunny': 0.0032531749497772796,\n",
       " 'FERRARI1 sunny MERCEDES1 cloudy': 0.0032531749497772796,\n",
       " 'FERRARI1 sunny MERCEDES1 snowy': 0.0032531749497772796,\n",
       " 'FERRARI1 sunny MERCEDES1 foggy': 0.0032531749497772796,\n",
       " 'FERRARI1 sunny FERRARI1 rainy': 0.002218674120010486,\n",
       " 'FERRARI1 sunny FERRARI1 sunny': 0.002218674120010486,\n",
       " 'FERRARI1 sunny FERRARI1 cloudy': 0.002218674120010486,\n",
       " 'FERRARI1 sunny FERRARI1 snowy': 0.002218674120010486,\n",
       " 'FERRARI1 sunny FERRARI1 foggy': 0.002218674120010486,\n",
       " 'FERRARI1 sunny REDBULLRACINGHONDA rainy': 0.0016287885404838883,\n",
       " 'FERRARI1 sunny REDBULLRACINGHONDA sunny': 0.0016287885404838883,\n",
       " 'FERRARI1 sunny REDBULLRACINGHONDA cloudy': 0.0016287885404838883,\n",
       " 'FERRARI1 sunny REDBULLRACINGHONDA snowy': 0.0016287885404838883,\n",
       " 'FERRARI1 sunny REDBULLRACINGHONDA foggy': 0.0016287885404838883,\n",
       " 'FERRARI1 sunny MCLARENRENAULT rainy': 0.0006383090226220644,\n",
       " 'FERRARI1 sunny MCLARENRENAULT sunny': 0.0006383090226220644,\n",
       " 'FERRARI1 sunny MCLARENRENAULT cloudy': 0.0006383090226220644,\n",
       " 'FERRARI1 sunny MCLARENRENAULT snowy': 0.0006383090226220644,\n",
       " 'FERRARI1 sunny MCLARENRENAULT foggy': 0.0006383090226220644,\n",
       " 'FERRARI1 sunny RENAULT1 rainy': 0.00040059393833522666,\n",
       " 'FERRARI1 sunny RENAULT1 sunny': 0.00040059393833522666,\n",
       " 'FERRARI1 sunny RENAULT1 cloudy': 0.00040059393833522666,\n",
       " 'FERRARI1 sunny RENAULT1 snowy': 0.00040059393833522666,\n",
       " 'FERRARI1 sunny RENAULT1 foggy': 0.00040059393833522666,\n",
       " 'FERRARI1 sunny SCUDERIATOROROSSOHONDA rainy': 0.0005810813171456035,\n",
       " 'FERRARI1 sunny SCUDERIATOROROSSOHONDA sunny': 0.0005810813171456035,\n",
       " 'FERRARI1 sunny SCUDERIATOROROSSOHONDA cloudy': 0.0005810813171456035,\n",
       " 'FERRARI1 sunny SCUDERIATOROROSSOHONDA snowy': 0.0005810813171456035,\n",
       " 'FERRARI1 sunny SCUDERIATOROROSSOHONDA foggy': 0.0005810813171456035,\n",
       " 'FERRARI1 sunny RACINGPOINTBWTMERCEDES rainy': 0.0003213555769062807,\n",
       " 'FERRARI1 sunny RACINGPOINTBWTMERCEDES sunny': 0.0003213555769062807,\n",
       " 'FERRARI1 sunny RACINGPOINTBWTMERCEDES cloudy': 0.0003213555769062807,\n",
       " 'FERRARI1 sunny RACINGPOINTBWTMERCEDES snowy': 0.0003213555769062807,\n",
       " 'FERRARI1 sunny RACINGPOINTBWTMERCEDES foggy': 0.0003213555769062807,\n",
       " 'FERRARI1 sunny ALFAROMEORACINGFERRARI rainy': 0.0002509214778583288,\n",
       " 'FERRARI1 sunny ALFAROMEORACINGFERRARI sunny': 0.0002509214778583288,\n",
       " 'FERRARI1 sunny ALFAROMEORACINGFERRARI cloudy': 0.0002509214778583288,\n",
       " 'FERRARI1 sunny ALFAROMEORACINGFERRARI snowy': 0.0002509214778583288,\n",
       " 'FERRARI1 sunny ALFAROMEORACINGFERRARI foggy': 0.0002509214778583288,\n",
       " 'FERRARI1 sunny HAASFERRARI rainy': 0.00012325967333391588,\n",
       " 'FERRARI1 sunny HAASFERRARI sunny': 0.00012325967333391588,\n",
       " 'FERRARI1 sunny HAASFERRARI cloudy': 0.00012325967333391588,\n",
       " 'FERRARI1 sunny HAASFERRARI snowy': 0.00012325967333391588,\n",
       " 'FERRARI1 sunny HAASFERRARI foggy': 0.00012325967333391588,\n",
       " 'FERRARI1 sunny WILLIAMSMERCEDES rainy': 4.402131190496996e-06,\n",
       " 'FERRARI1 sunny WILLIAMSMERCEDES sunny': 4.402131190496996e-06,\n",
       " 'FERRARI1 sunny WILLIAMSMERCEDES cloudy': 4.402131190496996e-06,\n",
       " 'FERRARI1 sunny WILLIAMSMERCEDES snowy': 4.402131190496996e-06,\n",
       " 'FERRARI1 sunny WILLIAMSMERCEDES foggy': 4.402131190496996e-06,\n",
       " 'FERRARI1 cloudy MERCEDES1 rainy': 0.0032531749497772796,\n",
       " 'FERRARI1 cloudy MERCEDES1 sunny': 0.0032531749497772796,\n",
       " 'FERRARI1 cloudy MERCEDES1 cloudy': 0.0032531749497772796,\n",
       " 'FERRARI1 cloudy MERCEDES1 snowy': 0.0032531749497772796,\n",
       " 'FERRARI1 cloudy MERCEDES1 foggy': 0.0032531749497772796,\n",
       " 'FERRARI1 cloudy FERRARI1 rainy': 0.002218674120010486,\n",
       " 'FERRARI1 cloudy FERRARI1 sunny': 0.002218674120010486,\n",
       " 'FERRARI1 cloudy FERRARI1 cloudy': 0.002218674120010486,\n",
       " 'FERRARI1 cloudy FERRARI1 snowy': 0.002218674120010486,\n",
       " 'FERRARI1 cloudy FERRARI1 foggy': 0.002218674120010486,\n",
       " 'FERRARI1 cloudy REDBULLRACINGHONDA rainy': 0.0016287885404838883,\n",
       " 'FERRARI1 cloudy REDBULLRACINGHONDA sunny': 0.0016287885404838883,\n",
       " 'FERRARI1 cloudy REDBULLRACINGHONDA cloudy': 0.0016287885404838883,\n",
       " 'FERRARI1 cloudy REDBULLRACINGHONDA snowy': 0.0016287885404838883,\n",
       " 'FERRARI1 cloudy REDBULLRACINGHONDA foggy': 0.0016287885404838883,\n",
       " 'FERRARI1 cloudy MCLARENRENAULT rainy': 0.0006383090226220644,\n",
       " 'FERRARI1 cloudy MCLARENRENAULT sunny': 0.0006383090226220644,\n",
       " 'FERRARI1 cloudy MCLARENRENAULT cloudy': 0.0006383090226220644,\n",
       " 'FERRARI1 cloudy MCLARENRENAULT snowy': 0.0006383090226220644,\n",
       " 'FERRARI1 cloudy MCLARENRENAULT foggy': 0.0006383090226220644,\n",
       " 'FERRARI1 cloudy RENAULT1 rainy': 0.00040059393833522666,\n",
       " 'FERRARI1 cloudy RENAULT1 sunny': 0.00040059393833522666,\n",
       " 'FERRARI1 cloudy RENAULT1 cloudy': 0.00040059393833522666,\n",
       " 'FERRARI1 cloudy RENAULT1 snowy': 0.00040059393833522666,\n",
       " 'FERRARI1 cloudy RENAULT1 foggy': 0.00040059393833522666,\n",
       " 'FERRARI1 cloudy SCUDERIATOROROSSOHONDA rainy': 0.0005810813171456035,\n",
       " 'FERRARI1 cloudy SCUDERIATOROROSSOHONDA sunny': 0.0005810813171456035,\n",
       " 'FERRARI1 cloudy SCUDERIATOROROSSOHONDA cloudy': 0.0005810813171456035,\n",
       " 'FERRARI1 cloudy SCUDERIATOROROSSOHONDA snowy': 0.0005810813171456035,\n",
       " 'FERRARI1 cloudy SCUDERIATOROROSSOHONDA foggy': 0.0005810813171456035,\n",
       " 'FERRARI1 cloudy RACINGPOINTBWTMERCEDES rainy': 0.0003213555769062807,\n",
       " 'FERRARI1 cloudy RACINGPOINTBWTMERCEDES sunny': 0.0003213555769062807,\n",
       " 'FERRARI1 cloudy RACINGPOINTBWTMERCEDES cloudy': 0.0003213555769062807,\n",
       " 'FERRARI1 cloudy RACINGPOINTBWTMERCEDES snowy': 0.0003213555769062807,\n",
       " 'FERRARI1 cloudy RACINGPOINTBWTMERCEDES foggy': 0.0003213555769062807,\n",
       " 'FERRARI1 cloudy ALFAROMEORACINGFERRARI rainy': 0.0002509214778583288,\n",
       " 'FERRARI1 cloudy ALFAROMEORACINGFERRARI sunny': 0.0002509214778583288,\n",
       " 'FERRARI1 cloudy ALFAROMEORACINGFERRARI cloudy': 0.0002509214778583288,\n",
       " 'FERRARI1 cloudy ALFAROMEORACINGFERRARI snowy': 0.0002509214778583288,\n",
       " 'FERRARI1 cloudy ALFAROMEORACINGFERRARI foggy': 0.0002509214778583288,\n",
       " 'FERRARI1 cloudy HAASFERRARI rainy': 0.00012325967333391588,\n",
       " 'FERRARI1 cloudy HAASFERRARI sunny': 0.00012325967333391588,\n",
       " 'FERRARI1 cloudy HAASFERRARI cloudy': 0.00012325967333391588,\n",
       " 'FERRARI1 cloudy HAASFERRARI snowy': 0.00012325967333391588,\n",
       " 'FERRARI1 cloudy HAASFERRARI foggy': 0.00012325967333391588,\n",
       " 'FERRARI1 cloudy WILLIAMSMERCEDES rainy': 4.402131190496996e-06,\n",
       " 'FERRARI1 cloudy WILLIAMSMERCEDES sunny': 4.402131190496996e-06,\n",
       " 'FERRARI1 cloudy WILLIAMSMERCEDES cloudy': 4.402131190496996e-06,\n",
       " 'FERRARI1 cloudy WILLIAMSMERCEDES snowy': 4.402131190496996e-06,\n",
       " 'FERRARI1 cloudy WILLIAMSMERCEDES foggy': 4.402131190496996e-06,\n",
       " 'FERRARI1 snowy MERCEDES1 rainy': 0.0032531749497772796,\n",
       " 'FERRARI1 snowy MERCEDES1 sunny': 0.0032531749497772796,\n",
       " 'FERRARI1 snowy MERCEDES1 cloudy': 0.0032531749497772796,\n",
       " 'FERRARI1 snowy MERCEDES1 snowy': 0.0032531749497772796,\n",
       " 'FERRARI1 snowy MERCEDES1 foggy': 0.0032531749497772796,\n",
       " 'FERRARI1 snowy FERRARI1 rainy': 0.002218674120010486,\n",
       " 'FERRARI1 snowy FERRARI1 sunny': 0.002218674120010486,\n",
       " 'FERRARI1 snowy FERRARI1 cloudy': 0.002218674120010486,\n",
       " 'FERRARI1 snowy FERRARI1 snowy': 0.002218674120010486,\n",
       " 'FERRARI1 snowy FERRARI1 foggy': 0.002218674120010486,\n",
       " 'FERRARI1 snowy REDBULLRACINGHONDA rainy': 0.0016287885404838883,\n",
       " 'FERRARI1 snowy REDBULLRACINGHONDA sunny': 0.0016287885404838883,\n",
       " 'FERRARI1 snowy REDBULLRACINGHONDA cloudy': 0.0016287885404838883,\n",
       " 'FERRARI1 snowy REDBULLRACINGHONDA snowy': 0.0016287885404838883,\n",
       " 'FERRARI1 snowy REDBULLRACINGHONDA foggy': 0.0016287885404838883,\n",
       " 'FERRARI1 snowy MCLARENRENAULT rainy': 0.0006383090226220644,\n",
       " 'FERRARI1 snowy MCLARENRENAULT sunny': 0.0006383090226220644,\n",
       " 'FERRARI1 snowy MCLARENRENAULT cloudy': 0.0006383090226220644,\n",
       " 'FERRARI1 snowy MCLARENRENAULT snowy': 0.0006383090226220644,\n",
       " 'FERRARI1 snowy MCLARENRENAULT foggy': 0.0006383090226220644,\n",
       " 'FERRARI1 snowy RENAULT1 rainy': 0.00040059393833522666,\n",
       " 'FERRARI1 snowy RENAULT1 sunny': 0.00040059393833522666,\n",
       " 'FERRARI1 snowy RENAULT1 cloudy': 0.00040059393833522666,\n",
       " 'FERRARI1 snowy RENAULT1 snowy': 0.00040059393833522666,\n",
       " 'FERRARI1 snowy RENAULT1 foggy': 0.00040059393833522666,\n",
       " 'FERRARI1 snowy SCUDERIATOROROSSOHONDA rainy': 0.0005810813171456035,\n",
       " 'FERRARI1 snowy SCUDERIATOROROSSOHONDA sunny': 0.0005810813171456035,\n",
       " 'FERRARI1 snowy SCUDERIATOROROSSOHONDA cloudy': 0.0005810813171456035,\n",
       " 'FERRARI1 snowy SCUDERIATOROROSSOHONDA snowy': 0.0005810813171456035,\n",
       " 'FERRARI1 snowy SCUDERIATOROROSSOHONDA foggy': 0.0005810813171456035,\n",
       " 'FERRARI1 snowy RACINGPOINTBWTMERCEDES rainy': 0.0003213555769062807,\n",
       " 'FERRARI1 snowy RACINGPOINTBWTMERCEDES sunny': 0.0003213555769062807,\n",
       " 'FERRARI1 snowy RACINGPOINTBWTMERCEDES cloudy': 0.0003213555769062807,\n",
       " 'FERRARI1 snowy RACINGPOINTBWTMERCEDES snowy': 0.0003213555769062807,\n",
       " 'FERRARI1 snowy RACINGPOINTBWTMERCEDES foggy': 0.0003213555769062807,\n",
       " 'FERRARI1 snowy ALFAROMEORACINGFERRARI rainy': 0.0002509214778583288,\n",
       " 'FERRARI1 snowy ALFAROMEORACINGFERRARI sunny': 0.0002509214778583288,\n",
       " 'FERRARI1 snowy ALFAROMEORACINGFERRARI cloudy': 0.0002509214778583288,\n",
       " 'FERRARI1 snowy ALFAROMEORACINGFERRARI snowy': 0.0002509214778583288,\n",
       " 'FERRARI1 snowy ALFAROMEORACINGFERRARI foggy': 0.0002509214778583288,\n",
       " 'FERRARI1 snowy HAASFERRARI rainy': 0.00012325967333391588,\n",
       " 'FERRARI1 snowy HAASFERRARI sunny': 0.00012325967333391588,\n",
       " 'FERRARI1 snowy HAASFERRARI cloudy': 0.00012325967333391588,\n",
       " 'FERRARI1 snowy HAASFERRARI snowy': 0.00012325967333391588,\n",
       " 'FERRARI1 snowy HAASFERRARI foggy': 0.00012325967333391588,\n",
       " 'FERRARI1 snowy WILLIAMSMERCEDES rainy': 4.402131190496996e-06,\n",
       " 'FERRARI1 snowy WILLIAMSMERCEDES sunny': 4.402131190496996e-06,\n",
       " 'FERRARI1 snowy WILLIAMSMERCEDES cloudy': 4.402131190496996e-06,\n",
       " 'FERRARI1 snowy WILLIAMSMERCEDES snowy': 4.402131190496996e-06,\n",
       " 'FERRARI1 snowy WILLIAMSMERCEDES foggy': 4.402131190496996e-06,\n",
       " 'FERRARI1 foggy MERCEDES1 rainy': 0.0032531749497772796,\n",
       " 'FERRARI1 foggy MERCEDES1 sunny': 0.0032531749497772796,\n",
       " 'FERRARI1 foggy MERCEDES1 cloudy': 0.0032531749497772796,\n",
       " 'FERRARI1 foggy MERCEDES1 snowy': 0.0032531749497772796,\n",
       " 'FERRARI1 foggy MERCEDES1 foggy': 0.0032531749497772796,\n",
       " 'FERRARI1 foggy FERRARI1 rainy': 0.002218674120010486,\n",
       " 'FERRARI1 foggy FERRARI1 sunny': 0.002218674120010486,\n",
       " 'FERRARI1 foggy FERRARI1 cloudy': 0.002218674120010486,\n",
       " 'FERRARI1 foggy FERRARI1 snowy': 0.002218674120010486,\n",
       " 'FERRARI1 foggy FERRARI1 foggy': 0.002218674120010486,\n",
       " 'FERRARI1 foggy REDBULLRACINGHONDA rainy': 0.0016287885404838883,\n",
       " 'FERRARI1 foggy REDBULLRACINGHONDA sunny': 0.0016287885404838883,\n",
       " 'FERRARI1 foggy REDBULLRACINGHONDA cloudy': 0.0016287885404838883,\n",
       " 'FERRARI1 foggy REDBULLRACINGHONDA snowy': 0.0016287885404838883,\n",
       " 'FERRARI1 foggy REDBULLRACINGHONDA foggy': 0.0016287885404838883,\n",
       " 'FERRARI1 foggy MCLARENRENAULT rainy': 0.0006383090226220644,\n",
       " 'FERRARI1 foggy MCLARENRENAULT sunny': 0.0006383090226220644,\n",
       " 'FERRARI1 foggy MCLARENRENAULT cloudy': 0.0006383090226220644,\n",
       " 'FERRARI1 foggy MCLARENRENAULT snowy': 0.0006383090226220644,\n",
       " 'FERRARI1 foggy MCLARENRENAULT foggy': 0.0006383090226220644,\n",
       " 'FERRARI1 foggy RENAULT1 rainy': 0.00040059393833522666,\n",
       " 'FERRARI1 foggy RENAULT1 sunny': 0.00040059393833522666,\n",
       " 'FERRARI1 foggy RENAULT1 cloudy': 0.00040059393833522666,\n",
       " 'FERRARI1 foggy RENAULT1 snowy': 0.00040059393833522666,\n",
       " 'FERRARI1 foggy RENAULT1 foggy': 0.00040059393833522666,\n",
       " 'FERRARI1 foggy SCUDERIATOROROSSOHONDA rainy': 0.0005810813171456035,\n",
       " 'FERRARI1 foggy SCUDERIATOROROSSOHONDA sunny': 0.0005810813171456035,\n",
       " 'FERRARI1 foggy SCUDERIATOROROSSOHONDA cloudy': 0.0005810813171456035,\n",
       " 'FERRARI1 foggy SCUDERIATOROROSSOHONDA snowy': 0.0005810813171456035,\n",
       " 'FERRARI1 foggy SCUDERIATOROROSSOHONDA foggy': 0.0005810813171456035,\n",
       " 'FERRARI1 foggy RACINGPOINTBWTMERCEDES rainy': 0.0003213555769062807,\n",
       " 'FERRARI1 foggy RACINGPOINTBWTMERCEDES sunny': 0.0003213555769062807,\n",
       " 'FERRARI1 foggy RACINGPOINTBWTMERCEDES cloudy': 0.0003213555769062807,\n",
       " 'FERRARI1 foggy RACINGPOINTBWTMERCEDES snowy': 0.0003213555769062807,\n",
       " 'FERRARI1 foggy RACINGPOINTBWTMERCEDES foggy': 0.0003213555769062807,\n",
       " 'FERRARI1 foggy ALFAROMEORACINGFERRARI rainy': 0.0002509214778583288,\n",
       " 'FERRARI1 foggy ALFAROMEORACINGFERRARI sunny': 0.0002509214778583288,\n",
       " 'FERRARI1 foggy ALFAROMEORACINGFERRARI cloudy': 0.0002509214778583288,\n",
       " 'FERRARI1 foggy ALFAROMEORACINGFERRARI snowy': 0.0002509214778583288,\n",
       " 'FERRARI1 foggy ALFAROMEORACINGFERRARI foggy': 0.0002509214778583288,\n",
       " 'FERRARI1 foggy HAASFERRARI rainy': 0.00012325967333391588,\n",
       " 'FERRARI1 foggy HAASFERRARI sunny': 0.00012325967333391588,\n",
       " 'FERRARI1 foggy HAASFERRARI cloudy': 0.00012325967333391588,\n",
       " 'FERRARI1 foggy HAASFERRARI snowy': 0.00012325967333391588,\n",
       " 'FERRARI1 foggy HAASFERRARI foggy': 0.00012325967333391588,\n",
       " 'FERRARI1 foggy WILLIAMSMERCEDES rainy': 4.402131190496996e-06,\n",
       " 'FERRARI1 foggy WILLIAMSMERCEDES sunny': 4.402131190496996e-06,\n",
       " 'FERRARI1 foggy WILLIAMSMERCEDES cloudy': 4.402131190496996e-06,\n",
       " 'FERRARI1 foggy WILLIAMSMERCEDES snowy': 4.402131190496996e-06,\n",
       " 'FERRARI1 foggy WILLIAMSMERCEDES foggy': 4.402131190496996e-06,\n",
       " 'REDBULLRACINGHONDA rainy MERCEDES1 rainy': 0.002388243514717447,\n",
       " 'REDBULLRACINGHONDA rainy MERCEDES1 sunny': 0.002388243514717447,\n",
       " 'REDBULLRACINGHONDA rainy MERCEDES1 cloudy': 0.002388243514717447,\n",
       " 'REDBULLRACINGHONDA rainy MERCEDES1 snowy': 0.002388243514717447,\n",
       " 'REDBULLRACINGHONDA rainy MERCEDES1 foggy': 0.002388243514717447,\n",
       " 'REDBULLRACINGHONDA rainy FERRARI1 rainy': 0.0016287885404838883,\n",
       " 'REDBULLRACINGHONDA rainy FERRARI1 sunny': 0.0016287885404838883,\n",
       " 'REDBULLRACINGHONDA rainy FERRARI1 cloudy': 0.0016287885404838883,\n",
       " 'REDBULLRACINGHONDA rainy FERRARI1 snowy': 0.0016287885404838883,\n",
       " 'REDBULLRACINGHONDA rainy FERRARI1 foggy': 0.0016287885404838883,\n",
       " 'REDBULLRACINGHONDA rainy REDBULLRACINGHONDA rainy': 0.001195737619006029,\n",
       " 'REDBULLRACINGHONDA rainy REDBULLRACINGHONDA sunny': 0.001195737619006029,\n",
       " 'REDBULLRACINGHONDA rainy REDBULLRACINGHONDA cloudy': 0.001195737619006029,\n",
       " 'REDBULLRACINGHONDA rainy REDBULLRACINGHONDA snowy': 0.001195737619006029,\n",
       " 'REDBULLRACINGHONDA rainy REDBULLRACINGHONDA foggy': 0.001195737619006029,\n",
       " 'REDBULLRACINGHONDA rainy MCLARENRENAULT rainy': 0.0004685998777185789,\n",
       " 'REDBULLRACINGHONDA rainy MCLARENRENAULT sunny': 0.0004685998777185789,\n",
       " 'REDBULLRACINGHONDA rainy MCLARENRENAULT cloudy': 0.0004685998777185789,\n",
       " 'REDBULLRACINGHONDA rainy MCLARENRENAULT snowy': 0.0004685998777185789,\n",
       " 'REDBULLRACINGHONDA rainy MCLARENRENAULT foggy': 0.0004685998777185789,\n",
       " 'REDBULLRACINGHONDA rainy RENAULT1 rainy': 0.00029408681980959097,\n",
       " 'REDBULLRACINGHONDA rainy RENAULT1 sunny': 0.00029408681980959097,\n",
       " 'REDBULLRACINGHONDA rainy RENAULT1 cloudy': 0.00029408681980959097,\n",
       " 'REDBULLRACINGHONDA rainy RENAULT1 snowy': 0.00029408681980959097,\n",
       " 'REDBULLRACINGHONDA rainy RENAULT1 foggy': 0.00029408681980959097,\n",
       " 'REDBULLRACINGHONDA rainy SCUDERIATOROROSSOHONDA rainy': 0.00042658747488863745,\n",
       " 'REDBULLRACINGHONDA rainy SCUDERIATOROROSSOHONDA sunny': 0.00042658747488863745,\n",
       " 'REDBULLRACINGHONDA rainy SCUDERIATOROROSSOHONDA cloudy': 0.00042658747488863745,\n",
       " 'REDBULLRACINGHONDA rainy SCUDERIATOROROSSOHONDA snowy': 0.00042658747488863745,\n",
       " 'REDBULLRACINGHONDA rainy SCUDERIATOROROSSOHONDA foggy': 0.00042658747488863745,\n",
       " 'REDBULLRACINGHONDA rainy RACINGPOINTBWTMERCEDES rainy': 0.0002359158005065949,\n",
       " 'REDBULLRACINGHONDA rainy RACINGPOINTBWTMERCEDES sunny': 0.0002359158005065949,\n",
       " 'REDBULLRACINGHONDA rainy RACINGPOINTBWTMERCEDES cloudy': 0.0002359158005065949,\n",
       " 'REDBULLRACINGHONDA rainy RACINGPOINTBWTMERCEDES snowy': 0.0002359158005065949,\n",
       " 'REDBULLRACINGHONDA rainy RACINGPOINTBWTMERCEDES foggy': 0.0002359158005065949,\n",
       " 'REDBULLRACINGHONDA rainy ALFAROMEORACINGFERRARI rainy': 0.00018420822779282073,\n",
       " 'REDBULLRACINGHONDA rainy ALFAROMEORACINGFERRARI sunny': 0.00018420822779282073,\n",
       " 'REDBULLRACINGHONDA rainy ALFAROMEORACINGFERRARI cloudy': 0.00018420822779282073,\n",
       " 'REDBULLRACINGHONDA rainy ALFAROMEORACINGFERRARI snowy': 0.00018420822779282073,\n",
       " 'REDBULLRACINGHONDA rainy ALFAROMEORACINGFERRARI foggy': 0.00018420822779282073,\n",
       " 'REDBULLRACINGHONDA rainy HAASFERRARI rainy': 9.04882522491049e-05,\n",
       " 'REDBULLRACINGHONDA rainy HAASFERRARI sunny': 9.04882522491049e-05,\n",
       " 'REDBULLRACINGHONDA rainy HAASFERRARI cloudy': 9.04882522491049e-05,\n",
       " 'REDBULLRACINGHONDA rainy HAASFERRARI snowy': 9.04882522491049e-05,\n",
       " 'REDBULLRACINGHONDA rainy HAASFERRARI foggy': 9.04882522491049e-05,\n",
       " 'REDBULLRACINGHONDA rainy WILLIAMSMERCEDES rainy': 3.2317232946108894e-06,\n",
       " 'REDBULLRACINGHONDA rainy WILLIAMSMERCEDES sunny': 3.2317232946108894e-06,\n",
       " 'REDBULLRACINGHONDA rainy WILLIAMSMERCEDES cloudy': 3.2317232946108894e-06,\n",
       " 'REDBULLRACINGHONDA rainy WILLIAMSMERCEDES snowy': 3.2317232946108894e-06,\n",
       " 'REDBULLRACINGHONDA rainy WILLIAMSMERCEDES foggy': 3.2317232946108894e-06,\n",
       " 'REDBULLRACINGHONDA sunny MERCEDES1 rainy': 0.002388243514717447,\n",
       " 'REDBULLRACINGHONDA sunny MERCEDES1 sunny': 0.002388243514717447,\n",
       " 'REDBULLRACINGHONDA sunny MERCEDES1 cloudy': 0.002388243514717447,\n",
       " 'REDBULLRACINGHONDA sunny MERCEDES1 snowy': 0.002388243514717447,\n",
       " 'REDBULLRACINGHONDA sunny MERCEDES1 foggy': 0.002388243514717447,\n",
       " 'REDBULLRACINGHONDA sunny FERRARI1 rainy': 0.0016287885404838883,\n",
       " 'REDBULLRACINGHONDA sunny FERRARI1 sunny': 0.0016287885404838883,\n",
       " 'REDBULLRACINGHONDA sunny FERRARI1 cloudy': 0.0016287885404838883,\n",
       " 'REDBULLRACINGHONDA sunny FERRARI1 snowy': 0.0016287885404838883,\n",
       " 'REDBULLRACINGHONDA sunny FERRARI1 foggy': 0.0016287885404838883,\n",
       " 'REDBULLRACINGHONDA sunny REDBULLRACINGHONDA rainy': 0.001195737619006029,\n",
       " 'REDBULLRACINGHONDA sunny REDBULLRACINGHONDA sunny': 0.001195737619006029,\n",
       " 'REDBULLRACINGHONDA sunny REDBULLRACINGHONDA cloudy': 0.001195737619006029,\n",
       " 'REDBULLRACINGHONDA sunny REDBULLRACINGHONDA snowy': 0.001195737619006029,\n",
       " 'REDBULLRACINGHONDA sunny REDBULLRACINGHONDA foggy': 0.001195737619006029,\n",
       " 'REDBULLRACINGHONDA sunny MCLARENRENAULT rainy': 0.0004685998777185789,\n",
       " 'REDBULLRACINGHONDA sunny MCLARENRENAULT sunny': 0.0004685998777185789,\n",
       " 'REDBULLRACINGHONDA sunny MCLARENRENAULT cloudy': 0.0004685998777185789,\n",
       " 'REDBULLRACINGHONDA sunny MCLARENRENAULT snowy': 0.0004685998777185789,\n",
       " 'REDBULLRACINGHONDA sunny MCLARENRENAULT foggy': 0.0004685998777185789,\n",
       " 'REDBULLRACINGHONDA sunny RENAULT1 rainy': 0.00029408681980959097,\n",
       " 'REDBULLRACINGHONDA sunny RENAULT1 sunny': 0.00029408681980959097,\n",
       " 'REDBULLRACINGHONDA sunny RENAULT1 cloudy': 0.00029408681980959097,\n",
       " 'REDBULLRACINGHONDA sunny RENAULT1 snowy': 0.00029408681980959097,\n",
       " 'REDBULLRACINGHONDA sunny RENAULT1 foggy': 0.00029408681980959097,\n",
       " 'REDBULLRACINGHONDA sunny SCUDERIATOROROSSOHONDA rainy': 0.00042658747488863745,\n",
       " 'REDBULLRACINGHONDA sunny SCUDERIATOROROSSOHONDA sunny': 0.00042658747488863745,\n",
       " 'REDBULLRACINGHONDA sunny SCUDERIATOROROSSOHONDA cloudy': 0.00042658747488863745,\n",
       " 'REDBULLRACINGHONDA sunny SCUDERIATOROROSSOHONDA snowy': 0.00042658747488863745,\n",
       " 'REDBULLRACINGHONDA sunny SCUDERIATOROROSSOHONDA foggy': 0.00042658747488863745,\n",
       " 'REDBULLRACINGHONDA sunny RACINGPOINTBWTMERCEDES rainy': 0.0002359158005065949,\n",
       " 'REDBULLRACINGHONDA sunny RACINGPOINTBWTMERCEDES sunny': 0.0002359158005065949,\n",
       " 'REDBULLRACINGHONDA sunny RACINGPOINTBWTMERCEDES cloudy': 0.0002359158005065949,\n",
       " 'REDBULLRACINGHONDA sunny RACINGPOINTBWTMERCEDES snowy': 0.0002359158005065949,\n",
       " 'REDBULLRACINGHONDA sunny RACINGPOINTBWTMERCEDES foggy': 0.0002359158005065949,\n",
       " 'REDBULLRACINGHONDA sunny ALFAROMEORACINGFERRARI rainy': 0.00018420822779282073,\n",
       " 'REDBULLRACINGHONDA sunny ALFAROMEORACINGFERRARI sunny': 0.00018420822779282073,\n",
       " 'REDBULLRACINGHONDA sunny ALFAROMEORACINGFERRARI cloudy': 0.00018420822779282073,\n",
       " 'REDBULLRACINGHONDA sunny ALFAROMEORACINGFERRARI snowy': 0.00018420822779282073,\n",
       " 'REDBULLRACINGHONDA sunny ALFAROMEORACINGFERRARI foggy': 0.00018420822779282073,\n",
       " 'REDBULLRACINGHONDA sunny HAASFERRARI rainy': 9.04882522491049e-05,\n",
       " 'REDBULLRACINGHONDA sunny HAASFERRARI sunny': 9.04882522491049e-05,\n",
       " 'REDBULLRACINGHONDA sunny HAASFERRARI cloudy': 9.04882522491049e-05,\n",
       " 'REDBULLRACINGHONDA sunny HAASFERRARI snowy': 9.04882522491049e-05,\n",
       " 'REDBULLRACINGHONDA sunny HAASFERRARI foggy': 9.04882522491049e-05,\n",
       " 'REDBULLRACINGHONDA sunny WILLIAMSMERCEDES rainy': 3.2317232946108894e-06,\n",
       " 'REDBULLRACINGHONDA sunny WILLIAMSMERCEDES sunny': 3.2317232946108894e-06,\n",
       " 'REDBULLRACINGHONDA sunny WILLIAMSMERCEDES cloudy': 3.2317232946108894e-06,\n",
       " 'REDBULLRACINGHONDA sunny WILLIAMSMERCEDES snowy': 3.2317232946108894e-06,\n",
       " 'REDBULLRACINGHONDA sunny WILLIAMSMERCEDES foggy': 3.2317232946108894e-06,\n",
       " 'REDBULLRACINGHONDA cloudy MERCEDES1 rainy': 0.002388243514717447,\n",
       " 'REDBULLRACINGHONDA cloudy MERCEDES1 sunny': 0.002388243514717447,\n",
       " 'REDBULLRACINGHONDA cloudy MERCEDES1 cloudy': 0.002388243514717447,\n",
       " 'REDBULLRACINGHONDA cloudy MERCEDES1 snowy': 0.002388243514717447,\n",
       " 'REDBULLRACINGHONDA cloudy MERCEDES1 foggy': 0.002388243514717447,\n",
       " 'REDBULLRACINGHONDA cloudy FERRARI1 rainy': 0.0016287885404838883,\n",
       " 'REDBULLRACINGHONDA cloudy FERRARI1 sunny': 0.0016287885404838883,\n",
       " 'REDBULLRACINGHONDA cloudy FERRARI1 cloudy': 0.0016287885404838883,\n",
       " 'REDBULLRACINGHONDA cloudy FERRARI1 snowy': 0.0016287885404838883,\n",
       " 'REDBULLRACINGHONDA cloudy FERRARI1 foggy': 0.0016287885404838883,\n",
       " 'REDBULLRACINGHONDA cloudy REDBULLRACINGHONDA rainy': 0.001195737619006029,\n",
       " 'REDBULLRACINGHONDA cloudy REDBULLRACINGHONDA sunny': 0.001195737619006029,\n",
       " 'REDBULLRACINGHONDA cloudy REDBULLRACINGHONDA cloudy': 0.001195737619006029,\n",
       " 'REDBULLRACINGHONDA cloudy REDBULLRACINGHONDA snowy': 0.001195737619006029,\n",
       " 'REDBULLRACINGHONDA cloudy REDBULLRACINGHONDA foggy': 0.001195737619006029,\n",
       " 'REDBULLRACINGHONDA cloudy MCLARENRENAULT rainy': 0.0004685998777185789,\n",
       " 'REDBULLRACINGHONDA cloudy MCLARENRENAULT sunny': 0.0004685998777185789,\n",
       " 'REDBULLRACINGHONDA cloudy MCLARENRENAULT cloudy': 0.0004685998777185789,\n",
       " 'REDBULLRACINGHONDA cloudy MCLARENRENAULT snowy': 0.0004685998777185789,\n",
       " 'REDBULLRACINGHONDA cloudy MCLARENRENAULT foggy': 0.0004685998777185789,\n",
       " 'REDBULLRACINGHONDA cloudy RENAULT1 rainy': 0.00029408681980959097,\n",
       " 'REDBULLRACINGHONDA cloudy RENAULT1 sunny': 0.00029408681980959097,\n",
       " 'REDBULLRACINGHONDA cloudy RENAULT1 cloudy': 0.00029408681980959097,\n",
       " 'REDBULLRACINGHONDA cloudy RENAULT1 snowy': 0.00029408681980959097,\n",
       " 'REDBULLRACINGHONDA cloudy RENAULT1 foggy': 0.00029408681980959097,\n",
       " 'REDBULLRACINGHONDA cloudy SCUDERIATOROROSSOHONDA rainy': 0.00042658747488863745,\n",
       " 'REDBULLRACINGHONDA cloudy SCUDERIATOROROSSOHONDA sunny': 0.00042658747488863745,\n",
       " 'REDBULLRACINGHONDA cloudy SCUDERIATOROROSSOHONDA cloudy': 0.00042658747488863745,\n",
       " 'REDBULLRACINGHONDA cloudy SCUDERIATOROROSSOHONDA snowy': 0.00042658747488863745,\n",
       " 'REDBULLRACINGHONDA cloudy SCUDERIATOROROSSOHONDA foggy': 0.00042658747488863745,\n",
       " 'REDBULLRACINGHONDA cloudy RACINGPOINTBWTMERCEDES rainy': 0.0002359158005065949,\n",
       " 'REDBULLRACINGHONDA cloudy RACINGPOINTBWTMERCEDES sunny': 0.0002359158005065949,\n",
       " 'REDBULLRACINGHONDA cloudy RACINGPOINTBWTMERCEDES cloudy': 0.0002359158005065949,\n",
       " 'REDBULLRACINGHONDA cloudy RACINGPOINTBWTMERCEDES snowy': 0.0002359158005065949,\n",
       " 'REDBULLRACINGHONDA cloudy RACINGPOINTBWTMERCEDES foggy': 0.0002359158005065949,\n",
       " 'REDBULLRACINGHONDA cloudy ALFAROMEORACINGFERRARI rainy': 0.00018420822779282073,\n",
       " 'REDBULLRACINGHONDA cloudy ALFAROMEORACINGFERRARI sunny': 0.00018420822779282073,\n",
       " 'REDBULLRACINGHONDA cloudy ALFAROMEORACINGFERRARI cloudy': 0.00018420822779282073,\n",
       " 'REDBULLRACINGHONDA cloudy ALFAROMEORACINGFERRARI snowy': 0.00018420822779282073,\n",
       " 'REDBULLRACINGHONDA cloudy ALFAROMEORACINGFERRARI foggy': 0.00018420822779282073,\n",
       " 'REDBULLRACINGHONDA cloudy HAASFERRARI rainy': 9.04882522491049e-05,\n",
       " 'REDBULLRACINGHONDA cloudy HAASFERRARI sunny': 9.04882522491049e-05,\n",
       " 'REDBULLRACINGHONDA cloudy HAASFERRARI cloudy': 9.04882522491049e-05,\n",
       " 'REDBULLRACINGHONDA cloudy HAASFERRARI snowy': 9.04882522491049e-05,\n",
       " 'REDBULLRACINGHONDA cloudy HAASFERRARI foggy': 9.04882522491049e-05,\n",
       " 'REDBULLRACINGHONDA cloudy WILLIAMSMERCEDES rainy': 3.2317232946108894e-06,\n",
       " 'REDBULLRACINGHONDA cloudy WILLIAMSMERCEDES sunny': 3.2317232946108894e-06,\n",
       " 'REDBULLRACINGHONDA cloudy WILLIAMSMERCEDES cloudy': 3.2317232946108894e-06,\n",
       " 'REDBULLRACINGHONDA cloudy WILLIAMSMERCEDES snowy': 3.2317232946108894e-06,\n",
       " 'REDBULLRACINGHONDA cloudy WILLIAMSMERCEDES foggy': 3.2317232946108894e-06,\n",
       " 'REDBULLRACINGHONDA snowy MERCEDES1 rainy': 0.002388243514717447,\n",
       " 'REDBULLRACINGHONDA snowy MERCEDES1 sunny': 0.002388243514717447,\n",
       " 'REDBULLRACINGHONDA snowy MERCEDES1 cloudy': 0.002388243514717447,\n",
       " 'REDBULLRACINGHONDA snowy MERCEDES1 snowy': 0.002388243514717447,\n",
       " 'REDBULLRACINGHONDA snowy MERCEDES1 foggy': 0.002388243514717447,\n",
       " 'REDBULLRACINGHONDA snowy FERRARI1 rainy': 0.0016287885404838883,\n",
       " 'REDBULLRACINGHONDA snowy FERRARI1 sunny': 0.0016287885404838883,\n",
       " 'REDBULLRACINGHONDA snowy FERRARI1 cloudy': 0.0016287885404838883,\n",
       " 'REDBULLRACINGHONDA snowy FERRARI1 snowy': 0.0016287885404838883,\n",
       " 'REDBULLRACINGHONDA snowy FERRARI1 foggy': 0.0016287885404838883,\n",
       " 'REDBULLRACINGHONDA snowy REDBULLRACINGHONDA rainy': 0.001195737619006029,\n",
       " 'REDBULLRACINGHONDA snowy REDBULLRACINGHONDA sunny': 0.001195737619006029,\n",
       " 'REDBULLRACINGHONDA snowy REDBULLRACINGHONDA cloudy': 0.001195737619006029,\n",
       " 'REDBULLRACINGHONDA snowy REDBULLRACINGHONDA snowy': 0.001195737619006029,\n",
       " 'REDBULLRACINGHONDA snowy REDBULLRACINGHONDA foggy': 0.001195737619006029,\n",
       " 'REDBULLRACINGHONDA snowy MCLARENRENAULT rainy': 0.0004685998777185789,\n",
       " 'REDBULLRACINGHONDA snowy MCLARENRENAULT sunny': 0.0004685998777185789,\n",
       " 'REDBULLRACINGHONDA snowy MCLARENRENAULT cloudy': 0.0004685998777185789,\n",
       " 'REDBULLRACINGHONDA snowy MCLARENRENAULT snowy': 0.0004685998777185789,\n",
       " 'REDBULLRACINGHONDA snowy MCLARENRENAULT foggy': 0.0004685998777185789,\n",
       " 'REDBULLRACINGHONDA snowy RENAULT1 rainy': 0.00029408681980959097,\n",
       " 'REDBULLRACINGHONDA snowy RENAULT1 sunny': 0.00029408681980959097,\n",
       " 'REDBULLRACINGHONDA snowy RENAULT1 cloudy': 0.00029408681980959097,\n",
       " 'REDBULLRACINGHONDA snowy RENAULT1 snowy': 0.00029408681980959097,\n",
       " 'REDBULLRACINGHONDA snowy RENAULT1 foggy': 0.00029408681980959097,\n",
       " 'REDBULLRACINGHONDA snowy SCUDERIATOROROSSOHONDA rainy': 0.00042658747488863745,\n",
       " 'REDBULLRACINGHONDA snowy SCUDERIATOROROSSOHONDA sunny': 0.00042658747488863745,\n",
       " 'REDBULLRACINGHONDA snowy SCUDERIATOROROSSOHONDA cloudy': 0.00042658747488863745,\n",
       " 'REDBULLRACINGHONDA snowy SCUDERIATOROROSSOHONDA snowy': 0.00042658747488863745,\n",
       " 'REDBULLRACINGHONDA snowy SCUDERIATOROROSSOHONDA foggy': 0.00042658747488863745,\n",
       " 'REDBULLRACINGHONDA snowy RACINGPOINTBWTMERCEDES rainy': 0.0002359158005065949,\n",
       " 'REDBULLRACINGHONDA snowy RACINGPOINTBWTMERCEDES sunny': 0.0002359158005065949,\n",
       " 'REDBULLRACINGHONDA snowy RACINGPOINTBWTMERCEDES cloudy': 0.0002359158005065949,\n",
       " 'REDBULLRACINGHONDA snowy RACINGPOINTBWTMERCEDES snowy': 0.0002359158005065949,\n",
       " 'REDBULLRACINGHONDA snowy RACINGPOINTBWTMERCEDES foggy': 0.0002359158005065949,\n",
       " 'REDBULLRACINGHONDA snowy ALFAROMEORACINGFERRARI rainy': 0.00018420822779282073,\n",
       " 'REDBULLRACINGHONDA snowy ALFAROMEORACINGFERRARI sunny': 0.00018420822779282073,\n",
       " 'REDBULLRACINGHONDA snowy ALFAROMEORACINGFERRARI cloudy': 0.00018420822779282073,\n",
       " 'REDBULLRACINGHONDA snowy ALFAROMEORACINGFERRARI snowy': 0.00018420822779282073,\n",
       " 'REDBULLRACINGHONDA snowy ALFAROMEORACINGFERRARI foggy': 0.00018420822779282073,\n",
       " 'REDBULLRACINGHONDA snowy HAASFERRARI rainy': 9.04882522491049e-05,\n",
       " 'REDBULLRACINGHONDA snowy HAASFERRARI sunny': 9.04882522491049e-05,\n",
       " 'REDBULLRACINGHONDA snowy HAASFERRARI cloudy': 9.04882522491049e-05,\n",
       " 'REDBULLRACINGHONDA snowy HAASFERRARI snowy': 9.04882522491049e-05,\n",
       " 'REDBULLRACINGHONDA snowy HAASFERRARI foggy': 9.04882522491049e-05,\n",
       " 'REDBULLRACINGHONDA snowy WILLIAMSMERCEDES rainy': 3.2317232946108894e-06,\n",
       " 'REDBULLRACINGHONDA snowy WILLIAMSMERCEDES sunny': 3.2317232946108894e-06,\n",
       " 'REDBULLRACINGHONDA snowy WILLIAMSMERCEDES cloudy': 3.2317232946108894e-06,\n",
       " 'REDBULLRACINGHONDA snowy WILLIAMSMERCEDES snowy': 3.2317232946108894e-06,\n",
       " 'REDBULLRACINGHONDA snowy WILLIAMSMERCEDES foggy': 3.2317232946108894e-06,\n",
       " 'REDBULLRACINGHONDA foggy MERCEDES1 rainy': 0.002388243514717447,\n",
       " 'REDBULLRACINGHONDA foggy MERCEDES1 sunny': 0.002388243514717447,\n",
       " 'REDBULLRACINGHONDA foggy MERCEDES1 cloudy': 0.002388243514717447,\n",
       " 'REDBULLRACINGHONDA foggy MERCEDES1 snowy': 0.002388243514717447,\n",
       " 'REDBULLRACINGHONDA foggy MERCEDES1 foggy': 0.002388243514717447,\n",
       " 'REDBULLRACINGHONDA foggy FERRARI1 rainy': 0.0016287885404838883,\n",
       " 'REDBULLRACINGHONDA foggy FERRARI1 sunny': 0.0016287885404838883,\n",
       " 'REDBULLRACINGHONDA foggy FERRARI1 cloudy': 0.0016287885404838883,\n",
       " 'REDBULLRACINGHONDA foggy FERRARI1 snowy': 0.0016287885404838883,\n",
       " 'REDBULLRACINGHONDA foggy FERRARI1 foggy': 0.0016287885404838883,\n",
       " 'REDBULLRACINGHONDA foggy REDBULLRACINGHONDA rainy': 0.001195737619006029,\n",
       " 'REDBULLRACINGHONDA foggy REDBULLRACINGHONDA sunny': 0.001195737619006029,\n",
       " 'REDBULLRACINGHONDA foggy REDBULLRACINGHONDA cloudy': 0.001195737619006029,\n",
       " 'REDBULLRACINGHONDA foggy REDBULLRACINGHONDA snowy': 0.001195737619006029,\n",
       " 'REDBULLRACINGHONDA foggy REDBULLRACINGHONDA foggy': 0.001195737619006029,\n",
       " 'REDBULLRACINGHONDA foggy MCLARENRENAULT rainy': 0.0004685998777185789,\n",
       " 'REDBULLRACINGHONDA foggy MCLARENRENAULT sunny': 0.0004685998777185789,\n",
       " 'REDBULLRACINGHONDA foggy MCLARENRENAULT cloudy': 0.0004685998777185789,\n",
       " 'REDBULLRACINGHONDA foggy MCLARENRENAULT snowy': 0.0004685998777185789,\n",
       " 'REDBULLRACINGHONDA foggy MCLARENRENAULT foggy': 0.0004685998777185789,\n",
       " 'REDBULLRACINGHONDA foggy RENAULT1 rainy': 0.00029408681980959097,\n",
       " 'REDBULLRACINGHONDA foggy RENAULT1 sunny': 0.00029408681980959097,\n",
       " 'REDBULLRACINGHONDA foggy RENAULT1 cloudy': 0.00029408681980959097,\n",
       " 'REDBULLRACINGHONDA foggy RENAULT1 snowy': 0.00029408681980959097,\n",
       " 'REDBULLRACINGHONDA foggy RENAULT1 foggy': 0.00029408681980959097,\n",
       " 'REDBULLRACINGHONDA foggy SCUDERIATOROROSSOHONDA rainy': 0.00042658747488863745,\n",
       " 'REDBULLRACINGHONDA foggy SCUDERIATOROROSSOHONDA sunny': 0.00042658747488863745,\n",
       " 'REDBULLRACINGHONDA foggy SCUDERIATOROROSSOHONDA cloudy': 0.00042658747488863745,\n",
       " 'REDBULLRACINGHONDA foggy SCUDERIATOROROSSOHONDA snowy': 0.00042658747488863745,\n",
       " 'REDBULLRACINGHONDA foggy SCUDERIATOROROSSOHONDA foggy': 0.00042658747488863745,\n",
       " 'REDBULLRACINGHONDA foggy RACINGPOINTBWTMERCEDES rainy': 0.0002359158005065949,\n",
       " 'REDBULLRACINGHONDA foggy RACINGPOINTBWTMERCEDES sunny': 0.0002359158005065949,\n",
       " 'REDBULLRACINGHONDA foggy RACINGPOINTBWTMERCEDES cloudy': 0.0002359158005065949,\n",
       " 'REDBULLRACINGHONDA foggy RACINGPOINTBWTMERCEDES snowy': 0.0002359158005065949,\n",
       " 'REDBULLRACINGHONDA foggy RACINGPOINTBWTMERCEDES foggy': 0.0002359158005065949,\n",
       " 'REDBULLRACINGHONDA foggy ALFAROMEORACINGFERRARI rainy': 0.00018420822779282073,\n",
       " 'REDBULLRACINGHONDA foggy ALFAROMEORACINGFERRARI sunny': 0.00018420822779282073,\n",
       " 'REDBULLRACINGHONDA foggy ALFAROMEORACINGFERRARI cloudy': 0.00018420822779282073,\n",
       " 'REDBULLRACINGHONDA foggy ALFAROMEORACINGFERRARI snowy': 0.00018420822779282073,\n",
       " 'REDBULLRACINGHONDA foggy ALFAROMEORACINGFERRARI foggy': 0.00018420822779282073,\n",
       " 'REDBULLRACINGHONDA foggy HAASFERRARI rainy': 9.04882522491049e-05,\n",
       " 'REDBULLRACINGHONDA foggy HAASFERRARI sunny': 9.04882522491049e-05,\n",
       " 'REDBULLRACINGHONDA foggy HAASFERRARI cloudy': 9.04882522491049e-05,\n",
       " 'REDBULLRACINGHONDA foggy HAASFERRARI snowy': 9.04882522491049e-05,\n",
       " 'REDBULLRACINGHONDA foggy HAASFERRARI foggy': 9.04882522491049e-05,\n",
       " 'REDBULLRACINGHONDA foggy WILLIAMSMERCEDES rainy': 3.2317232946108894e-06,\n",
       " 'REDBULLRACINGHONDA foggy WILLIAMSMERCEDES sunny': 3.2317232946108894e-06,\n",
       " 'REDBULLRACINGHONDA foggy WILLIAMSMERCEDES cloudy': 3.2317232946108894e-06,\n",
       " 'REDBULLRACINGHONDA foggy WILLIAMSMERCEDES snowy': 3.2317232946108894e-06,\n",
       " 'REDBULLRACINGHONDA foggy WILLIAMSMERCEDES foggy': 3.2317232946108894e-06,\n",
       " 'MCLARENRENAULT rainy MERCEDES1 rainy': 0.0009359332692811616,\n",
       " 'MCLARENRENAULT rainy MERCEDES1 sunny': 0.0009359332692811616,\n",
       " 'MCLARENRENAULT rainy MERCEDES1 cloudy': 0.0009359332692811616,\n",
       " 'MCLARENRENAULT rainy MERCEDES1 snowy': 0.0009359332692811616,\n",
       " 'MCLARENRENAULT rainy MERCEDES1 foggy': 0.0009359332692811616,\n",
       " 'MCLARENRENAULT rainy FERRARI1 rainy': 0.0006383090226220644,\n",
       " 'MCLARENRENAULT rainy FERRARI1 sunny': 0.0006383090226220644,\n",
       " 'MCLARENRENAULT rainy FERRARI1 cloudy': 0.0006383090226220644,\n",
       " 'MCLARENRENAULT rainy FERRARI1 snowy': 0.0006383090226220644,\n",
       " 'MCLARENRENAULT rainy FERRARI1 foggy': 0.0006383090226220644,\n",
       " 'MCLARENRENAULT rainy REDBULLRACINGHONDA rainy': 0.0004685998777185789,\n",
       " 'MCLARENRENAULT rainy REDBULLRACINGHONDA sunny': 0.0004685998777185789,\n",
       " 'MCLARENRENAULT rainy REDBULLRACINGHONDA cloudy': 0.0004685998777185789,\n",
       " 'MCLARENRENAULT rainy REDBULLRACINGHONDA snowy': 0.0004685998777185789,\n",
       " 'MCLARENRENAULT rainy REDBULLRACINGHONDA foggy': 0.0004685998777185789,\n",
       " 'MCLARENRENAULT rainy MCLARENRENAULT rainy': 0.00018364049261944312,\n",
       " 'MCLARENRENAULT rainy MCLARENRENAULT sunny': 0.00018364049261944312,\n",
       " 'MCLARENRENAULT rainy MCLARENRENAULT cloudy': 0.00018364049261944312,\n",
       " 'MCLARENRENAULT rainy MCLARENRENAULT snowy': 0.00018364049261944312,\n",
       " 'MCLARENRENAULT rainy MCLARENRENAULT foggy': 0.00018364049261944312,\n",
       " 'MCLARENRENAULT rainy RENAULT1 rainy': 0.00011525024019565052,\n",
       " 'MCLARENRENAULT rainy RENAULT1 sunny': 0.00011525024019565052,\n",
       " 'MCLARENRENAULT rainy RENAULT1 cloudy': 0.00011525024019565052,\n",
       " 'MCLARENRENAULT rainy RENAULT1 snowy': 0.00011525024019565052,\n",
       " 'MCLARENRENAULT rainy RENAULT1 foggy': 0.00011525024019565052,\n",
       " 'MCLARENRENAULT rainy SCUDERIATOROROSSOHONDA rainy': 0.00016717617259149302,\n",
       " 'MCLARENRENAULT rainy SCUDERIATOROROSSOHONDA sunny': 0.00016717617259149302,\n",
       " 'MCLARENRENAULT rainy SCUDERIATOROROSSOHONDA cloudy': 0.00016717617259149302,\n",
       " 'MCLARENRENAULT rainy SCUDERIATOROROSSOHONDA snowy': 0.00016717617259149302,\n",
       " 'MCLARENRENAULT rainy SCUDERIATOROROSSOHONDA foggy': 0.00016717617259149302,\n",
       " 'MCLARENRENAULT rainy RACINGPOINTBWTMERCEDES rainy': 9.245348938771964e-05,\n",
       " 'MCLARENRENAULT rainy RACINGPOINTBWTMERCEDES sunny': 9.245348938771964e-05,\n",
       " 'MCLARENRENAULT rainy RACINGPOINTBWTMERCEDES cloudy': 9.245348938771964e-05,\n",
       " 'MCLARENRENAULT rainy RACINGPOINTBWTMERCEDES snowy': 9.245348938771964e-05,\n",
       " 'MCLARENRENAULT rainy RACINGPOINTBWTMERCEDES foggy': 9.245348938771964e-05,\n",
       " 'MCLARENRENAULT rainy ALFAROMEORACINGFERRARI rainy': 7.218971089178109e-05,\n",
       " 'MCLARENRENAULT rainy ALFAROMEORACINGFERRARI sunny': 7.218971089178109e-05,\n",
       " 'MCLARENRENAULT rainy ALFAROMEORACINGFERRARI cloudy': 7.218971089178109e-05,\n",
       " 'MCLARENRENAULT rainy ALFAROMEORACINGFERRARI snowy': 7.218971089178109e-05,\n",
       " 'MCLARENRENAULT rainy ALFAROMEORACINGFERRARI foggy': 7.218971089178109e-05,\n",
       " 'MCLARENRENAULT rainy HAASFERRARI rainy': 3.546161236789246e-05,\n",
       " 'MCLARENRENAULT rainy HAASFERRARI sunny': 3.546161236789246e-05,\n",
       " 'MCLARENRENAULT rainy HAASFERRARI cloudy': 3.546161236789246e-05,\n",
       " 'MCLARENRENAULT rainy HAASFERRARI snowy': 3.546161236789246e-05,\n",
       " 'MCLARENRENAULT rainy HAASFERRARI foggy': 3.546161236789246e-05,\n",
       " 'MCLARENRENAULT rainy WILLIAMSMERCEDES rainy': 1.2664861559961594e-06,\n",
       " 'MCLARENRENAULT rainy WILLIAMSMERCEDES sunny': 1.2664861559961594e-06,\n",
       " 'MCLARENRENAULT rainy WILLIAMSMERCEDES cloudy': 1.2664861559961594e-06,\n",
       " 'MCLARENRENAULT rainy WILLIAMSMERCEDES snowy': 1.2664861559961594e-06,\n",
       " 'MCLARENRENAULT rainy WILLIAMSMERCEDES foggy': 1.2664861559961594e-06,\n",
       " 'MCLARENRENAULT sunny MERCEDES1 rainy': 0.0009359332692811616,\n",
       " 'MCLARENRENAULT sunny MERCEDES1 sunny': 0.0009359332692811616,\n",
       " 'MCLARENRENAULT sunny MERCEDES1 cloudy': 0.0009359332692811616,\n",
       " 'MCLARENRENAULT sunny MERCEDES1 snowy': 0.0009359332692811616,\n",
       " 'MCLARENRENAULT sunny MERCEDES1 foggy': 0.0009359332692811616,\n",
       " 'MCLARENRENAULT sunny FERRARI1 rainy': 0.0006383090226220644,\n",
       " 'MCLARENRENAULT sunny FERRARI1 sunny': 0.0006383090226220644,\n",
       " 'MCLARENRENAULT sunny FERRARI1 cloudy': 0.0006383090226220644,\n",
       " 'MCLARENRENAULT sunny FERRARI1 snowy': 0.0006383090226220644,\n",
       " 'MCLARENRENAULT sunny FERRARI1 foggy': 0.0006383090226220644,\n",
       " 'MCLARENRENAULT sunny REDBULLRACINGHONDA rainy': 0.0004685998777185789,\n",
       " 'MCLARENRENAULT sunny REDBULLRACINGHONDA sunny': 0.0004685998777185789,\n",
       " 'MCLARENRENAULT sunny REDBULLRACINGHONDA cloudy': 0.0004685998777185789,\n",
       " 'MCLARENRENAULT sunny REDBULLRACINGHONDA snowy': 0.0004685998777185789,\n",
       " 'MCLARENRENAULT sunny REDBULLRACINGHONDA foggy': 0.0004685998777185789,\n",
       " 'MCLARENRENAULT sunny MCLARENRENAULT rainy': 0.00018364049261944312,\n",
       " 'MCLARENRENAULT sunny MCLARENRENAULT sunny': 0.00018364049261944312,\n",
       " 'MCLARENRENAULT sunny MCLARENRENAULT cloudy': 0.00018364049261944312,\n",
       " 'MCLARENRENAULT sunny MCLARENRENAULT snowy': 0.00018364049261944312,\n",
       " 'MCLARENRENAULT sunny MCLARENRENAULT foggy': 0.00018364049261944312,\n",
       " 'MCLARENRENAULT sunny RENAULT1 rainy': 0.00011525024019565052,\n",
       " 'MCLARENRENAULT sunny RENAULT1 sunny': 0.00011525024019565052,\n",
       " 'MCLARENRENAULT sunny RENAULT1 cloudy': 0.00011525024019565052,\n",
       " 'MCLARENRENAULT sunny RENAULT1 snowy': 0.00011525024019565052,\n",
       " 'MCLARENRENAULT sunny RENAULT1 foggy': 0.00011525024019565052,\n",
       " 'MCLARENRENAULT sunny SCUDERIATOROROSSOHONDA rainy': 0.00016717617259149302,\n",
       " 'MCLARENRENAULT sunny SCUDERIATOROROSSOHONDA sunny': 0.00016717617259149302,\n",
       " 'MCLARENRENAULT sunny SCUDERIATOROROSSOHONDA cloudy': 0.00016717617259149302,\n",
       " 'MCLARENRENAULT sunny SCUDERIATOROROSSOHONDA snowy': 0.00016717617259149302,\n",
       " 'MCLARENRENAULT sunny SCUDERIATOROROSSOHONDA foggy': 0.00016717617259149302,\n",
       " 'MCLARENRENAULT sunny RACINGPOINTBWTMERCEDES rainy': 9.245348938771964e-05,\n",
       " 'MCLARENRENAULT sunny RACINGPOINTBWTMERCEDES sunny': 9.245348938771964e-05,\n",
       " 'MCLARENRENAULT sunny RACINGPOINTBWTMERCEDES cloudy': 9.245348938771964e-05,\n",
       " 'MCLARENRENAULT sunny RACINGPOINTBWTMERCEDES snowy': 9.245348938771964e-05,\n",
       " 'MCLARENRENAULT sunny RACINGPOINTBWTMERCEDES foggy': 9.245348938771964e-05,\n",
       " 'MCLARENRENAULT sunny ALFAROMEORACINGFERRARI rainy': 7.218971089178109e-05,\n",
       " 'MCLARENRENAULT sunny ALFAROMEORACINGFERRARI sunny': 7.218971089178109e-05,\n",
       " 'MCLARENRENAULT sunny ALFAROMEORACINGFERRARI cloudy': 7.218971089178109e-05,\n",
       " 'MCLARENRENAULT sunny ALFAROMEORACINGFERRARI snowy': 7.218971089178109e-05,\n",
       " 'MCLARENRENAULT sunny ALFAROMEORACINGFERRARI foggy': 7.218971089178109e-05,\n",
       " 'MCLARENRENAULT sunny HAASFERRARI rainy': 3.546161236789246e-05,\n",
       " 'MCLARENRENAULT sunny HAASFERRARI sunny': 3.546161236789246e-05,\n",
       " 'MCLARENRENAULT sunny HAASFERRARI cloudy': 3.546161236789246e-05,\n",
       " 'MCLARENRENAULT sunny HAASFERRARI snowy': 3.546161236789246e-05,\n",
       " 'MCLARENRENAULT sunny HAASFERRARI foggy': 3.546161236789246e-05,\n",
       " 'MCLARENRENAULT sunny WILLIAMSMERCEDES rainy': 1.2664861559961594e-06,\n",
       " 'MCLARENRENAULT sunny WILLIAMSMERCEDES sunny': 1.2664861559961594e-06,\n",
       " 'MCLARENRENAULT sunny WILLIAMSMERCEDES cloudy': 1.2664861559961594e-06,\n",
       " 'MCLARENRENAULT sunny WILLIAMSMERCEDES snowy': 1.2664861559961594e-06,\n",
       " 'MCLARENRENAULT sunny WILLIAMSMERCEDES foggy': 1.2664861559961594e-06,\n",
       " 'MCLARENRENAULT cloudy MERCEDES1 rainy': 0.0009359332692811616,\n",
       " 'MCLARENRENAULT cloudy MERCEDES1 sunny': 0.0009359332692811616,\n",
       " 'MCLARENRENAULT cloudy MERCEDES1 cloudy': 0.0009359332692811616,\n",
       " 'MCLARENRENAULT cloudy MERCEDES1 snowy': 0.0009359332692811616,\n",
       " 'MCLARENRENAULT cloudy MERCEDES1 foggy': 0.0009359332692811616,\n",
       " 'MCLARENRENAULT cloudy FERRARI1 rainy': 0.0006383090226220644,\n",
       " 'MCLARENRENAULT cloudy FERRARI1 sunny': 0.0006383090226220644,\n",
       " 'MCLARENRENAULT cloudy FERRARI1 cloudy': 0.0006383090226220644,\n",
       " 'MCLARENRENAULT cloudy FERRARI1 snowy': 0.0006383090226220644,\n",
       " 'MCLARENRENAULT cloudy FERRARI1 foggy': 0.0006383090226220644,\n",
       " 'MCLARENRENAULT cloudy REDBULLRACINGHONDA rainy': 0.0004685998777185789,\n",
       " 'MCLARENRENAULT cloudy REDBULLRACINGHONDA sunny': 0.0004685998777185789,\n",
       " 'MCLARENRENAULT cloudy REDBULLRACINGHONDA cloudy': 0.0004685998777185789,\n",
       " 'MCLARENRENAULT cloudy REDBULLRACINGHONDA snowy': 0.0004685998777185789,\n",
       " 'MCLARENRENAULT cloudy REDBULLRACINGHONDA foggy': 0.0004685998777185789,\n",
       " 'MCLARENRENAULT cloudy MCLARENRENAULT rainy': 0.00018364049261944312,\n",
       " 'MCLARENRENAULT cloudy MCLARENRENAULT sunny': 0.00018364049261944312,\n",
       " 'MCLARENRENAULT cloudy MCLARENRENAULT cloudy': 0.00018364049261944312,\n",
       " 'MCLARENRENAULT cloudy MCLARENRENAULT snowy': 0.00018364049261944312,\n",
       " 'MCLARENRENAULT cloudy MCLARENRENAULT foggy': 0.00018364049261944312,\n",
       " 'MCLARENRENAULT cloudy RENAULT1 rainy': 0.00011525024019565052,\n",
       " 'MCLARENRENAULT cloudy RENAULT1 sunny': 0.00011525024019565052,\n",
       " 'MCLARENRENAULT cloudy RENAULT1 cloudy': 0.00011525024019565052,\n",
       " 'MCLARENRENAULT cloudy RENAULT1 snowy': 0.00011525024019565052,\n",
       " 'MCLARENRENAULT cloudy RENAULT1 foggy': 0.00011525024019565052,\n",
       " 'MCLARENRENAULT cloudy SCUDERIATOROROSSOHONDA rainy': 0.00016717617259149302,\n",
       " 'MCLARENRENAULT cloudy SCUDERIATOROROSSOHONDA sunny': 0.00016717617259149302,\n",
       " 'MCLARENRENAULT cloudy SCUDERIATOROROSSOHONDA cloudy': 0.00016717617259149302,\n",
       " 'MCLARENRENAULT cloudy SCUDERIATOROROSSOHONDA snowy': 0.00016717617259149302,\n",
       " 'MCLARENRENAULT cloudy SCUDERIATOROROSSOHONDA foggy': 0.00016717617259149302,\n",
       " 'MCLARENRENAULT cloudy RACINGPOINTBWTMERCEDES rainy': 9.245348938771964e-05,\n",
       " 'MCLARENRENAULT cloudy RACINGPOINTBWTMERCEDES sunny': 9.245348938771964e-05,\n",
       " 'MCLARENRENAULT cloudy RACINGPOINTBWTMERCEDES cloudy': 9.245348938771964e-05,\n",
       " 'MCLARENRENAULT cloudy RACINGPOINTBWTMERCEDES snowy': 9.245348938771964e-05,\n",
       " 'MCLARENRENAULT cloudy RACINGPOINTBWTMERCEDES foggy': 9.245348938771964e-05,\n",
       " 'MCLARENRENAULT cloudy ALFAROMEORACINGFERRARI rainy': 7.218971089178109e-05,\n",
       " 'MCLARENRENAULT cloudy ALFAROMEORACINGFERRARI sunny': 7.218971089178109e-05,\n",
       " 'MCLARENRENAULT cloudy ALFAROMEORACINGFERRARI cloudy': 7.218971089178109e-05,\n",
       " 'MCLARENRENAULT cloudy ALFAROMEORACINGFERRARI snowy': 7.218971089178109e-05,\n",
       " 'MCLARENRENAULT cloudy ALFAROMEORACINGFERRARI foggy': 7.218971089178109e-05,\n",
       " 'MCLARENRENAULT cloudy HAASFERRARI rainy': 3.546161236789246e-05,\n",
       " 'MCLARENRENAULT cloudy HAASFERRARI sunny': 3.546161236789246e-05,\n",
       " 'MCLARENRENAULT cloudy HAASFERRARI cloudy': 3.546161236789246e-05,\n",
       " 'MCLARENRENAULT cloudy HAASFERRARI snowy': 3.546161236789246e-05,\n",
       " 'MCLARENRENAULT cloudy HAASFERRARI foggy': 3.546161236789246e-05,\n",
       " 'MCLARENRENAULT cloudy WILLIAMSMERCEDES rainy': 1.2664861559961594e-06,\n",
       " 'MCLARENRENAULT cloudy WILLIAMSMERCEDES sunny': 1.2664861559961594e-06,\n",
       " 'MCLARENRENAULT cloudy WILLIAMSMERCEDES cloudy': 1.2664861559961594e-06,\n",
       " 'MCLARENRENAULT cloudy WILLIAMSMERCEDES snowy': 1.2664861559961594e-06,\n",
       " 'MCLARENRENAULT cloudy WILLIAMSMERCEDES foggy': 1.2664861559961594e-06,\n",
       " 'MCLARENRENAULT snowy MERCEDES1 rainy': 0.0009359332692811616,\n",
       " 'MCLARENRENAULT snowy MERCEDES1 sunny': 0.0009359332692811616,\n",
       " 'MCLARENRENAULT snowy MERCEDES1 cloudy': 0.0009359332692811616,\n",
       " 'MCLARENRENAULT snowy MERCEDES1 snowy': 0.0009359332692811616,\n",
       " 'MCLARENRENAULT snowy MERCEDES1 foggy': 0.0009359332692811616,\n",
       " 'MCLARENRENAULT snowy FERRARI1 rainy': 0.0006383090226220644,\n",
       " 'MCLARENRENAULT snowy FERRARI1 sunny': 0.0006383090226220644,\n",
       " 'MCLARENRENAULT snowy FERRARI1 cloudy': 0.0006383090226220644,\n",
       " 'MCLARENRENAULT snowy FERRARI1 snowy': 0.0006383090226220644,\n",
       " 'MCLARENRENAULT snowy FERRARI1 foggy': 0.0006383090226220644,\n",
       " 'MCLARENRENAULT snowy REDBULLRACINGHONDA rainy': 0.0004685998777185789,\n",
       " 'MCLARENRENAULT snowy REDBULLRACINGHONDA sunny': 0.0004685998777185789,\n",
       " 'MCLARENRENAULT snowy REDBULLRACINGHONDA cloudy': 0.0004685998777185789,\n",
       " 'MCLARENRENAULT snowy REDBULLRACINGHONDA snowy': 0.0004685998777185789,\n",
       " 'MCLARENRENAULT snowy REDBULLRACINGHONDA foggy': 0.0004685998777185789,\n",
       " 'MCLARENRENAULT snowy MCLARENRENAULT rainy': 0.00018364049261944312,\n",
       " 'MCLARENRENAULT snowy MCLARENRENAULT sunny': 0.00018364049261944312,\n",
       " 'MCLARENRENAULT snowy MCLARENRENAULT cloudy': 0.00018364049261944312,\n",
       " 'MCLARENRENAULT snowy MCLARENRENAULT snowy': 0.00018364049261944312,\n",
       " 'MCLARENRENAULT snowy MCLARENRENAULT foggy': 0.00018364049261944312,\n",
       " 'MCLARENRENAULT snowy RENAULT1 rainy': 0.00011525024019565052,\n",
       " 'MCLARENRENAULT snowy RENAULT1 sunny': 0.00011525024019565052,\n",
       " 'MCLARENRENAULT snowy RENAULT1 cloudy': 0.00011525024019565052,\n",
       " 'MCLARENRENAULT snowy RENAULT1 snowy': 0.00011525024019565052,\n",
       " 'MCLARENRENAULT snowy RENAULT1 foggy': 0.00011525024019565052,\n",
       " 'MCLARENRENAULT snowy SCUDERIATOROROSSOHONDA rainy': 0.00016717617259149302,\n",
       " 'MCLARENRENAULT snowy SCUDERIATOROROSSOHONDA sunny': 0.00016717617259149302,\n",
       " 'MCLARENRENAULT snowy SCUDERIATOROROSSOHONDA cloudy': 0.00016717617259149302,\n",
       " 'MCLARENRENAULT snowy SCUDERIATOROROSSOHONDA snowy': 0.00016717617259149302,\n",
       " 'MCLARENRENAULT snowy SCUDERIATOROROSSOHONDA foggy': 0.00016717617259149302,\n",
       " 'MCLARENRENAULT snowy RACINGPOINTBWTMERCEDES rainy': 9.245348938771964e-05,\n",
       " 'MCLARENRENAULT snowy RACINGPOINTBWTMERCEDES sunny': 9.245348938771964e-05,\n",
       " 'MCLARENRENAULT snowy RACINGPOINTBWTMERCEDES cloudy': 9.245348938771964e-05,\n",
       " 'MCLARENRENAULT snowy RACINGPOINTBWTMERCEDES snowy': 9.245348938771964e-05,\n",
       " 'MCLARENRENAULT snowy RACINGPOINTBWTMERCEDES foggy': 9.245348938771964e-05,\n",
       " 'MCLARENRENAULT snowy ALFAROMEORACINGFERRARI rainy': 7.218971089178109e-05,\n",
       " 'MCLARENRENAULT snowy ALFAROMEORACINGFERRARI sunny': 7.218971089178109e-05,\n",
       " 'MCLARENRENAULT snowy ALFAROMEORACINGFERRARI cloudy': 7.218971089178109e-05,\n",
       " 'MCLARENRENAULT snowy ALFAROMEORACINGFERRARI snowy': 7.218971089178109e-05,\n",
       " 'MCLARENRENAULT snowy ALFAROMEORACINGFERRARI foggy': 7.218971089178109e-05,\n",
       " 'MCLARENRENAULT snowy HAASFERRARI rainy': 3.546161236789246e-05,\n",
       " 'MCLARENRENAULT snowy HAASFERRARI sunny': 3.546161236789246e-05,\n",
       " 'MCLARENRENAULT snowy HAASFERRARI cloudy': 3.546161236789246e-05,\n",
       " 'MCLARENRENAULT snowy HAASFERRARI snowy': 3.546161236789246e-05,\n",
       " 'MCLARENRENAULT snowy HAASFERRARI foggy': 3.546161236789246e-05,\n",
       " 'MCLARENRENAULT snowy WILLIAMSMERCEDES rainy': 1.2664861559961594e-06,\n",
       " 'MCLARENRENAULT snowy WILLIAMSMERCEDES sunny': 1.2664861559961594e-06,\n",
       " 'MCLARENRENAULT snowy WILLIAMSMERCEDES cloudy': 1.2664861559961594e-06,\n",
       " 'MCLARENRENAULT snowy WILLIAMSMERCEDES snowy': 1.2664861559961594e-06,\n",
       " 'MCLARENRENAULT snowy WILLIAMSMERCEDES foggy': 1.2664861559961594e-06,\n",
       " 'MCLARENRENAULT foggy MERCEDES1 rainy': 0.0009359332692811616,\n",
       " 'MCLARENRENAULT foggy MERCEDES1 sunny': 0.0009359332692811616,\n",
       " 'MCLARENRENAULT foggy MERCEDES1 cloudy': 0.0009359332692811616,\n",
       " 'MCLARENRENAULT foggy MERCEDES1 snowy': 0.0009359332692811616,\n",
       " 'MCLARENRENAULT foggy MERCEDES1 foggy': 0.0009359332692811616,\n",
       " 'MCLARENRENAULT foggy FERRARI1 rainy': 0.0006383090226220644,\n",
       " 'MCLARENRENAULT foggy FERRARI1 sunny': 0.0006383090226220644,\n",
       " 'MCLARENRENAULT foggy FERRARI1 cloudy': 0.0006383090226220644,\n",
       " 'MCLARENRENAULT foggy FERRARI1 snowy': 0.0006383090226220644,\n",
       " 'MCLARENRENAULT foggy FERRARI1 foggy': 0.0006383090226220644,\n",
       " 'MCLARENRENAULT foggy REDBULLRACINGHONDA rainy': 0.0004685998777185789,\n",
       " 'MCLARENRENAULT foggy REDBULLRACINGHONDA sunny': 0.0004685998777185789,\n",
       " 'MCLARENRENAULT foggy REDBULLRACINGHONDA cloudy': 0.0004685998777185789,\n",
       " 'MCLARENRENAULT foggy REDBULLRACINGHONDA snowy': 0.0004685998777185789,\n",
       " 'MCLARENRENAULT foggy REDBULLRACINGHONDA foggy': 0.0004685998777185789,\n",
       " 'MCLARENRENAULT foggy MCLARENRENAULT rainy': 0.00018364049261944312,\n",
       " 'MCLARENRENAULT foggy MCLARENRENAULT sunny': 0.00018364049261944312,\n",
       " 'MCLARENRENAULT foggy MCLARENRENAULT cloudy': 0.00018364049261944312,\n",
       " 'MCLARENRENAULT foggy MCLARENRENAULT snowy': 0.00018364049261944312,\n",
       " 'MCLARENRENAULT foggy MCLARENRENAULT foggy': 0.00018364049261944312,\n",
       " 'MCLARENRENAULT foggy RENAULT1 rainy': 0.00011525024019565052,\n",
       " 'MCLARENRENAULT foggy RENAULT1 sunny': 0.00011525024019565052,\n",
       " 'MCLARENRENAULT foggy RENAULT1 cloudy': 0.00011525024019565052,\n",
       " 'MCLARENRENAULT foggy RENAULT1 snowy': 0.00011525024019565052,\n",
       " 'MCLARENRENAULT foggy RENAULT1 foggy': 0.00011525024019565052,\n",
       " 'MCLARENRENAULT foggy SCUDERIATOROROSSOHONDA rainy': 0.00016717617259149302,\n",
       " 'MCLARENRENAULT foggy SCUDERIATOROROSSOHONDA sunny': 0.00016717617259149302,\n",
       " 'MCLARENRENAULT foggy SCUDERIATOROROSSOHONDA cloudy': 0.00016717617259149302,\n",
       " 'MCLARENRENAULT foggy SCUDERIATOROROSSOHONDA snowy': 0.00016717617259149302,\n",
       " 'MCLARENRENAULT foggy SCUDERIATOROROSSOHONDA foggy': 0.00016717617259149302,\n",
       " 'MCLARENRENAULT foggy RACINGPOINTBWTMERCEDES rainy': 9.245348938771964e-05,\n",
       " 'MCLARENRENAULT foggy RACINGPOINTBWTMERCEDES sunny': 9.245348938771964e-05,\n",
       " 'MCLARENRENAULT foggy RACINGPOINTBWTMERCEDES cloudy': 9.245348938771964e-05,\n",
       " 'MCLARENRENAULT foggy RACINGPOINTBWTMERCEDES snowy': 9.245348938771964e-05,\n",
       " 'MCLARENRENAULT foggy RACINGPOINTBWTMERCEDES foggy': 9.245348938771964e-05,\n",
       " 'MCLARENRENAULT foggy ALFAROMEORACINGFERRARI rainy': 7.218971089178109e-05,\n",
       " 'MCLARENRENAULT foggy ALFAROMEORACINGFERRARI sunny': 7.218971089178109e-05,\n",
       " 'MCLARENRENAULT foggy ALFAROMEORACINGFERRARI cloudy': 7.218971089178109e-05,\n",
       " 'MCLARENRENAULT foggy ALFAROMEORACINGFERRARI snowy': 7.218971089178109e-05,\n",
       " 'MCLARENRENAULT foggy ALFAROMEORACINGFERRARI foggy': 7.218971089178109e-05,\n",
       " 'MCLARENRENAULT foggy HAASFERRARI rainy': 3.546161236789246e-05,\n",
       " 'MCLARENRENAULT foggy HAASFERRARI sunny': 3.546161236789246e-05,\n",
       " 'MCLARENRENAULT foggy HAASFERRARI cloudy': 3.546161236789246e-05,\n",
       " 'MCLARENRENAULT foggy HAASFERRARI snowy': 3.546161236789246e-05,\n",
       " 'MCLARENRENAULT foggy HAASFERRARI foggy': 3.546161236789246e-05,\n",
       " 'MCLARENRENAULT foggy WILLIAMSMERCEDES rainy': 1.2664861559961594e-06,\n",
       " 'MCLARENRENAULT foggy WILLIAMSMERCEDES sunny': 1.2664861559961594e-06,\n",
       " 'MCLARENRENAULT foggy WILLIAMSMERCEDES cloudy': 1.2664861559961594e-06,\n",
       " 'MCLARENRENAULT foggy WILLIAMSMERCEDES snowy': 1.2664861559961594e-06,\n",
       " 'MCLARENRENAULT foggy WILLIAMSMERCEDES foggy': 1.2664861559961594e-06,\n",
       " ...}"
      ]
     },
     "execution_count": 241,
     "metadata": {},
     "output_type": "execute_result"
    }
   ],
   "source": [
    "BothW = joint(S, R, ' ')\n",
    "BothW"
   ]
  },
  {
   "cell_type": "code",
   "execution_count": 242,
   "metadata": {},
   "outputs": [
    {
     "data": {
      "text/plain": [
       "2500"
      ]
     },
     "execution_count": 242,
     "metadata": {},
     "output_type": "execute_result"
    }
   ],
   "source": [
    "len(BothW)"
   ]
  },
  {
   "cell_type": "code",
   "execution_count": 256,
   "metadata": {},
   "outputs": [
    {
     "data": {
      "text/plain": [
       "0.3219108465224333"
      ]
     },
     "execution_count": 256,
     "metadata": {},
     "output_type": "execute_result"
    }
   ],
   "source": [
    "def Mer_one_rainy(outcome): \n",
    "    return 'MERCEDES1 rainy' in outcome\n",
    "def Mercedes_BothR(outcome):\n",
    "    return (outcome.startswith('MERCEDES1')) and ((outcome.endswith('MERCEDES1 rainy') or outcome.endswith('MERCEDES1 sunny') or outcome.endswith('MERCEDES1 cloudy') or outcome.endswith('MERCEDES1 snowy') or outcome.endswith('MERCEDES1 foggy')))\n",
    "p(Mercedes_BothR, such_that(Mer_one_rainy, BothW))\n",
    "# p(Mer_one_rainy, BothW)\n",
    "# p(Mercedes_BothR,BothW)\n",
    "\n"
   ]
  },
  {
   "cell_type": "code",
   "execution_count": null,
   "metadata": {},
   "outputs": [],
   "source": []
  }
 ],
 "metadata": {
  "kernelspec": {
   "display_name": "Python 3",
   "language": "python",
   "name": "python3"
  },
  "language_info": {
   "codemirror_mode": {
    "name": "ipython",
    "version": 3
   },
   "file_extension": ".py",
   "mimetype": "text/x-python",
   "name": "python",
   "nbconvert_exporter": "python",
   "pygments_lexer": "ipython3",
   "version": "3.7.4"
  }
 },
 "nbformat": 4,
 "nbformat_minor": 4
}
