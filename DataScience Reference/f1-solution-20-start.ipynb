{
 "cells": [
  {
   "cell_type": "markdown",
   "metadata": {
    "button": false,
    "new_sheet": false,
    "run_control": {
     "read_only": false
    }
   },
   "source": [
    "<div style=\"text-align: right\">INFO 6105 Data Sci Engineering Methods and Tools</div>\n",
    "<div style=\"text-align: right\">Dino Konstantopoulos, 24 February 2020</div>\n",
    "\n",
    "We correct your data science homework involving Formula 1 driving. \n",
    "\n",
    "<br />\n",
    "<center>\n",
    "    <img src=\"images/f1-python-20.png\" width=400 />\n",
    "</center>\n",
    "\n",
    "Let's use the following probability functions and classes."
   ]
  },
  {
   "cell_type": "code",
   "execution_count": 1,
   "metadata": {
    "button": false,
    "new_sheet": false,
    "run_control": {
     "read_only": false
    }
   },
   "outputs": [],
   "source": [
    "def p(event, space): \n",
    "    \"\"\"The probability of an event, given a sample space of outcomes. \n",
    "    event: a collection of outcomes, or a predicate that is true of outcomes in the event. \n",
    "    space: a set of outcomes or a probability distribution of {outcome: frequency} pairs.\"\"\"\n",
    "    if is_predicate(event):\n",
    "        event = such_that(event, space)\n",
    "    if isinstance(space, ProbDist):\n",
    "        return sum(space[o] for o in space if o in event)\n",
    "    else:\n",
    "        return Fraction(len(event & space), len(space))\n",
    "\n",
    "is_predicate = callable\n",
    "\n",
    "def such_that(predicate, space): \n",
    "    \"\"\"The outcomes in the sample pace for which the predicate is true.\n",
    "    If space is a set, return a subset {outcome,...} with outcomes where predicate(element) is true;\n",
    "    if space is a ProbDist, return a ProbDist {outcome: frequency,...} with outcomes where predicate(element) is true.\"\"\"\n",
    "    if isinstance(space, ProbDist):\n",
    "        return ProbDist({o:space[o] for o in space if predicate(o)})\n",
    "    else:\n",
    "        return {o for o in space if predicate(o)}"
   ]
  },
  {
   "cell_type": "code",
   "execution_count": 2,
   "metadata": {},
   "outputs": [],
   "source": [
    "class ProbDist(dict):\n",
    "    \"\"\"A Probability Distribution; an {outcome: probability} mapping.\"\"\"\n",
    "    def __init__(self, mapping=(), **kwargs):\n",
    "        self.update(mapping, **kwargs)\n",
    "        # Make probabilities sum to 1.0; assert no negative probabilities\n",
    "        total = sum(self.values())\n",
    "        for outcome in self:\n",
    "            self[outcome] = self[outcome] / total\n",
    "            assert self[outcome] >= 0"
   ]
  },
  {
   "cell_type": "markdown",
   "metadata": {},
   "source": [
    "# F1 Sport Analytics\n",
    "\n",
    "<br />\n",
    "<center>\n",
    "    <img src=\"ipynb.images/mercedes-ferrari.jpg\" width=800 />\n",
    "</center>\n",
    "\n",
    "Question 1.1 (20 points) There are two F1 races coming up: The Singapore Grand Prix this weekend and the Russian Grand Prix the weekend after. The 2019 driver standings are given [here](https://www.formula1.com/en/results.html/2019/drivers.html). Given these standings (please do not use team standings given on the same Web site, use driver standings), what is the Probability Distribution for each F1 driver to win the Singapore Grand Prix? What is the Probability Distribution for each F1 driver to win *both* the Singapore and Russian Grand Prix? What is the probability for Mercedes to win both races? What is the probability for Mercedes to win at least one race? Note that Mercedes, and each other racing team, has two drivers per race.\n",
    "\n",
    "Question 1.2 (30 points) If Mercedes wins the first race, what is the probability that Mercedes wins the next one? If Mercedes wins at least one of these two races, what is the probability Mercedes wins both races? How about Ferrari, Alfa Romeo, and McLaren?\n",
    "\n",
    "Question 1.3 (50 points) Mercedes wins **at least one** of these two races on a rainy day. What is the probability Mercedes wins both races, assuming races can be held on either rainy, sunny, cloudy, snowy or foggy days? Assume that rain, sun, clouds, snow, and fog are the only possible weather conditions on race tracks.\n",
    "\n",
    "You need to provide *proof* for your answers. `I think it's one in a million because Mercedes sucks and I love Ferrari` is not a good answer. Leverage the counting framework in this workbook."
   ]
  },
  {
   "cell_type": "markdown",
   "metadata": {},
   "source": [
    "### Note\n",
    "\n",
    "We are going to approach the problem a bit differently:\n",
    "\n",
    "When we are asked to consider the case of winning the first race, instead of winning the first race, we are going to model the probability of winning the *next* race because it's easier (for me) to reason this way. But whether we win the first race or the second race does not make a difference in ***frequentist statistics*** because *we stay with the same probability distribution for wins*."
   ]
  },
  {
   "cell_type": "raw",
   "metadata": {},
   "source": [
    "1\tLewis Hamilton\tGBR\tMERCEDES\t413\n",
    "2\tValtteri Bottas\tFIN\tMERCEDES\t326\n",
    "3\tMax Verstappen\tNED\tRED BULL RACING HONDA\t278\n",
    "4\tCharles Leclerc\tMON\tFERRARI\t264\n",
    "5\tSebastian Vettel\tGER\tFERRARI\t240\n",
    "6\tCarlos Sainz\tESP\tMCLAREN RENAULT\t96\n",
    "7\tPierre Gasly\tFRA\tSCUDERIA TORO ROSSO HONDA\t95\n",
    "8\tAlexander Albon\tTHA\tRED BULL RACING HONDA\t92\n",
    "9\tDaniel Ricciardo\tAUS\tRENAULT\t54\n",
    "10\tSergio Perez\tMEX\tRACING POINT BWT MERCEDES\t52\n",
    "11\tLando Norris\tGBR\tMCLAREN RENAULT\t49\n",
    "12\tKimi Räikkönen\tFIN\tALFA ROMEO RACING FERRARI\t43\n",
    "13\tDaniil Kvyat\tRUS\tSCUDERIA TORO ROSSO HONDA\t37\n",
    "14\tNico Hulkenberg\tGER\tRENAULT\t37\n",
    "15\tLance Stroll\tCAN\tRACING POINT BWT MERCEDES\t21\n",
    "16\tKevin Magnussen\tDEN\tHAAS FERRARI\t20\n",
    "17\tAntonio Giovinazzi\tITA\tALFA ROMEO RACING FERRARI\t14\n",
    "18\tRomain Grosjean\tFRA\tHAAS FERRARI\t8\n",
    "19\tRobert Kubica\tPOL\tWILLIAMS MERCEDES\t1\n",
    "20\tGeorge Russell\tGBR\tWILLIAMS MERCEDES\t0"
   ]
  },
  {
   "cell_type": "markdown",
   "metadata": {},
   "source": [
    "Hint: We use `SGP` to denote the Probability Distribution given by F1 driver wins. Write driver initials as keys and driver wins as values in a dictionary that you pass to our function `ProbDist`..\n",
    "\n",
    "\n",
    "### Question 1"
   ]
  },
  {
   "cell_type": "code",
   "execution_count": 3,
   "metadata": {},
   "outputs": [
    {
     "data": {
      "text/plain": [
       "{'LH': 0.19290051377860812,\n",
       " 'VB': 0.15226529659037832,\n",
       " 'MV': 0.12984586641756188,\n",
       " 'CL': 0.12330686595049042,\n",
       " 'SV': 0.1120971508640822,\n",
       " 'CS': 0.044838860345632885,\n",
       " 'PG': 0.044838860345632885,\n",
       " 'AA': 0.04297057449789818,\n",
       " 'DR': 0.025221858944418495,\n",
       " 'SP': 0.024287716020551145,\n",
       " 'LN': 0.022886501634750117,\n",
       " 'KR': 0.02008407286314806,\n",
       " 'DK': 0.017281644091546006,\n",
       " 'NH': 0.017281644091546006,\n",
       " 'LS': 0.009808500700607193,\n",
       " 'KM': 0.009341429238673517,\n",
       " 'AG': 0.006539000467071462,\n",
       " 'RG': 0.0037365716954694066,\n",
       " 'RK': 0.00046707146193367583,\n",
       " 'GR': 0.0}"
      ]
     },
     "execution_count": 3,
     "metadata": {},
     "output_type": "execute_result"
    }
   ],
   "source": [
    "SGP = ProbDist(\n",
    "    LH = 413,\n",
    "    VB = 326,\n",
    "    MV = 278,\n",
    "    CL = 264,\n",
    "    SV = 240,\n",
    "    CS = 96,\n",
    "    PG = 96,\n",
    "    AA = 92,\n",
    "    DR = 54,\n",
    "    SP = 52,\n",
    "    LN = 49,\n",
    "    KR = 43,\n",
    "    DK = 37,\n",
    "    NH = 37,\n",
    "    LS = 21,\n",
    "    KM = 20,\n",
    "    AG = 14,\n",
    "    RG = 8,\n",
    "    RK = 1,\n",
    "    GR = 0)\n",
    "SGP"
   ]
  },
  {
   "cell_type": "markdown",
   "metadata": {},
   "source": [
    "The probability of two ***successive*** wins is just the square of each single win probability (***intersection*** of two events):"
   ]
  },
  {
   "cell_type": "code",
   "execution_count": 4,
   "metadata": {},
   "outputs": [
    {
     "data": {
      "text/plain": [
       "{'LH': 0.03721060821605098,\n",
       " 'VB': 0.023184720545755877,\n",
       " 'MV': 0.016859949025727322,\n",
       " 'CL': 0.015204583190532214,\n",
       " 'SV': 0.012565771231844805,\n",
       " 'CS': 0.002010523397095169,\n",
       " 'PG': 0.002010523397095169,\n",
       " 'AA': 0.0018464702726794173,\n",
       " 'DR': 0.0006361421686121433,\n",
       " 'SP': 0.0005898931494949367,\n",
       " 'LN': 0.0005237919570774198,\n",
       " 'KR': 0.00040336998277224037,\n",
       " 'DK': 0.000298655222506867,\n",
       " 'NH': 0.000298655222506867,\n",
       " 'LS': 9.62066859938118e-05,\n",
       " 'KM': 8.726230022114447e-05,\n",
       " 'AG': 4.27585271083608e-05,\n",
       " 'RG': 1.3961968035383116e-05,\n",
       " 'RK': 2.181557505528612e-07,\n",
       " 'GR': 0.0}"
      ]
     },
     "execution_count": 4,
     "metadata": {},
     "output_type": "execute_result"
    }
   ],
   "source": [
    "def f(x): return x ** 2.0\n",
    "SRGP = {k: f(v) for k, v in SGP.items()}\n",
    "SRGP"
   ]
  },
  {
   "cell_type": "markdown",
   "metadata": {},
   "source": [
    "## Debugging\n",
    "\n",
    "Probabilities (and statistics as a consequence) is the science of **counting**. Just build your universe of all possible outcomes, and ***count***!\n",
    "\n",
    "Let's do some **debugging**. Let's display results as a 2D grid of outcomes. A cell will be colored **white** if Mercedes does not win two races, **yellow** if Mercedes wins two races but not with a least one win on a rainy day, and **green** if Mercedes wins two races with at least one win on a rainy day. "
   ]
  },
  {
   "cell_type": "markdown",
   "metadata": {},
   "source": [
    "Let's reduce the amount of data for our debugging (you always do this in data science: Always test with a smaller amount of rows!), to just Mercedes, Ferrari, and Renault. ***You always debug with less data***! And I picked these teams because they cover the range of wins: a lot, medium, very few. I'll also reduce weather to (r)ain, and (s)un."
   ]
  },
  {
   "cell_type": "code",
   "execution_count": 5,
   "metadata": {},
   "outputs": [],
   "source": [
    "def Uniform(outcomes): return ProbDist({event: 1 for event in outcomes})\n",
    "\n",
    "def joint(A, B, sep=' '):\n",
    "    \"\"\"The joint distribution of two independent probability distributions. \n",
    "    Result is all entries of the form {a+sep+b: P(a)*P(b)}\"\"\"\n",
    "    return ProbDist({a + sep + b: A[a] * B[b]\n",
    "                    for a in A\n",
    "                    for b in B})\n",
    "\n",
    "def next_mercedes_win_p(outcome): return outcome.count(' LH') + outcome.count(' VB') == 1\n",
    "def one_mercedes_win_p(outcome): return outcome.count('LH') + outcome.count('VB') >= 1\n",
    "def two_mercedes_wins_p(outcome): return outcome.count('LH') + outcome.count('VB') == 2\n",
    "\n",
    "def at_least_one_Mercedes_win_on_a_rainy_day(outcome): return 'LHr' in outcome or 'VBr' in outcome"
   ]
  },
  {
   "cell_type": "code",
   "execution_count": 6,
   "metadata": {},
   "outputs": [
    {
     "data": {
      "text/plain": [
       "{'LH': 0.3095952023988006,\n",
       " 'VB': 0.24437781109445278,\n",
       " 'CL': 0.19790104947526238,\n",
       " 'SV': 0.17991004497751126,\n",
       " 'DR': 0.04047976011994003,\n",
       " 'NH': 0.027736131934032984}"
      ]
     },
     "execution_count": 6,
     "metadata": {},
     "output_type": "execute_result"
    }
   ],
   "source": [
    "# probability of winning one race. Mercedes is LH and VB\n",
    "SGPr = ProbDist(\n",
    "    LH = 413,\n",
    "    VB = 326,\n",
    "    CL = 264,\n",
    "    SV = 240,\n",
    "    DR = 54,\n",
    "    NH = 37)\n",
    "SGPr"
   ]
  },
  {
   "cell_type": "code",
   "execution_count": 7,
   "metadata": {},
   "outputs": [
    {
     "data": {
      "text/plain": [
       "{'LHr': 0.15479760119940028,\n",
       " 'LHs': 0.15479760119940028,\n",
       " 'VBr': 0.12218890554722636,\n",
       " 'VBs': 0.12218890554722636,\n",
       " 'CLr': 0.09895052473763116,\n",
       " 'CLs': 0.09895052473763116,\n",
       " 'SVr': 0.08995502248875561,\n",
       " 'SVs': 0.08995502248875561,\n",
       " 'DRr': 0.02023988005997001,\n",
       " 'DRs': 0.02023988005997001,\n",
       " 'NHr': 0.013868065967016488,\n",
       " 'NHs': 0.013868065967016488}"
      ]
     },
     "execution_count": 7,
     "metadata": {},
     "output_type": "execute_result"
    }
   ],
   "source": [
    "# probability of winning a race on a specific weather condition\n",
    "SGPrw  = joint(SGPr, Uniform('rs'), '') #care about the weather\n",
    "SGPrw"
   ]
  },
  {
   "cell_type": "code",
   "execution_count": 8,
   "metadata": {},
   "outputs": [
    {
     "data": {
      "text/plain": [
       "144"
      ]
     },
     "execution_count": 8,
     "metadata": {},
     "output_type": "execute_result"
    }
   ],
   "source": [
    "# probability of winning two races on specific weather conditions\n",
    "SRGPrw  = joint(SGPrw, SGPrw)\n",
    "len(SRGPrw)"
   ]
  },
  {
   "cell_type": "markdown",
   "metadata": {},
   "source": [
    "Ok, I can work with 12 x 12 data points, they won't fry my kernel. What do they look like?"
   ]
  },
  {
   "cell_type": "code",
   "execution_count": 9,
   "metadata": {},
   "outputs": [
    {
     "data": {
      "text/plain": [
       "['CLs LHr',\n",
       " 'LHs VBs',\n",
       " 'VBr LHr',\n",
       " 'VBs LHs',\n",
       " 'VBr NHs',\n",
       " 'NHr VBs',\n",
       " 'SVs DRs',\n",
       " 'NHs VBr',\n",
       " 'NHr LHr',\n",
       " 'DRs SVr']"
      ]
     },
     "execution_count": 9,
     "metadata": {},
     "output_type": "execute_result"
    }
   ],
   "source": [
    "import random\n",
    "random.sample(list(SRGPrw), 10)"
   ]
  },
  {
   "cell_type": "markdown",
   "metadata": {},
   "source": [
    "Let's do some plotting. Machine learning is all about *geometry* (specifically, building outcome manifolds in state space that represent the surface joining all possible outcomes). That is why we debug everything with pictures.\n",
    "\n",
    "Let's plot all possible outcomes of our discrete probability distribution on a grid, and color cells in green and yellow depending on two respective predicates. If one is true, color the cell any color (yellow or green), if the other is true *as well*, color the cell green."
   ]
  },
  {
   "cell_type": "code",
   "execution_count": 10,
   "metadata": {},
   "outputs": [],
   "source": [
    "from IPython.display import HTML\n",
    "\n",
    "def Pgrid(event, condition, dist):\n",
    "    def first_half(s): return s[:len(s)//2]\n",
    "    firsts = sorted(set(map(first_half, dist)))\n",
    "    return HTML('<table>' +\n",
    "                cat(row(first, event, dist, condition) for first in firsts) +\n",
    "                '</table>')\n",
    "\n",
    "def row(first, event, dist, condition):\n",
    "    \"Display a row where the first race result is paired with each of the possible second race results.\"\n",
    "    thisrow = sorted(outcome for outcome in dist if outcome.startswith(first))\n",
    "    return '<tr>' + cat(cell(outcome, event, condition) for outcome in thisrow) + '</tr>'\n",
    "\n",
    "def cell(outcome, event, condition): \n",
    "    \"Display outcome in appropriate color.\"\n",
    "    color = ('lightgreen' if event(outcome) and condition(outcome) else\n",
    "             'yellow' if condition(outcome) else\n",
    "             'white')\n",
    "    return '<td style=\"background-color: {}\">{}</td>'.format(color, outcome)    \n",
    "\n",
    "cat = ''.join"
   ]
  },
  {
   "cell_type": "code",
   "execution_count": 11,
   "metadata": {},
   "outputs": [
    {
     "data": {
      "text/html": [
       "<table><tr><td style=\"background-color: white\">CLr CLr</td><td style=\"background-color: white\">CLr CLs</td><td style=\"background-color: white\">CLr DRr</td><td style=\"background-color: white\">CLr DRs</td><td style=\"background-color: yellow\">CLr LHr</td><td style=\"background-color: white\">CLr LHs</td><td style=\"background-color: white\">CLr NHr</td><td style=\"background-color: white\">CLr NHs</td><td style=\"background-color: white\">CLr SVr</td><td style=\"background-color: white\">CLr SVs</td><td style=\"background-color: yellow\">CLr VBr</td><td style=\"background-color: white\">CLr VBs</td></tr><tr><td style=\"background-color: white\">CLs CLr</td><td style=\"background-color: white\">CLs CLs</td><td style=\"background-color: white\">CLs DRr</td><td style=\"background-color: white\">CLs DRs</td><td style=\"background-color: yellow\">CLs LHr</td><td style=\"background-color: white\">CLs LHs</td><td style=\"background-color: white\">CLs NHr</td><td style=\"background-color: white\">CLs NHs</td><td style=\"background-color: white\">CLs SVr</td><td style=\"background-color: white\">CLs SVs</td><td style=\"background-color: yellow\">CLs VBr</td><td style=\"background-color: white\">CLs VBs</td></tr><tr><td style=\"background-color: white\">DRr CLr</td><td style=\"background-color: white\">DRr CLs</td><td style=\"background-color: white\">DRr DRr</td><td style=\"background-color: white\">DRr DRs</td><td style=\"background-color: yellow\">DRr LHr</td><td style=\"background-color: white\">DRr LHs</td><td style=\"background-color: white\">DRr NHr</td><td style=\"background-color: white\">DRr NHs</td><td style=\"background-color: white\">DRr SVr</td><td style=\"background-color: white\">DRr SVs</td><td style=\"background-color: yellow\">DRr VBr</td><td style=\"background-color: white\">DRr VBs</td></tr><tr><td style=\"background-color: white\">DRs CLr</td><td style=\"background-color: white\">DRs CLs</td><td style=\"background-color: white\">DRs DRr</td><td style=\"background-color: white\">DRs DRs</td><td style=\"background-color: yellow\">DRs LHr</td><td style=\"background-color: white\">DRs LHs</td><td style=\"background-color: white\">DRs NHr</td><td style=\"background-color: white\">DRs NHs</td><td style=\"background-color: white\">DRs SVr</td><td style=\"background-color: white\">DRs SVs</td><td style=\"background-color: yellow\">DRs VBr</td><td style=\"background-color: white\">DRs VBs</td></tr><tr><td style=\"background-color: yellow\">LHr CLr</td><td style=\"background-color: yellow\">LHr CLs</td><td style=\"background-color: yellow\">LHr DRr</td><td style=\"background-color: yellow\">LHr DRs</td><td style=\"background-color: lightgreen\">LHr LHr</td><td style=\"background-color: lightgreen\">LHr LHs</td><td style=\"background-color: yellow\">LHr NHr</td><td style=\"background-color: yellow\">LHr NHs</td><td style=\"background-color: yellow\">LHr SVr</td><td style=\"background-color: yellow\">LHr SVs</td><td style=\"background-color: lightgreen\">LHr VBr</td><td style=\"background-color: lightgreen\">LHr VBs</td></tr><tr><td style=\"background-color: white\">LHs CLr</td><td style=\"background-color: white\">LHs CLs</td><td style=\"background-color: white\">LHs DRr</td><td style=\"background-color: white\">LHs DRs</td><td style=\"background-color: lightgreen\">LHs LHr</td><td style=\"background-color: white\">LHs LHs</td><td style=\"background-color: white\">LHs NHr</td><td style=\"background-color: white\">LHs NHs</td><td style=\"background-color: white\">LHs SVr</td><td style=\"background-color: white\">LHs SVs</td><td style=\"background-color: lightgreen\">LHs VBr</td><td style=\"background-color: white\">LHs VBs</td></tr><tr><td style=\"background-color: white\">NHr CLr</td><td style=\"background-color: white\">NHr CLs</td><td style=\"background-color: white\">NHr DRr</td><td style=\"background-color: white\">NHr DRs</td><td style=\"background-color: yellow\">NHr LHr</td><td style=\"background-color: white\">NHr LHs</td><td style=\"background-color: white\">NHr NHr</td><td style=\"background-color: white\">NHr NHs</td><td style=\"background-color: white\">NHr SVr</td><td style=\"background-color: white\">NHr SVs</td><td style=\"background-color: yellow\">NHr VBr</td><td style=\"background-color: white\">NHr VBs</td></tr><tr><td style=\"background-color: white\">NHs CLr</td><td style=\"background-color: white\">NHs CLs</td><td style=\"background-color: white\">NHs DRr</td><td style=\"background-color: white\">NHs DRs</td><td style=\"background-color: yellow\">NHs LHr</td><td style=\"background-color: white\">NHs LHs</td><td style=\"background-color: white\">NHs NHr</td><td style=\"background-color: white\">NHs NHs</td><td style=\"background-color: white\">NHs SVr</td><td style=\"background-color: white\">NHs SVs</td><td style=\"background-color: yellow\">NHs VBr</td><td style=\"background-color: white\">NHs VBs</td></tr><tr><td style=\"background-color: white\">SVr CLr</td><td style=\"background-color: white\">SVr CLs</td><td style=\"background-color: white\">SVr DRr</td><td style=\"background-color: white\">SVr DRs</td><td style=\"background-color: yellow\">SVr LHr</td><td style=\"background-color: white\">SVr LHs</td><td style=\"background-color: white\">SVr NHr</td><td style=\"background-color: white\">SVr NHs</td><td style=\"background-color: white\">SVr SVr</td><td style=\"background-color: white\">SVr SVs</td><td style=\"background-color: yellow\">SVr VBr</td><td style=\"background-color: white\">SVr VBs</td></tr><tr><td style=\"background-color: white\">SVs CLr</td><td style=\"background-color: white\">SVs CLs</td><td style=\"background-color: white\">SVs DRr</td><td style=\"background-color: white\">SVs DRs</td><td style=\"background-color: yellow\">SVs LHr</td><td style=\"background-color: white\">SVs LHs</td><td style=\"background-color: white\">SVs NHr</td><td style=\"background-color: white\">SVs NHs</td><td style=\"background-color: white\">SVs SVr</td><td style=\"background-color: white\">SVs SVs</td><td style=\"background-color: yellow\">SVs VBr</td><td style=\"background-color: white\">SVs VBs</td></tr><tr><td style=\"background-color: yellow\">VBr CLr</td><td style=\"background-color: yellow\">VBr CLs</td><td style=\"background-color: yellow\">VBr DRr</td><td style=\"background-color: yellow\">VBr DRs</td><td style=\"background-color: lightgreen\">VBr LHr</td><td style=\"background-color: lightgreen\">VBr LHs</td><td style=\"background-color: yellow\">VBr NHr</td><td style=\"background-color: yellow\">VBr NHs</td><td style=\"background-color: yellow\">VBr SVr</td><td style=\"background-color: yellow\">VBr SVs</td><td style=\"background-color: lightgreen\">VBr VBr</td><td style=\"background-color: lightgreen\">VBr VBs</td></tr><tr><td style=\"background-color: white\">VBs CLr</td><td style=\"background-color: white\">VBs CLs</td><td style=\"background-color: white\">VBs DRr</td><td style=\"background-color: white\">VBs DRs</td><td style=\"background-color: lightgreen\">VBs LHr</td><td style=\"background-color: white\">VBs LHs</td><td style=\"background-color: white\">VBs NHr</td><td style=\"background-color: white\">VBs NHs</td><td style=\"background-color: white\">VBs SVr</td><td style=\"background-color: white\">VBs SVs</td><td style=\"background-color: lightgreen\">VBs VBr</td><td style=\"background-color: white\">VBs VBs</td></tr></table>"
      ],
      "text/plain": [
       "<IPython.core.display.HTML object>"
      ]
     },
     "execution_count": 11,
     "metadata": {},
     "output_type": "execute_result"
    }
   ],
   "source": [
    "# Let's plot the all possible outcomes\n",
    "# white cells: no two mercedes wins\n",
    "# colored cells: at least one mercedes win on a rainy day\n",
    "# green cells: two mercedes wins with at least one of them on a rainy day\n",
    "Pgrid(two_mercedes_wins_p, at_least_one_Mercedes_win_on_a_rainy_day, SRGPrw)"
   ]
  },
  {
   "cell_type": "markdown",
   "metadata": {},
   "source": [
    "Let's ***count***!\n",
    "\n",
    "Number of cells where Mercedes wins at least once on a rainy day = 12 + 12 + (12 - 2) + (12 - 2) = 44\n",
    "Number of cells where Mercedes wins both races = 3 + 3 + 3 + 3 = 12\n",
    "And so probability of two Mercedes wins given that Mercedes won at least once race on a cloudy day is 12 / 44 = 27%.\n",
    "\n",
    "对"
   ]
  },
  {
   "cell_type": "markdown",
   "metadata": {},
   "source": [
    "And now let's color a slightly bigger table. Let's increase the amount of data to Mercedes, Ferrari, Renault, ***and Red Bull***. Also, let's add (c)loudy day."
   ]
  },
  {
   "cell_type": "code",
   "execution_count": 12,
   "metadata": {},
   "outputs": [
    {
     "data": {
      "text/plain": [
       "{'LH': 0.24237089201877934,\n",
       " 'VB': 0.19131455399061034,\n",
       " 'CL': 0.15492957746478872,\n",
       " 'SV': 0.14084507042253522,\n",
       " 'DR': 0.03169014084507042,\n",
       " 'NH': 0.02171361502347418,\n",
       " 'MV': 0.16314553990610328,\n",
       " 'AA': 0.0539906103286385}"
      ]
     },
     "execution_count": 12,
     "metadata": {},
     "output_type": "execute_result"
    }
   ],
   "source": [
    "# probability of winning one race. Mercedes is LH and VB\n",
    "SGPr = ProbDist(\n",
    "    LH = 413,\n",
    "    VB = 326,\n",
    "    CL = 264,\n",
    "    SV = 240,\n",
    "    DR = 54,\n",
    "    NH = 37,\n",
    "    MV = 278,\n",
    "    AA = 92)\n",
    "SGPr"
   ]
  },
  {
   "cell_type": "code",
   "execution_count": 13,
   "metadata": {},
   "outputs": [
    {
     "data": {
      "text/plain": [
       "{'LHr': 0.08079029733959313,\n",
       " 'LHs': 0.08079029733959313,\n",
       " 'LHc': 0.08079029733959313,\n",
       " 'VBr': 0.06377151799687013,\n",
       " 'VBs': 0.06377151799687013,\n",
       " 'VBc': 0.06377151799687013,\n",
       " 'CLr': 0.051643192488262914,\n",
       " 'CLs': 0.051643192488262914,\n",
       " 'CLc': 0.051643192488262914,\n",
       " 'SVr': 0.04694835680751174,\n",
       " 'SVs': 0.04694835680751174,\n",
       " 'SVc': 0.04694835680751174,\n",
       " 'DRr': 0.010563380281690142,\n",
       " 'DRs': 0.010563380281690142,\n",
       " 'DRc': 0.010563380281690142,\n",
       " 'NHr': 0.007237871674491394,\n",
       " 'NHs': 0.007237871674491394,\n",
       " 'NHc': 0.007237871674491394,\n",
       " 'MVr': 0.05438184663536776,\n",
       " 'MVs': 0.05438184663536776,\n",
       " 'MVc': 0.05438184663536776,\n",
       " 'AAr': 0.01799687010954617,\n",
       " 'AAs': 0.01799687010954617,\n",
       " 'AAc': 0.01799687010954617}"
      ]
     },
     "execution_count": 13,
     "metadata": {},
     "output_type": "execute_result"
    }
   ],
   "source": [
    "# probability of winning a race on a specific weather condition\n",
    "SGPrw  = joint(SGPr, Uniform('rsc'), '') #care about the weather\n",
    "SGPrw"
   ]
  },
  {
   "cell_type": "code",
   "execution_count": 14,
   "metadata": {},
   "outputs": [
    {
     "data": {
      "text/plain": [
       "576"
      ]
     },
     "execution_count": 14,
     "metadata": {},
     "output_type": "execute_result"
    }
   ],
   "source": [
    "# probability of winning two races on specific weather conditions\n",
    "SRGPrw  = joint(SGPrw, SGPrw)\n",
    "len(SRGPrw)"
   ]
  },
  {
   "cell_type": "markdown",
   "metadata": {},
   "source": [
    "Yikes, that's a 24 x 24 table, the square of our previous table!"
   ]
  },
  {
   "cell_type": "code",
   "execution_count": 15,
   "metadata": {},
   "outputs": [
    {
     "data": {
      "text/html": [
       "<table><tr><td style=\"background-color: white\">AAc AAc</td><td style=\"background-color: white\">AAc AAr</td><td style=\"background-color: white\">AAc AAs</td><td style=\"background-color: white\">AAc CLc</td><td style=\"background-color: white\">AAc CLr</td><td style=\"background-color: white\">AAc CLs</td><td style=\"background-color: white\">AAc DRc</td><td style=\"background-color: white\">AAc DRr</td><td style=\"background-color: white\">AAc DRs</td><td style=\"background-color: white\">AAc LHc</td><td style=\"background-color: yellow\">AAc LHr</td><td style=\"background-color: white\">AAc LHs</td><td style=\"background-color: white\">AAc MVc</td><td style=\"background-color: white\">AAc MVr</td><td style=\"background-color: white\">AAc MVs</td><td style=\"background-color: white\">AAc NHc</td><td style=\"background-color: white\">AAc NHr</td><td style=\"background-color: white\">AAc NHs</td><td style=\"background-color: white\">AAc SVc</td><td style=\"background-color: white\">AAc SVr</td><td style=\"background-color: white\">AAc SVs</td><td style=\"background-color: white\">AAc VBc</td><td style=\"background-color: yellow\">AAc VBr</td><td style=\"background-color: white\">AAc VBs</td></tr><tr><td style=\"background-color: white\">AAr AAc</td><td style=\"background-color: white\">AAr AAr</td><td style=\"background-color: white\">AAr AAs</td><td style=\"background-color: white\">AAr CLc</td><td style=\"background-color: white\">AAr CLr</td><td style=\"background-color: white\">AAr CLs</td><td style=\"background-color: white\">AAr DRc</td><td style=\"background-color: white\">AAr DRr</td><td style=\"background-color: white\">AAr DRs</td><td style=\"background-color: white\">AAr LHc</td><td style=\"background-color: yellow\">AAr LHr</td><td style=\"background-color: white\">AAr LHs</td><td style=\"background-color: white\">AAr MVc</td><td style=\"background-color: white\">AAr MVr</td><td style=\"background-color: white\">AAr MVs</td><td style=\"background-color: white\">AAr NHc</td><td style=\"background-color: white\">AAr NHr</td><td style=\"background-color: white\">AAr NHs</td><td style=\"background-color: white\">AAr SVc</td><td style=\"background-color: white\">AAr SVr</td><td style=\"background-color: white\">AAr SVs</td><td style=\"background-color: white\">AAr VBc</td><td style=\"background-color: yellow\">AAr VBr</td><td style=\"background-color: white\">AAr VBs</td></tr><tr><td style=\"background-color: white\">AAs AAc</td><td style=\"background-color: white\">AAs AAr</td><td style=\"background-color: white\">AAs AAs</td><td style=\"background-color: white\">AAs CLc</td><td style=\"background-color: white\">AAs CLr</td><td style=\"background-color: white\">AAs CLs</td><td style=\"background-color: white\">AAs DRc</td><td style=\"background-color: white\">AAs DRr</td><td style=\"background-color: white\">AAs DRs</td><td style=\"background-color: white\">AAs LHc</td><td style=\"background-color: yellow\">AAs LHr</td><td style=\"background-color: white\">AAs LHs</td><td style=\"background-color: white\">AAs MVc</td><td style=\"background-color: white\">AAs MVr</td><td style=\"background-color: white\">AAs MVs</td><td style=\"background-color: white\">AAs NHc</td><td style=\"background-color: white\">AAs NHr</td><td style=\"background-color: white\">AAs NHs</td><td style=\"background-color: white\">AAs SVc</td><td style=\"background-color: white\">AAs SVr</td><td style=\"background-color: white\">AAs SVs</td><td style=\"background-color: white\">AAs VBc</td><td style=\"background-color: yellow\">AAs VBr</td><td style=\"background-color: white\">AAs VBs</td></tr><tr><td style=\"background-color: white\">CLc AAc</td><td style=\"background-color: white\">CLc AAr</td><td style=\"background-color: white\">CLc AAs</td><td style=\"background-color: white\">CLc CLc</td><td style=\"background-color: white\">CLc CLr</td><td style=\"background-color: white\">CLc CLs</td><td style=\"background-color: white\">CLc DRc</td><td style=\"background-color: white\">CLc DRr</td><td style=\"background-color: white\">CLc DRs</td><td style=\"background-color: white\">CLc LHc</td><td style=\"background-color: yellow\">CLc LHr</td><td style=\"background-color: white\">CLc LHs</td><td style=\"background-color: white\">CLc MVc</td><td style=\"background-color: white\">CLc MVr</td><td style=\"background-color: white\">CLc MVs</td><td style=\"background-color: white\">CLc NHc</td><td style=\"background-color: white\">CLc NHr</td><td style=\"background-color: white\">CLc NHs</td><td style=\"background-color: white\">CLc SVc</td><td style=\"background-color: white\">CLc SVr</td><td style=\"background-color: white\">CLc SVs</td><td style=\"background-color: white\">CLc VBc</td><td style=\"background-color: yellow\">CLc VBr</td><td style=\"background-color: white\">CLc VBs</td></tr><tr><td style=\"background-color: white\">CLr AAc</td><td style=\"background-color: white\">CLr AAr</td><td style=\"background-color: white\">CLr AAs</td><td style=\"background-color: white\">CLr CLc</td><td style=\"background-color: white\">CLr CLr</td><td style=\"background-color: white\">CLr CLs</td><td style=\"background-color: white\">CLr DRc</td><td style=\"background-color: white\">CLr DRr</td><td style=\"background-color: white\">CLr DRs</td><td style=\"background-color: white\">CLr LHc</td><td style=\"background-color: yellow\">CLr LHr</td><td style=\"background-color: white\">CLr LHs</td><td style=\"background-color: white\">CLr MVc</td><td style=\"background-color: white\">CLr MVr</td><td style=\"background-color: white\">CLr MVs</td><td style=\"background-color: white\">CLr NHc</td><td style=\"background-color: white\">CLr NHr</td><td style=\"background-color: white\">CLr NHs</td><td style=\"background-color: white\">CLr SVc</td><td style=\"background-color: white\">CLr SVr</td><td style=\"background-color: white\">CLr SVs</td><td style=\"background-color: white\">CLr VBc</td><td style=\"background-color: yellow\">CLr VBr</td><td style=\"background-color: white\">CLr VBs</td></tr><tr><td style=\"background-color: white\">CLs AAc</td><td style=\"background-color: white\">CLs AAr</td><td style=\"background-color: white\">CLs AAs</td><td style=\"background-color: white\">CLs CLc</td><td style=\"background-color: white\">CLs CLr</td><td style=\"background-color: white\">CLs CLs</td><td style=\"background-color: white\">CLs DRc</td><td style=\"background-color: white\">CLs DRr</td><td style=\"background-color: white\">CLs DRs</td><td style=\"background-color: white\">CLs LHc</td><td style=\"background-color: yellow\">CLs LHr</td><td style=\"background-color: white\">CLs LHs</td><td style=\"background-color: white\">CLs MVc</td><td style=\"background-color: white\">CLs MVr</td><td style=\"background-color: white\">CLs MVs</td><td style=\"background-color: white\">CLs NHc</td><td style=\"background-color: white\">CLs NHr</td><td style=\"background-color: white\">CLs NHs</td><td style=\"background-color: white\">CLs SVc</td><td style=\"background-color: white\">CLs SVr</td><td style=\"background-color: white\">CLs SVs</td><td style=\"background-color: white\">CLs VBc</td><td style=\"background-color: yellow\">CLs VBr</td><td style=\"background-color: white\">CLs VBs</td></tr><tr><td style=\"background-color: white\">DRc AAc</td><td style=\"background-color: white\">DRc AAr</td><td style=\"background-color: white\">DRc AAs</td><td style=\"background-color: white\">DRc CLc</td><td style=\"background-color: white\">DRc CLr</td><td style=\"background-color: white\">DRc CLs</td><td style=\"background-color: white\">DRc DRc</td><td style=\"background-color: white\">DRc DRr</td><td style=\"background-color: white\">DRc DRs</td><td style=\"background-color: white\">DRc LHc</td><td style=\"background-color: yellow\">DRc LHr</td><td style=\"background-color: white\">DRc LHs</td><td style=\"background-color: white\">DRc MVc</td><td style=\"background-color: white\">DRc MVr</td><td style=\"background-color: white\">DRc MVs</td><td style=\"background-color: white\">DRc NHc</td><td style=\"background-color: white\">DRc NHr</td><td style=\"background-color: white\">DRc NHs</td><td style=\"background-color: white\">DRc SVc</td><td style=\"background-color: white\">DRc SVr</td><td style=\"background-color: white\">DRc SVs</td><td style=\"background-color: white\">DRc VBc</td><td style=\"background-color: yellow\">DRc VBr</td><td style=\"background-color: white\">DRc VBs</td></tr><tr><td style=\"background-color: white\">DRr AAc</td><td style=\"background-color: white\">DRr AAr</td><td style=\"background-color: white\">DRr AAs</td><td style=\"background-color: white\">DRr CLc</td><td style=\"background-color: white\">DRr CLr</td><td style=\"background-color: white\">DRr CLs</td><td style=\"background-color: white\">DRr DRc</td><td style=\"background-color: white\">DRr DRr</td><td style=\"background-color: white\">DRr DRs</td><td style=\"background-color: white\">DRr LHc</td><td style=\"background-color: yellow\">DRr LHr</td><td style=\"background-color: white\">DRr LHs</td><td style=\"background-color: white\">DRr MVc</td><td style=\"background-color: white\">DRr MVr</td><td style=\"background-color: white\">DRr MVs</td><td style=\"background-color: white\">DRr NHc</td><td style=\"background-color: white\">DRr NHr</td><td style=\"background-color: white\">DRr NHs</td><td style=\"background-color: white\">DRr SVc</td><td style=\"background-color: white\">DRr SVr</td><td style=\"background-color: white\">DRr SVs</td><td style=\"background-color: white\">DRr VBc</td><td style=\"background-color: yellow\">DRr VBr</td><td style=\"background-color: white\">DRr VBs</td></tr><tr><td style=\"background-color: white\">DRs AAc</td><td style=\"background-color: white\">DRs AAr</td><td style=\"background-color: white\">DRs AAs</td><td style=\"background-color: white\">DRs CLc</td><td style=\"background-color: white\">DRs CLr</td><td style=\"background-color: white\">DRs CLs</td><td style=\"background-color: white\">DRs DRc</td><td style=\"background-color: white\">DRs DRr</td><td style=\"background-color: white\">DRs DRs</td><td style=\"background-color: white\">DRs LHc</td><td style=\"background-color: yellow\">DRs LHr</td><td style=\"background-color: white\">DRs LHs</td><td style=\"background-color: white\">DRs MVc</td><td style=\"background-color: white\">DRs MVr</td><td style=\"background-color: white\">DRs MVs</td><td style=\"background-color: white\">DRs NHc</td><td style=\"background-color: white\">DRs NHr</td><td style=\"background-color: white\">DRs NHs</td><td style=\"background-color: white\">DRs SVc</td><td style=\"background-color: white\">DRs SVr</td><td style=\"background-color: white\">DRs SVs</td><td style=\"background-color: white\">DRs VBc</td><td style=\"background-color: yellow\">DRs VBr</td><td style=\"background-color: white\">DRs VBs</td></tr><tr><td style=\"background-color: white\">LHc AAc</td><td style=\"background-color: white\">LHc AAr</td><td style=\"background-color: white\">LHc AAs</td><td style=\"background-color: white\">LHc CLc</td><td style=\"background-color: white\">LHc CLr</td><td style=\"background-color: white\">LHc CLs</td><td style=\"background-color: white\">LHc DRc</td><td style=\"background-color: white\">LHc DRr</td><td style=\"background-color: white\">LHc DRs</td><td style=\"background-color: white\">LHc LHc</td><td style=\"background-color: lightgreen\">LHc LHr</td><td style=\"background-color: white\">LHc LHs</td><td style=\"background-color: white\">LHc MVc</td><td style=\"background-color: white\">LHc MVr</td><td style=\"background-color: white\">LHc MVs</td><td style=\"background-color: white\">LHc NHc</td><td style=\"background-color: white\">LHc NHr</td><td style=\"background-color: white\">LHc NHs</td><td style=\"background-color: white\">LHc SVc</td><td style=\"background-color: white\">LHc SVr</td><td style=\"background-color: white\">LHc SVs</td><td style=\"background-color: white\">LHc VBc</td><td style=\"background-color: lightgreen\">LHc VBr</td><td style=\"background-color: white\">LHc VBs</td></tr><tr><td style=\"background-color: yellow\">LHr AAc</td><td style=\"background-color: yellow\">LHr AAr</td><td style=\"background-color: yellow\">LHr AAs</td><td style=\"background-color: yellow\">LHr CLc</td><td style=\"background-color: yellow\">LHr CLr</td><td style=\"background-color: yellow\">LHr CLs</td><td style=\"background-color: yellow\">LHr DRc</td><td style=\"background-color: yellow\">LHr DRr</td><td style=\"background-color: yellow\">LHr DRs</td><td style=\"background-color: lightgreen\">LHr LHc</td><td style=\"background-color: lightgreen\">LHr LHr</td><td style=\"background-color: lightgreen\">LHr LHs</td><td style=\"background-color: yellow\">LHr MVc</td><td style=\"background-color: yellow\">LHr MVr</td><td style=\"background-color: yellow\">LHr MVs</td><td style=\"background-color: yellow\">LHr NHc</td><td style=\"background-color: yellow\">LHr NHr</td><td style=\"background-color: yellow\">LHr NHs</td><td style=\"background-color: yellow\">LHr SVc</td><td style=\"background-color: yellow\">LHr SVr</td><td style=\"background-color: yellow\">LHr SVs</td><td style=\"background-color: lightgreen\">LHr VBc</td><td style=\"background-color: lightgreen\">LHr VBr</td><td style=\"background-color: lightgreen\">LHr VBs</td></tr><tr><td style=\"background-color: white\">LHs AAc</td><td style=\"background-color: white\">LHs AAr</td><td style=\"background-color: white\">LHs AAs</td><td style=\"background-color: white\">LHs CLc</td><td style=\"background-color: white\">LHs CLr</td><td style=\"background-color: white\">LHs CLs</td><td style=\"background-color: white\">LHs DRc</td><td style=\"background-color: white\">LHs DRr</td><td style=\"background-color: white\">LHs DRs</td><td style=\"background-color: white\">LHs LHc</td><td style=\"background-color: lightgreen\">LHs LHr</td><td style=\"background-color: white\">LHs LHs</td><td style=\"background-color: white\">LHs MVc</td><td style=\"background-color: white\">LHs MVr</td><td style=\"background-color: white\">LHs MVs</td><td style=\"background-color: white\">LHs NHc</td><td style=\"background-color: white\">LHs NHr</td><td style=\"background-color: white\">LHs NHs</td><td style=\"background-color: white\">LHs SVc</td><td style=\"background-color: white\">LHs SVr</td><td style=\"background-color: white\">LHs SVs</td><td style=\"background-color: white\">LHs VBc</td><td style=\"background-color: lightgreen\">LHs VBr</td><td style=\"background-color: white\">LHs VBs</td></tr><tr><td style=\"background-color: white\">MVc AAc</td><td style=\"background-color: white\">MVc AAr</td><td style=\"background-color: white\">MVc AAs</td><td style=\"background-color: white\">MVc CLc</td><td style=\"background-color: white\">MVc CLr</td><td style=\"background-color: white\">MVc CLs</td><td style=\"background-color: white\">MVc DRc</td><td style=\"background-color: white\">MVc DRr</td><td style=\"background-color: white\">MVc DRs</td><td style=\"background-color: white\">MVc LHc</td><td style=\"background-color: yellow\">MVc LHr</td><td style=\"background-color: white\">MVc LHs</td><td style=\"background-color: white\">MVc MVc</td><td style=\"background-color: white\">MVc MVr</td><td style=\"background-color: white\">MVc MVs</td><td style=\"background-color: white\">MVc NHc</td><td style=\"background-color: white\">MVc NHr</td><td style=\"background-color: white\">MVc NHs</td><td style=\"background-color: white\">MVc SVc</td><td style=\"background-color: white\">MVc SVr</td><td style=\"background-color: white\">MVc SVs</td><td style=\"background-color: white\">MVc VBc</td><td style=\"background-color: yellow\">MVc VBr</td><td style=\"background-color: white\">MVc VBs</td></tr><tr><td style=\"background-color: white\">MVr AAc</td><td style=\"background-color: white\">MVr AAr</td><td style=\"background-color: white\">MVr AAs</td><td style=\"background-color: white\">MVr CLc</td><td style=\"background-color: white\">MVr CLr</td><td style=\"background-color: white\">MVr CLs</td><td style=\"background-color: white\">MVr DRc</td><td style=\"background-color: white\">MVr DRr</td><td style=\"background-color: white\">MVr DRs</td><td style=\"background-color: white\">MVr LHc</td><td style=\"background-color: yellow\">MVr LHr</td><td style=\"background-color: white\">MVr LHs</td><td style=\"background-color: white\">MVr MVc</td><td style=\"background-color: white\">MVr MVr</td><td style=\"background-color: white\">MVr MVs</td><td style=\"background-color: white\">MVr NHc</td><td style=\"background-color: white\">MVr NHr</td><td style=\"background-color: white\">MVr NHs</td><td style=\"background-color: white\">MVr SVc</td><td style=\"background-color: white\">MVr SVr</td><td style=\"background-color: white\">MVr SVs</td><td style=\"background-color: white\">MVr VBc</td><td style=\"background-color: yellow\">MVr VBr</td><td style=\"background-color: white\">MVr VBs</td></tr><tr><td style=\"background-color: white\">MVs AAc</td><td style=\"background-color: white\">MVs AAr</td><td style=\"background-color: white\">MVs AAs</td><td style=\"background-color: white\">MVs CLc</td><td style=\"background-color: white\">MVs CLr</td><td style=\"background-color: white\">MVs CLs</td><td style=\"background-color: white\">MVs DRc</td><td style=\"background-color: white\">MVs DRr</td><td style=\"background-color: white\">MVs DRs</td><td style=\"background-color: white\">MVs LHc</td><td style=\"background-color: yellow\">MVs LHr</td><td style=\"background-color: white\">MVs LHs</td><td style=\"background-color: white\">MVs MVc</td><td style=\"background-color: white\">MVs MVr</td><td style=\"background-color: white\">MVs MVs</td><td style=\"background-color: white\">MVs NHc</td><td style=\"background-color: white\">MVs NHr</td><td style=\"background-color: white\">MVs NHs</td><td style=\"background-color: white\">MVs SVc</td><td style=\"background-color: white\">MVs SVr</td><td style=\"background-color: white\">MVs SVs</td><td style=\"background-color: white\">MVs VBc</td><td style=\"background-color: yellow\">MVs VBr</td><td style=\"background-color: white\">MVs VBs</td></tr><tr><td style=\"background-color: white\">NHc AAc</td><td style=\"background-color: white\">NHc AAr</td><td style=\"background-color: white\">NHc AAs</td><td style=\"background-color: white\">NHc CLc</td><td style=\"background-color: white\">NHc CLr</td><td style=\"background-color: white\">NHc CLs</td><td style=\"background-color: white\">NHc DRc</td><td style=\"background-color: white\">NHc DRr</td><td style=\"background-color: white\">NHc DRs</td><td style=\"background-color: white\">NHc LHc</td><td style=\"background-color: yellow\">NHc LHr</td><td style=\"background-color: white\">NHc LHs</td><td style=\"background-color: white\">NHc MVc</td><td style=\"background-color: white\">NHc MVr</td><td style=\"background-color: white\">NHc MVs</td><td style=\"background-color: white\">NHc NHc</td><td style=\"background-color: white\">NHc NHr</td><td style=\"background-color: white\">NHc NHs</td><td style=\"background-color: white\">NHc SVc</td><td style=\"background-color: white\">NHc SVr</td><td style=\"background-color: white\">NHc SVs</td><td style=\"background-color: white\">NHc VBc</td><td style=\"background-color: yellow\">NHc VBr</td><td style=\"background-color: white\">NHc VBs</td></tr><tr><td style=\"background-color: white\">NHr AAc</td><td style=\"background-color: white\">NHr AAr</td><td style=\"background-color: white\">NHr AAs</td><td style=\"background-color: white\">NHr CLc</td><td style=\"background-color: white\">NHr CLr</td><td style=\"background-color: white\">NHr CLs</td><td style=\"background-color: white\">NHr DRc</td><td style=\"background-color: white\">NHr DRr</td><td style=\"background-color: white\">NHr DRs</td><td style=\"background-color: white\">NHr LHc</td><td style=\"background-color: yellow\">NHr LHr</td><td style=\"background-color: white\">NHr LHs</td><td style=\"background-color: white\">NHr MVc</td><td style=\"background-color: white\">NHr MVr</td><td style=\"background-color: white\">NHr MVs</td><td style=\"background-color: white\">NHr NHc</td><td style=\"background-color: white\">NHr NHr</td><td style=\"background-color: white\">NHr NHs</td><td style=\"background-color: white\">NHr SVc</td><td style=\"background-color: white\">NHr SVr</td><td style=\"background-color: white\">NHr SVs</td><td style=\"background-color: white\">NHr VBc</td><td style=\"background-color: yellow\">NHr VBr</td><td style=\"background-color: white\">NHr VBs</td></tr><tr><td style=\"background-color: white\">NHs AAc</td><td style=\"background-color: white\">NHs AAr</td><td style=\"background-color: white\">NHs AAs</td><td style=\"background-color: white\">NHs CLc</td><td style=\"background-color: white\">NHs CLr</td><td style=\"background-color: white\">NHs CLs</td><td style=\"background-color: white\">NHs DRc</td><td style=\"background-color: white\">NHs DRr</td><td style=\"background-color: white\">NHs DRs</td><td style=\"background-color: white\">NHs LHc</td><td style=\"background-color: yellow\">NHs LHr</td><td style=\"background-color: white\">NHs LHs</td><td style=\"background-color: white\">NHs MVc</td><td style=\"background-color: white\">NHs MVr</td><td style=\"background-color: white\">NHs MVs</td><td style=\"background-color: white\">NHs NHc</td><td style=\"background-color: white\">NHs NHr</td><td style=\"background-color: white\">NHs NHs</td><td style=\"background-color: white\">NHs SVc</td><td style=\"background-color: white\">NHs SVr</td><td style=\"background-color: white\">NHs SVs</td><td style=\"background-color: white\">NHs VBc</td><td style=\"background-color: yellow\">NHs VBr</td><td style=\"background-color: white\">NHs VBs</td></tr><tr><td style=\"background-color: white\">SVc AAc</td><td style=\"background-color: white\">SVc AAr</td><td style=\"background-color: white\">SVc AAs</td><td style=\"background-color: white\">SVc CLc</td><td style=\"background-color: white\">SVc CLr</td><td style=\"background-color: white\">SVc CLs</td><td style=\"background-color: white\">SVc DRc</td><td style=\"background-color: white\">SVc DRr</td><td style=\"background-color: white\">SVc DRs</td><td style=\"background-color: white\">SVc LHc</td><td style=\"background-color: yellow\">SVc LHr</td><td style=\"background-color: white\">SVc LHs</td><td style=\"background-color: white\">SVc MVc</td><td style=\"background-color: white\">SVc MVr</td><td style=\"background-color: white\">SVc MVs</td><td style=\"background-color: white\">SVc NHc</td><td style=\"background-color: white\">SVc NHr</td><td style=\"background-color: white\">SVc NHs</td><td style=\"background-color: white\">SVc SVc</td><td style=\"background-color: white\">SVc SVr</td><td style=\"background-color: white\">SVc SVs</td><td style=\"background-color: white\">SVc VBc</td><td style=\"background-color: yellow\">SVc VBr</td><td style=\"background-color: white\">SVc VBs</td></tr><tr><td style=\"background-color: white\">SVr AAc</td><td style=\"background-color: white\">SVr AAr</td><td style=\"background-color: white\">SVr AAs</td><td style=\"background-color: white\">SVr CLc</td><td style=\"background-color: white\">SVr CLr</td><td style=\"background-color: white\">SVr CLs</td><td style=\"background-color: white\">SVr DRc</td><td style=\"background-color: white\">SVr DRr</td><td style=\"background-color: white\">SVr DRs</td><td style=\"background-color: white\">SVr LHc</td><td style=\"background-color: yellow\">SVr LHr</td><td style=\"background-color: white\">SVr LHs</td><td style=\"background-color: white\">SVr MVc</td><td style=\"background-color: white\">SVr MVr</td><td style=\"background-color: white\">SVr MVs</td><td style=\"background-color: white\">SVr NHc</td><td style=\"background-color: white\">SVr NHr</td><td style=\"background-color: white\">SVr NHs</td><td style=\"background-color: white\">SVr SVc</td><td style=\"background-color: white\">SVr SVr</td><td style=\"background-color: white\">SVr SVs</td><td style=\"background-color: white\">SVr VBc</td><td style=\"background-color: yellow\">SVr VBr</td><td style=\"background-color: white\">SVr VBs</td></tr><tr><td style=\"background-color: white\">SVs AAc</td><td style=\"background-color: white\">SVs AAr</td><td style=\"background-color: white\">SVs AAs</td><td style=\"background-color: white\">SVs CLc</td><td style=\"background-color: white\">SVs CLr</td><td style=\"background-color: white\">SVs CLs</td><td style=\"background-color: white\">SVs DRc</td><td style=\"background-color: white\">SVs DRr</td><td style=\"background-color: white\">SVs DRs</td><td style=\"background-color: white\">SVs LHc</td><td style=\"background-color: yellow\">SVs LHr</td><td style=\"background-color: white\">SVs LHs</td><td style=\"background-color: white\">SVs MVc</td><td style=\"background-color: white\">SVs MVr</td><td style=\"background-color: white\">SVs MVs</td><td style=\"background-color: white\">SVs NHc</td><td style=\"background-color: white\">SVs NHr</td><td style=\"background-color: white\">SVs NHs</td><td style=\"background-color: white\">SVs SVc</td><td style=\"background-color: white\">SVs SVr</td><td style=\"background-color: white\">SVs SVs</td><td style=\"background-color: white\">SVs VBc</td><td style=\"background-color: yellow\">SVs VBr</td><td style=\"background-color: white\">SVs VBs</td></tr><tr><td style=\"background-color: white\">VBc AAc</td><td style=\"background-color: white\">VBc AAr</td><td style=\"background-color: white\">VBc AAs</td><td style=\"background-color: white\">VBc CLc</td><td style=\"background-color: white\">VBc CLr</td><td style=\"background-color: white\">VBc CLs</td><td style=\"background-color: white\">VBc DRc</td><td style=\"background-color: white\">VBc DRr</td><td style=\"background-color: white\">VBc DRs</td><td style=\"background-color: white\">VBc LHc</td><td style=\"background-color: lightgreen\">VBc LHr</td><td style=\"background-color: white\">VBc LHs</td><td style=\"background-color: white\">VBc MVc</td><td style=\"background-color: white\">VBc MVr</td><td style=\"background-color: white\">VBc MVs</td><td style=\"background-color: white\">VBc NHc</td><td style=\"background-color: white\">VBc NHr</td><td style=\"background-color: white\">VBc NHs</td><td style=\"background-color: white\">VBc SVc</td><td style=\"background-color: white\">VBc SVr</td><td style=\"background-color: white\">VBc SVs</td><td style=\"background-color: white\">VBc VBc</td><td style=\"background-color: lightgreen\">VBc VBr</td><td style=\"background-color: white\">VBc VBs</td></tr><tr><td style=\"background-color: yellow\">VBr AAc</td><td style=\"background-color: yellow\">VBr AAr</td><td style=\"background-color: yellow\">VBr AAs</td><td style=\"background-color: yellow\">VBr CLc</td><td style=\"background-color: yellow\">VBr CLr</td><td style=\"background-color: yellow\">VBr CLs</td><td style=\"background-color: yellow\">VBr DRc</td><td style=\"background-color: yellow\">VBr DRr</td><td style=\"background-color: yellow\">VBr DRs</td><td style=\"background-color: lightgreen\">VBr LHc</td><td style=\"background-color: lightgreen\">VBr LHr</td><td style=\"background-color: lightgreen\">VBr LHs</td><td style=\"background-color: yellow\">VBr MVc</td><td style=\"background-color: yellow\">VBr MVr</td><td style=\"background-color: yellow\">VBr MVs</td><td style=\"background-color: yellow\">VBr NHc</td><td style=\"background-color: yellow\">VBr NHr</td><td style=\"background-color: yellow\">VBr NHs</td><td style=\"background-color: yellow\">VBr SVc</td><td style=\"background-color: yellow\">VBr SVr</td><td style=\"background-color: yellow\">VBr SVs</td><td style=\"background-color: lightgreen\">VBr VBc</td><td style=\"background-color: lightgreen\">VBr VBr</td><td style=\"background-color: lightgreen\">VBr VBs</td></tr><tr><td style=\"background-color: white\">VBs AAc</td><td style=\"background-color: white\">VBs AAr</td><td style=\"background-color: white\">VBs AAs</td><td style=\"background-color: white\">VBs CLc</td><td style=\"background-color: white\">VBs CLr</td><td style=\"background-color: white\">VBs CLs</td><td style=\"background-color: white\">VBs DRc</td><td style=\"background-color: white\">VBs DRr</td><td style=\"background-color: white\">VBs DRs</td><td style=\"background-color: white\">VBs LHc</td><td style=\"background-color: lightgreen\">VBs LHr</td><td style=\"background-color: white\">VBs LHs</td><td style=\"background-color: white\">VBs MVc</td><td style=\"background-color: white\">VBs MVr</td><td style=\"background-color: white\">VBs MVs</td><td style=\"background-color: white\">VBs NHc</td><td style=\"background-color: white\">VBs NHr</td><td style=\"background-color: white\">VBs NHs</td><td style=\"background-color: white\">VBs SVc</td><td style=\"background-color: white\">VBs SVr</td><td style=\"background-color: white\">VBs SVs</td><td style=\"background-color: white\">VBs VBc</td><td style=\"background-color: lightgreen\">VBs VBr</td><td style=\"background-color: white\">VBs VBs</td></tr></table>"
      ],
      "text/plain": [
       "<IPython.core.display.HTML object>"
      ]
     },
     "execution_count": 15,
     "metadata": {},
     "output_type": "execute_result"
    }
   ],
   "source": [
    "Pgrid(two_mercedes_wins_p, at_least_one_Mercedes_win_on_a_rainy_day, SRGPrw)"
   ]
  },
  {
   "cell_type": "markdown",
   "metadata": {},
   "source": [
    "But the counting is similar: \n",
    "\n",
    "24 + 24 + (24 - 2) + (24 - 2) = 92 yellow cells\n",
    "5 + 5 + 5 + 5 = 20 green cells\n",
    "\n",
    "So probability of two Mercedes wins given at least one Mercedes win on a rainy day = 20/92 = 22%.\n",
    "\n",
    "And so it makes sense that for all of Formula 1 drivers and all 5 weather conditions, that the probability hovers around 25%. Do you want to run this? Sorry, I am not going to risk frying my kernel, but you can :-)\n"
   ]
  },
  {
   "cell_type": "markdown",
   "metadata": {},
   "source": [
    "Some of you may have gotten confused when I added evidence to a probability distribution, and you wondered how **the heck** are weather conditions related to F1 rankings? But you were ***thinking too hard***!\n",
    "\n",
    "Probability theory is ***just counting***: Given all possible outcomes, 1) **figure out the joint sample space**, and 2) **just count favorable outcomes over all possible outcomes**. Isn't *counting* simpler than math formulae?\n",
    "\n",
    "<center>\n",
    "    <img src=\"ipynb.images/elementary.png\" width=300 />\n",
    "</center>"
   ]
  },
  {
   "cell_type": "markdown",
   "metadata": {},
   "source": [
    "But you know what's the strangest thing? A Mercedes win on a rainy day is understandable, because Mercedes has great Pirelli tires, and once I figure that out, I'm ready to bet on Mercedes on rainy days. But if i told you that Mercedes wins in Russia on the day it rains... in Australia (not on the race track), and that there are 5 possible weather conditions in Australia, *the same listing of cells above holds*! Same sample space, same favorable outcomes and unfavorable ones!\n",
    "\n",
    "<center>\n",
    "    <img src=\"ipynb.images/cmon-iceage.png\" width=200 />\n",
    "</center>\n",
    "\n",
    "You may say... \"Wait a minute, if this theory that you call probability theory gives me illogical answers, how can I trust it\"? \n",
    "\n",
    "Probability theory is **mathematically sound**, but it all comes down to ***the model you apply it to***. \n",
    "\n",
    "If your sample space is the joint distribution of F1 drivers, and.. weather conditions **in Australia**, then you've probably built the ***wrong statistical model***, and there ain't a single Machine Learning algorithm that will help you here! *Junk in, junk out*. But weather on race tracks and F1 racing, that does make sense, right? Skills of drivers, performance of tires..\n",
    "\n",
    "That is why the **model** is so important in Data Science, why we're spending so much time talking about **models**. \n",
    "\n",
    "Before you start applying statistics to data, or feeding data into a Machine, you need to ***work on your model***. In the case of discrete random variables, your pdf is a **dictionary**, much like our Danish or Formula 1 examples: Even though you have *some* data based on *some* experiment, you still need to build a model with joint distributions to complete your sample space for the problem at hand. In the case of continuous random variables your state space is most often infinite (countable or uncountable) and you need to build a much denser model. In fact, a high dimensional manifold in state space.\n",
    "\n",
    "**Statistics** is the field of mathematics which deals with the understanding and interpretation of **data**. Specifically, you want to find the underlying mechanism that yields the data you're analyzing. You took the first step by learning probability theory. Now we'll begin to catalog all possible probability distributions that lead to seemingly random data (Poisson, gaussian, exponential, etc), and shape models with **Bayesian inference**: \n",
    "\n",
    "- You match the histogram of your data to a pdf on the catalogue, you find its parameters using either point estimates (classical theory) or probabilistic programs like variational inference or Monte Carlo methods for pdf-based estimates. Once you have your analytic model, you may ***extract all kinds of interesting statistics from it*** (instead of from the data).\n",
    "\n",
    "That's what meteorologists do!\n",
    "\n",
    "That is what machines do! They use a deep neural structure to build a curve, which they can then use for prediction. Machine Learning experts have stronger stats foundation than CS undergraduates in a deep learning class. Information theory, in general, requires a *strong* understanding of data and probability (and linear algebra), and anyone interested in becoming a Data Scientist or Machine Learning Engineer needs to develop a deep intuition of statistical (and linear algebra) concepts. That is your journey in this class.\n",
    "\n",
    "In many cases, predictive Machine Learning algorithms are useless in helping with the understanding of data becayse they do not yield their data model. ***Bayesian*** ML changes all that."
   ]
  },
  {
   "cell_type": "code",
   "execution_count": null,
   "metadata": {},
   "outputs": [],
   "source": []
  },
  {
   "cell_type": "code",
   "execution_count": null,
   "metadata": {},
   "outputs": [],
   "source": []
  }
 ],
 "metadata": {
  "kernelspec": {
   "display_name": "Python 3",
   "language": "python",
   "name": "python3"
  },
  "language_info": {
   "codemirror_mode": {
    "name": "ipython",
    "version": 3
   },
   "file_extension": ".py",
   "mimetype": "text/x-python",
   "name": "python",
   "nbconvert_exporter": "python",
   "pygments_lexer": "ipython3",
   "version": "3.7.4"
  }
 },
 "nbformat": 4,
 "nbformat_minor": 4
}
