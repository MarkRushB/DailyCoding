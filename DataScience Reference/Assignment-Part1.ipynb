{
 "cells": [
  {
   "cell_type": "markdown",
   "metadata": {},
   "source": [
    "# Homework Part I\n",
    "\n",
    "1. I have a drug group and a placebo group. I want some quantitative confirmation to see if they produce the ***same*** or ***different*** outcomes: `drug-A` and `placebo-A`.\n",
    "\n",
    "2. I have a drug group and a placebo group: `drug-B` and `placebo-B`. The mean outcome is ***lower*** in the placebo group and I have a theory that may explain this, but I first need to rule out the possibility that the lower outcome is just due to chance.\n",
    "\n",
    "In each case construct (i.e. actually write down) your two hypotheses, decide from how they are worded, whether they are one-tailed or two-tailed, then use statistical tests to assess which you should accept.\n",
    "\n",
    "Hints:\n",
    "\n",
    "* Test data sets for normality (are they pretty, do they have a normal distribution?). Use the test we have not used yet, the D’Agostino & Pearson test to provide probabilities of normality (prettiness).\n",
    "\n",
    "* Test whether means differ significantly: When testing if means are different, you should use use either a two-tailed Mann-Whitney p-value, or a two-tailed T-test p-value, depending on the result of the normality test. Remember that `scipy.stats`'s `Mann-Whitney` function returns a one-tailed p-value.\n",
    "\n",
    "H0:the placebo have SAME effect compared to drug"
   ]
  },
  {
   "cell_type": "code",
   "execution_count": 52,
   "metadata": {},
   "outputs": [],
   "source": [
    "import numpy as np\n",
    "import matplotlib.pyplot as plt\n",
    "from scipy.stats import normaltest\n",
    "import pandas as pd\n",
    "from scipy.stats import ttest_ind\n",
    "from scipy.stats import mannwhitneyu"
   ]
  },
  {
   "cell_type": "markdown",
   "metadata": {},
   "source": [
    "1. **Test the Normaliy**"
   ]
  },
  {
   "cell_type": "code",
   "execution_count": 40,
   "metadata": {},
   "outputs": [],
   "source": [
    "# Read in the records.\n",
    "\n",
    "dA = np.recfromcsv(\"data2/drug-A.csv\", names = None) \n",
    "dB = np.recfromcsv(\"data2/drug-B.csv\", names = None) \n",
    "pA = np.recfromcsv(\"data2/placebo-A.csv\", names = None) \n",
    "pB = np.recfromcsv(\"data2/placebo-B.csv\", names = None) "
   ]
  },
  {
   "cell_type": "code",
   "execution_count": 41,
   "metadata": {},
   "outputs": [
    {
     "name": "stdout",
     "output_type": "stream",
     "text": [
      "Skew =  1.287411721043734\n",
      "H0 -come from a normal distribution: \n",
      "Accept.\n"
     ]
    },
    {
     "data": {
      "text/plain": [
       "<matplotlib.legend.Legend at 0x12e90ca90>"
      ]
     },
     "execution_count": 41,
     "metadata": {},
     "output_type": "execute_result"
    },
    {
     "data": {
      "image/png": "[encoded data removed]",
      "text/plain": [
       "<Figure size 432x288 with 1 Axes>"
      ]
     },
     "metadata": {
      "needs_background": "light"
     },
     "output_type": "display_data"
    }
   ],
   "source": [
    "data = np.array(dA, dtype=float)\n",
    "\n",
    "k2, p = normaltest(data)\n",
    "print (\"Skew = \", k2)\n",
    "print (\"H0 -come from a normal distribution: \")\n",
    "if p<0.05:\n",
    "    print (\"Reject in favor of H1.\")\n",
    "else:\n",
    "    print (\"Accept.\")\n",
    "\n",
    "plt.hist(data, bins=5)\n",
    "plt.legend((\"p-value=%.2g\"%p, ))"
   ]
  },
  {
   "cell_type": "code",
   "execution_count": 42,
   "metadata": {},
   "outputs": [
    {
     "name": "stdout",
     "output_type": "stream",
     "text": [
      "Skew =  20.701784062790804\n",
      "H0 -come from a normal distribution: \n",
      "Reject in favor of H1.\n"
     ]
    },
    {
     "data": {
      "text/plain": [
       "<matplotlib.legend.Legend at 0x12c82b810>"
      ]
     },
     "execution_count": 42,
     "metadata": {},
     "output_type": "execute_result"
    },
    {
     "data": {
      "image/png": "[encoded data removed]",
      "text/plain": [
       "<Figure size 432x288 with 1 Axes>"
      ]
     },
     "metadata": {
      "needs_background": "light"
     },
     "output_type": "display_data"
    }
   ],
   "source": [
    "data = np.array(dB, dtype=float)\n",
    "\n",
    "k2, p = normaltest(data)\n",
    "print (\"Skew = \", k2)\n",
    "print (\"H0 -come from a normal distribution: \")\n",
    "if p<0.05:\n",
    "    print (\"Reject in favor of H1.\")\n",
    "else:\n",
    "    print (\"Accept.\")\n",
    "\n",
    "plt.hist(data, bins=5)\n",
    "plt.legend((\"p-value=%.2g\"%p, ))"
   ]
  },
  {
   "cell_type": "code",
   "execution_count": 43,
   "metadata": {},
   "outputs": [
    {
     "name": "stdout",
     "output_type": "stream",
     "text": [
      "Skew =  1.2202628948918977\n",
      "H0 -come from a normal distribution: \n",
      "Accept.\n"
     ]
    },
    {
     "data": {
      "text/plain": [
       "<matplotlib.legend.Legend at 0x12eb06ed0>"
      ]
     },
     "execution_count": 43,
     "metadata": {},
     "output_type": "execute_result"
    },
    {
     "data": {
      "image/png": "[encoded data removed]",
      "text/plain": [
       "<Figure size 432x288 with 1 Axes>"
      ]
     },
     "metadata": {
      "needs_background": "light"
     },
     "output_type": "display_data"
    }
   ],
   "source": [
    "data = np.array(pA, dtype=float)\n",
    "\n",
    "k2, p = normaltest(data)\n",
    "print (\"Skew = \", k2)\n",
    "print (\"H0 -come from a normal distribution: \")\n",
    "if p<0.05:\n",
    "    print (\"Reject in favor of H1.\")\n",
    "else:\n",
    "    print (\"Accept.\")\n",
    "\n",
    "plt.hist(data, bins=5)\n",
    "plt.legend((\"p-value=%.2g\"%p, ))"
   ]
  },
  {
   "cell_type": "code",
   "execution_count": 44,
   "metadata": {},
   "outputs": [
    {
     "name": "stdout",
     "output_type": "stream",
     "text": [
      "Skew =  2.0203883984723765\n",
      "H0 -come from a normal distribution: \n",
      "Accept.\n"
     ]
    },
    {
     "data": {
      "text/plain": [
       "<matplotlib.legend.Legend at 0x12ebbcb90>"
      ]
     },
     "execution_count": 44,
     "metadata": {},
     "output_type": "execute_result"
    },
    {
     "data": {
      "image/png": "[encoded data removed]",
      "text/plain": [
       "<Figure size 432x288 with 1 Axes>"
      ]
     },
     "metadata": {
      "needs_background": "light"
     },
     "output_type": "display_data"
    }
   ],
   "source": [
    "data = np.array(pB, dtype=float)\n",
    "\n",
    "k2, p = normaltest(data)\n",
    "print (\"Skew = \", k2)\n",
    "print (\"H0 -come from a normal distribution: \")\n",
    "if p<0.05:\n",
    "    print (\"Reject in favor of H1.\")\n",
    "else:\n",
    "    print (\"Accept.\")\n",
    "\n",
    "plt.hist(data, bins=5)\n",
    "plt.legend((\"p-value=%.2g\"%p, ))"
   ]
  },
  {
   "cell_type": "markdown",
   "metadata": {},
   "source": [
    "- drugA's distribution is normal  \n",
    "- drugB's distrrbution is **not normal**  \n",
    "- placeboA's distribution is  normal\n",
    "- placeboB's distribution is noamal"
   ]
  },
  {
   "cell_type": "markdown",
   "metadata": {},
   "source": [
    "## I have a drug group and a placebo group. I want some quantitative confirmation to see if they produce the same or different outcomes: drug-A and placebo-A."
   ]
  },
  {
   "cell_type": "markdown",
   "metadata": {},
   "source": [
    "Accorind to the title, We could conclude that it is a **Two-tailed** test  \n",
    "and drugA and placeboA's distributions are normal, so we could use Two-tailed test.\n",
    "\n",
    "- H0: They product the same outcomes\n",
    "- H1: They produce the different outcomes"
   ]
  },
  {
   "cell_type": "code",
   "execution_count": 47,
   "metadata": {},
   "outputs": [
    {
     "data": {
      "text/plain": [
       "array([<matplotlib.axes._subplots.AxesSubplot object at 0x12ecddf90>,\n",
       "       <matplotlib.axes._subplots.AxesSubplot object at 0x12ee7ddd0>],\n",
       "      dtype=object)"
      ]
     },
     "execution_count": 47,
     "metadata": {},
     "output_type": "execute_result"
    },
    {
     "data": {
      "image/png": "[encoded data removed]",
      "text/plain": [
       "<Figure size 432x288 with 2 Axes>"
      ]
     },
     "metadata": {
      "needs_background": "light"
     },
     "output_type": "display_data"
    }
   ],
   "source": [
    "colnames=['outcome'] \n",
    "drugA = pd.read_csv('data2/drug-A.csv',names=colnames, header=None)\n",
    "drugA['group']='drug'\n",
    "placeboA = pd.read_csv('data2/placebo-A.csv',names=colnames, header=None)\n",
    "placeboA['group']='placebo'\n",
    "trial_data = pd.concat([drugA, placeboA], ignore_index=True)\n",
    "trial_data.hist('outcome', by='group')"
   ]
  },
  {
   "cell_type": "code",
   "execution_count": 51,
   "metadata": {},
   "outputs": [
    {
     "name": "stdout",
     "output_type": "stream",
     "text": [
      "38\n",
      "126\n",
      "1.0489473684210526\n",
      "1.1421428571428573\n",
      "1.1205487804878047\n"
     ]
    },
    {
     "data": {
      "text/plain": [
       "Ttest_indResult(statistic=-1.7473607598380747, pvalue=0.08686705804164516)"
      ]
     },
     "execution_count": 51,
     "metadata": {},
     "output_type": "execute_result"
    }
   ],
   "source": [
    "combined_outcome = np.concatenate((drugA.outcome, placeboA.outcome))\n",
    "print(len(drugA.outcome))\n",
    "print(len(placeboA.outcome))\n",
    "print( drugA.outcome.mean() )\n",
    "print( placeboA.outcome.mean() )\n",
    "print( combined_outcome.mean() )\n",
    "\n",
    "# we run the t-test without supposing the variance is the same (more general)\n",
    "ttest_ind(a= drugA.outcome,\n",
    "          b= placeboA.outcome,\n",
    "          equal_var=False)"
   ]
  },
  {
   "cell_type": "markdown",
   "metadata": {},
   "source": [
    "- **0.09 > 0.05**\n",
    "- we should accept the null hypothesis: They product the same outcomes"
   ]
  },
  {
   "cell_type": "markdown",
   "metadata": {},
   "source": [
    "## I have a drug group and a placebo group: drug-B and placebo-B. The mean outcome is lower in the placebo group and I have a theory that may explain this, but I first need to rule out the possibility that the lower outcome is just due to chance."
   ]
  },
  {
   "cell_type": "markdown",
   "metadata": {},
   "source": [
    "Accorind to the title, We could conclude that it is a **One-tailed** test  \n",
    "and drugB's distribution is not normal, so we shoud use scipy.stats's Mann-Whitney\n",
    "\n",
    "- H0: The mean outcome is higher in the placebo group\n",
    "- H1: The mean outcome is low in the placebo group"
   ]
  },
  {
   "cell_type": "code",
   "execution_count": 57,
   "metadata": {},
   "outputs": [
    {
     "data": {
      "text/plain": [
       "array([<matplotlib.axes._subplots.AxesSubplot object at 0x12ee4e850>,\n",
       "       <matplotlib.axes._subplots.AxesSubplot object at 0x12efeccd0>],\n",
       "      dtype=object)"
      ]
     },
     "execution_count": 57,
     "metadata": {},
     "output_type": "execute_result"
    },
    {
     "data": {
      "image/png": "[encoded data removed]",
      "text/plain": [
       "<Figure size 432x288 with 2 Axes>"
      ]
     },
     "metadata": {
      "needs_background": "light"
     },
     "output_type": "display_data"
    }
   ],
   "source": [
    "colnames=['outcome'] \n",
    "drugB = pd.read_csv('data2/drug-B.csv',names=colnames, header=None)\n",
    "drugB['group']='drug'\n",
    "placeboB = pd.read_csv('data2/placebo-B.csv',names=colnames, header=None)\n",
    "placeboB['group']='placebo'\n",
    "trial_data = pd.concat([drugB, placeboB], ignore_index=True)\n",
    "trial_data.hist('outcome', by='group')"
   ]
  },
  {
   "cell_type": "code",
   "execution_count": 78,
   "metadata": {},
   "outputs": [
    {
     "data": {
      "text/plain": [
       "MannwhitneyuResult(statistic=512.5, pvalue=0.021983043515195907)"
      ]
     },
     "execution_count": 78,
     "metadata": {},
     "output_type": "execute_result"
    }
   ],
   "source": [
    "mannwhitneyu(placeboB.outcome, drugB.outcome, use_continuity=True, alternative = 'less')"
   ]
  },
  {
   "cell_type": "markdown",
   "metadata": {},
   "source": [
    "- **0.02 < 0.05**\n",
    "- we should reject the null hypothesis: The mean outcome is higher in the placebo group"
   ]
  },
  {
   "cell_type": "code",
   "execution_count": null,
   "metadata": {},
   "outputs": [],
   "source": []
  }
 ],
 "metadata": {
  "kernelspec": {
   "display_name": "Python 3",
   "language": "python",
   "name": "python3"
  },
  "language_info": {
   "codemirror_mode": {
    "name": "ipython",
    "version": 3
   },
   "file_extension": ".py",
   "mimetype": "text/x-python",
   "name": "python",
   "nbconvert_exporter": "python",
   "pygments_lexer": "ipython3",
   "version": "3.7.4"
  }
 },
 "nbformat": 4,
 "nbformat_minor": 4
}
